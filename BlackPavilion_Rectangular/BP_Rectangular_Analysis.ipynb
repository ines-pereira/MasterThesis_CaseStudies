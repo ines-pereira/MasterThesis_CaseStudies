{
 "cells": [
  {
   "cell_type": "markdown",
   "metadata": {},
   "source": [
    "# Case Study: Black Pavilion with a Rectangular Skyligth"
   ]
  },
  {
   "cell_type": "code",
   "execution_count": 1,
   "metadata": {},
   "outputs": [],
   "source": [
    "# OS functionalities (to deal with files)\n",
    "import os\n",
    "\n",
    "# Enhanced Iteration capabilities (to use cross-products)\n",
    "import itertools\n",
    "\n",
    "# Data processing packages\n",
    "import pandas as pd\n",
    "import numpy as np"
   ]
  },
  {
   "cell_type": "markdown",
   "metadata": {},
   "source": [
    "# Global Setup for Processing Data\n",
    "\n",
    "In this section, we define all the global constants that will be used thourought the script. By defining them up here, we are making this notebook purely parametric and reusable for other projects (as long as the folder structure remains the same)."
   ]
  },
  {
   "cell_type": "code",
   "execution_count": 2,
   "metadata": {},
   "outputs": [
    {
     "data": {
      "text/plain": [
       "['SPEA2_results_01.csv',\n",
       " 'NSGAII_results_01.csv',\n",
       " 'SMPSO_results_01.csv',\n",
       " 'OMOPSO_results_01.csv',\n",
       " 'GPR_SPEA2_results_01.csv',\n",
       " 'GPR_NSGAII_results_01.csv',\n",
       " 'GPR_Random_results_01.csv',\n",
       " 'RF_SPEA2_results_01.csv',\n",
       " 'RF_NSGAII_results_01.csv',\n",
       " 'RF_Random_results_01.csv',\n",
       " 'SPEA2_results_02.csv',\n",
       " 'NSGAII_results_02.csv',\n",
       " 'SMPSO_results_02.csv',\n",
       " 'OMOPSO_results_02.csv',\n",
       " 'GPR_SPEA2_results_02.csv',\n",
       " 'GPR_NSGAII_results_02.csv',\n",
       " 'GPR_Random_results_02.csv',\n",
       " 'RF_SPEA2_results_02.csv',\n",
       " 'RF_NSGAII_results_02.csv',\n",
       " 'RF_Random_results_02.csv',\n",
       " 'SPEA2_results_03.csv',\n",
       " 'NSGAII_results_03.csv',\n",
       " 'SMPSO_results_03.csv',\n",
       " 'OMOPSO_results_03.csv',\n",
       " 'GPR_SPEA2_results_03.csv',\n",
       " 'GPR_NSGAII_results_03.csv',\n",
       " 'GPR_Random_results_03.csv',\n",
       " 'RF_SPEA2_results_03.csv',\n",
       " 'RF_NSGAII_results_03.csv',\n",
       " 'RF_Random_results_03.csv']"
      ]
     },
     "execution_count": 2,
     "metadata": {},
     "output_type": "execute_result"
    }
   ],
   "source": [
    "# Folders Structure\n",
    "base_folder = os.getcwd()\n",
    "results_folder = os.path.join(base_folder, \"algorithms\")\n",
    "indicators_folder = os.path.join(base_folder, \"performance_indicators\")\n",
    "output_folder = \"./output/\"\n",
    "\n",
    "# CSV File Configuration\n",
    "has_header=True\n",
    "files_sep= \",\"\n",
    "file_extension = 'csv'\n",
    "\n",
    "# Optimization Settings\n",
    "runs = [1, 2, 3]\n",
    "nruns = len(runs)\n",
    "max_evals = 200\n",
    "\n",
    "## Problem Definition (in the files) \n",
    "### Variables\n",
    "width = 3\n",
    "length = 4\n",
    "material = 5\n",
    "vars_cols = [width, length, material]\n",
    "\n",
    "### Objectives  \n",
    "sUDI = 6\n",
    "cost = 7\n",
    "objs_cols = [sUDI, cost]\n",
    "\n",
    "relevant_cols = vars_cols + objs_cols\n",
    "\n",
    "## Multi-Objective Optimization Algorithms\n",
    "### Metaheuristics\n",
    "pop_size = 15\n",
    "metaheuristics = [\"SPEA2\", \"NSGAII\", \"SMPSO\", \"OMOPSO\"]\n",
    "\n",
    "### Model Based (or metamodel)\n",
    "metamodels_base = ['GPR', 'RF'] \n",
    "metamodels_strategies = [\"SPEA2\", 'NSGAII', \"Random\"]\n",
    "metamodels_algorithms = [f\"{b}_{s}\" for (b, s) in itertools.product(metamodels_base, metamodels_strategies)]\n",
    "\n",
    "all_algorithms = metaheuristics + metamodels_algorithms\n",
    "n_algorithms = len(all_algorithms)\n",
    "\n",
    "### Filenames with the results \n",
    "filenames = [f\"{a}_results_0{r}.{file_extension}\" for (r, a) in itertools.product(runs, all_algorithms)]\n",
    "filenames"
   ]
  },
  {
   "cell_type": "code",
   "execution_count": 3,
   "metadata": {},
   "outputs": [
    {
     "data": {
      "text/plain": [
       "['SPEA2_results_01.csv',\n",
       " 'OMOPSO_results_01.csv',\n",
       " 'GPR_Random_results_01.csv',\n",
       " 'RF_Random_results_01.csv',\n",
       " 'SMPSO_results_02.csv',\n",
       " 'GPR_NSGAII_results_02.csv',\n",
       " 'RF_NSGAII_results_02.csv',\n",
       " 'NSGAII_results_03.csv',\n",
       " 'GPR_SPEA2_results_03.csv',\n",
       " 'RF_SPEA2_results_03.csv']"
      ]
     },
     "execution_count": 3,
     "metadata": {},
     "output_type": "execute_result"
    }
   ],
   "source": [
    "# Sanity check: verify the file names are what we expected\n",
    "filenames[::3]"
   ]
  },
  {
   "cell_type": "markdown",
   "metadata": {},
   "source": [
    "## Input/Output (IO) Methods \n",
    "\n",
    "In this subsection we create the methods that will be responsible for loading the data from the files. To manipulate the data, we will use pandas.DataFrame data structure. This can be easily manipulated and different statistics can be computed on top of these abstractions. "
   ]
  },
  {
   "cell_type": "code",
   "execution_count": 4,
   "metadata": {},
   "outputs": [],
   "source": [
    "def load_results(filenames, base_folder=results_folder, \n",
    "                 has_header=True, keep_header=False, \n",
    "                 sep=files_sep, usecols=relevant_cols,  \n",
    "                 max_lines=max_evals):\n",
    "    \"\"\"Loads the data from the specified `base_folder` using the `filenames`.\n",
    "    It assumes the filenames\n",
    "    \"\"\"\n",
    "    read_args = { \n",
    "        \"header\": 'infer' if keep_header else None, \n",
    "        \"sep\": sep,\n",
    "        \"usecols\": usecols if usecols else None,\n",
    "        \"skiprows\": 1 if has_header and not keep_header else 0,\n",
    "    }\n",
    "    filepaths = [os.path.join(base_folder, f) for f in filenames]        \n",
    "    if max_lines:\n",
    "        return [pd.read_csv(f, **read_args)[0:max_lines] for f in filepaths]\n",
    "    else:\n",
    "        return [pd.read_csv(f, **read_args) for f in filepaths]"
   ]
  },
  {
   "cell_type": "code",
   "execution_count": 5,
   "metadata": {},
   "outputs": [
    {
     "data": {
      "text/html": [
       "<div>\n",
       "<style scoped>\n",
       "    .dataframe tbody tr th:only-of-type {\n",
       "        vertical-align: middle;\n",
       "    }\n",
       "\n",
       "    .dataframe tbody tr th {\n",
       "        vertical-align: top;\n",
       "    }\n",
       "\n",
       "    .dataframe thead th {\n",
       "        text-align: right;\n",
       "    }\n",
       "</style>\n",
       "<table border=\"1\" class=\"dataframe\">\n",
       "  <thead>\n",
       "    <tr style=\"text-align: right;\">\n",
       "      <th></th>\n",
       "      <th>3</th>\n",
       "      <th>4</th>\n",
       "      <th>5</th>\n",
       "      <th>6</th>\n",
       "      <th>7</th>\n",
       "    </tr>\n",
       "  </thead>\n",
       "  <tbody>\n",
       "    <tr>\n",
       "      <th>0</th>\n",
       "      <td>6.0</td>\n",
       "      <td>99.0</td>\n",
       "      <td>0.0</td>\n",
       "      <td>-66.0</td>\n",
       "      <td>10811.4</td>\n",
       "    </tr>\n",
       "    <tr>\n",
       "      <th>1</th>\n",
       "      <td>2.0</td>\n",
       "      <td>105.0</td>\n",
       "      <td>1.0</td>\n",
       "      <td>-47.0</td>\n",
       "      <td>9834.5</td>\n",
       "    </tr>\n",
       "    <tr>\n",
       "      <th>2</th>\n",
       "      <td>5.0</td>\n",
       "      <td>30.0</td>\n",
       "      <td>1.0</td>\n",
       "      <td>-53.0</td>\n",
       "      <td>6275.0</td>\n",
       "    </tr>\n",
       "    <tr>\n",
       "      <th>3</th>\n",
       "      <td>16.0</td>\n",
       "      <td>109.0</td>\n",
       "      <td>1.0</td>\n",
       "      <td>-40.0</td>\n",
       "      <td>14898.9</td>\n",
       "    </tr>\n",
       "    <tr>\n",
       "      <th>4</th>\n",
       "      <td>24.0</td>\n",
       "      <td>31.0</td>\n",
       "      <td>2.0</td>\n",
       "      <td>-56.0</td>\n",
       "      <td>10166.4</td>\n",
       "    </tr>\n",
       "  </tbody>\n",
       "</table>\n",
       "</div>"
      ],
      "text/plain": [
       "      3      4    5     6        7\n",
       "0   6.0   99.0  0.0 -66.0  10811.4\n",
       "1   2.0  105.0  1.0 -47.0   9834.5\n",
       "2   5.0   30.0  1.0 -53.0   6275.0\n",
       "3  16.0  109.0  1.0 -40.0  14898.9\n",
       "4  24.0   31.0  2.0 -56.0  10166.4"
      ]
     },
     "execution_count": 5,
     "metadata": {},
     "output_type": "execute_result"
    }
   ],
   "source": [
    "# Always confirm whether the results are according to what you expected\n",
    "examples = load_results(filenames, max_lines=max_evals)\n",
    "examples[0].head()"
   ]
  },
  {
   "cell_type": "code",
   "execution_count": 6,
   "metadata": {},
   "outputs": [
    {
     "data": {
      "text/plain": [
       "[]"
      ]
     },
     "execution_count": 6,
     "metadata": {},
     "output_type": "execute_result"
    }
   ],
   "source": [
    "list(filter(lambda x: x > max_evals, [len(e) for e in examples]))"
   ]
  },
  {
   "cell_type": "code",
   "execution_count": 7,
   "metadata": {},
   "outputs": [],
   "source": [
    "def get_run_indices(dfs, run, n_algorithms=n_algorithms):\n",
    "    \"\"\"Returns the dataframes that correspond to the specified `run`. \n",
    "    This assumes that the dataframes are read per run, that means that \n",
    "    if we run two algorithms (SMPSO and SPEA2) for 3 runs each, this \n",
    "    method assumes that it was read in the following order:\n",
    "    \n",
    "    > SMPSO_run1\n",
    "    > SPEA2_run1\n",
    "    > SMPSO_run2\n",
    "    > SPEA2_run2\n",
    "    > SMPSO_run3\n",
    "    > SPEA2_run3\n",
    "    \n",
    "    In that case, this invocation `get_run_indices(dfs, 1, n_algorithms=2)`\n",
    "    will return: \n",
    "        dfs[0:2] \n",
    "    \"\"\"\n",
    "    run -= 1\n",
    "    return dfs[run*n_algorithms:(run+1)*n_algorithms]"
   ]
  },
  {
   "cell_type": "markdown",
   "metadata": {},
   "source": [
    "## Pareto Dominance Methods\n",
    "This section contains methods related to the Pareto optimality (or [Pareto Efficiency](https://en.wikipedia.org/wiki/Pareto_efficiency))."
   ]
  },
  {
   "cell_type": "code",
   "execution_count": 8,
   "metadata": {},
   "outputs": [
    {
     "name": "stdout",
     "output_type": "stream",
     "text": [
      "(Expected) True   (Obtained) True\n",
      "(Expected) True   (Obtained) True\n",
      "(Expected) False  (Obtained) False\n",
      "(Expected) True   (Obtained) True\n",
      "(Expected) False  (Obtained) False\n",
      "(Expected) False  (Obtained) False\n",
      "(Expected) False  (Obtained) False\n"
     ]
    }
   ],
   "source": [
    "# **IMPORTANT NOTE**: This function assumes that your problem is a minimization problem for every objective dimension.\n",
    "def weakly_dominates(v0, v1):\n",
    "    \"\"\"Computes whether v0 dominates v1, i.e., whether at least one objective\n",
    "    is better (in this case, smaller) than some other)\n",
    "    \"\"\"\n",
    "    return np.all(v0 <= v1) and np.any(v0 < v1)\n",
    "    \n",
    "# Sanity Check (:\n",
    "print(\"(Expected) True   (Obtained)\", weakly_dominates(np.array([1, 1]), np.array([2, 2])))\n",
    "print(\"(Expected) True   (Obtained)\", weakly_dominates(np.array([2, 1]), np.array([2, 2])))\n",
    "print(\"(Expected) False  (Obtained)\", weakly_dominates(np.array([2, 2]), np.array([1, 1]))) \n",
    "print(\"(Expected) True   (Obtained)\", weakly_dominates(np.array([1, 2]), np.array([2, 2]))) \n",
    "print(\"(Expected) False  (Obtained)\", weakly_dominates(np.array([1, 3]), np.array([3, 1])))\n",
    "print(\"(Expected) False  (Obtained)\", weakly_dominates(np.array([3, 1]), np.array([1, 3]))) \n",
    "print(\"(Expected) False  (Obtained)\", weakly_dominates(np.array([1, 1]), np.array([1, 1])))  "
   ]
  },
  {
   "cell_type": "code",
   "execution_count": 9,
   "metadata": {},
   "outputs": [],
   "source": [
    "def get_non_dominated(V, dominance=weakly_dominates):\n",
    "    \"\"\"Computes the optimal and non-optimal solutions. \n",
    "    Optimal solutions are called non-dominated and non-optimal \n",
    "    solutions are called denominated.\n",
    "    \"\"\"\n",
    "    nsols, nobjs = V.shape\n",
    "    \n",
    "    dominated = np.zeros((nsols, 1))\n",
    "    dominated_by = np.zeros((nsols, 1))\n",
    "    for i in range(nsols):\n",
    "        for j in range(nsols):\n",
    "            if i != j:\n",
    "                if dominance(V[j], V[i]):\n",
    "                    dominated[i] = 1\n",
    "                    dominated_by[i] = j \n",
    "                    break\n",
    "                    \n",
    "    return dominated, dominated_by"
   ]
  },
  {
   "cell_type": "code",
   "execution_count": 10,
   "metadata": {},
   "outputs": [],
   "source": [
    "def add_isdominated_cols(d, cols=objs_cols):\n",
    "    \"\"\"Adds to the provided dataframe columns for Pareto optimal solution.\"\"\"\n",
    "    df_copy = d.copy()\n",
    "    A = np.array(df_copy[cols])\n",
    "    B, C = get_non_dominated(A)\n",
    "    df_copy[\"isDominated\"] = pd.DataFrame(B, columns=[\"isDominated\"])\n",
    "    df_copy[\"dominatedBy\"] = pd.DataFrame(C, columns=[\"dominatedBy\"])\n",
    "    print(df_copy[\"isDominated\"].value_counts())\n",
    "    return df_copy"
   ]
  },
  {
   "cell_type": "code",
   "execution_count": 11,
   "metadata": {},
   "outputs": [],
   "source": [
    "def get_combined_PF(dfs, drop_cols=relevant_cols, objs_cols=objs_cols):\n",
    "    \"\"\"Computes the combined Pareto front based on a set of input dataframes\"\"\"\n",
    "    all_data = pd.concat(dfs)\n",
    "    if drop_cols:\n",
    "        all_data = all_data.drop_duplicates(drop_cols)\n",
    "    all_data = all_data.reset_index()\n",
    "    return add_isdominated_cols(all_data, cols=objs_cols)"
   ]
  },
  {
   "cell_type": "markdown",
   "metadata": {},
   "source": [
    "## General Methods\n",
    "This section contains general purpose methods that can be used in your scripts."
   ]
  },
  {
   "cell_type": "code",
   "execution_count": 12,
   "metadata": {},
   "outputs": [],
   "source": [
    "def get_symmetric(df, cols):\n",
    "    \"\"\"Computes the symmetric value of the provided `cols` and returns a \n",
    "    copy of the original dataframe where the values of the specified `cols`\n",
    "    are symmetric.\"\"\"\n",
    "    cols = cols if isinstance(cols, (list, tuple)) else [cols]\n",
    "    copy_df = df.copy()\n",
    "    for col in cols:\n",
    "        copy_df[col] = df[col] * -1\n",
    "    return copy_df"
   ]
  },
  {
   "cell_type": "code",
   "execution_count": 13,
   "metadata": {},
   "outputs": [],
   "source": [
    "def unfeasible_ratio_iter(pop_size=pop_size):\n",
    "    \"\"\"Computes the unfeasible ratio per `pop_size`.\"\"\"\n",
    "    results = []\n",
    "    for i in range(0, len(df), pop_size):\n",
    "        results.append(df[df[i:i + pop_size] == 'false']['feasible'].count() / pop_size)\n",
    "    iteration = pd.Series(data = range(1, int(len(df) / pop_size) + 1))\n",
    "    ratio = pd.Series(data = results)\n",
    "    ratio_iter = {'Iteration': iteration, 'Ratio Unfeasible': ratio} \n",
    "    return pd.DataFrame(ratio_iter)"
   ]
  },
  {
   "cell_type": "code",
   "execution_count": 14,
   "metadata": {},
   "outputs": [],
   "source": [
    "def get_last_value_iter(df, col_name='hypervolume', iter_size=pop_size):\n",
    "    \"\"\"Iterates the values in the `df` in slices of `iter_size` and \n",
    "    gets the last value.\n",
    "    \"\"\"\n",
    "    return df[iter_size-1:len(df):iter_size][col_name]"
   ]
  },
  {
   "cell_type": "code",
   "execution_count": 15,
   "metadata": {},
   "outputs": [],
   "source": [
    "def indicators_results(results_runs):\n",
    "    \"\"\"Computes the statistics mean and standard deviation for the specified runs. \n",
    "    \n",
    "    It assumes the `results_run` are organized as follows: \n",
    "        results_runs = [indicators_run1, indicators_run2, indicators_run3], \n",
    "    where: \n",
    "        indicators_run{i} = [indicators_alg_1_run_{i}, ..., indicators_alg_m_run_{i}]\n",
    "    \"\"\"\n",
    "    average_res = [] \n",
    "    std_res = [] \n",
    "    \n",
    "    for algorithm_i in range(n_algorithms):\n",
    "        # Get the same algorithm from all runs (assuming they were collected in the same way)\n",
    "        algorithm_results = [r[algorithm_i] for r in results_runs] \n",
    "        average_res += [pd.concat(algorithm_results, axis=1).mean(axis=1)]\n",
    "        std_res += [pd.concat(algorithm_results, axis=1).std(axis=1)]\n",
    "        \n",
    "    return average_res, std_res"
   ]
  },
  {
   "cell_type": "markdown",
   "metadata": {},
   "source": [
    "## Data Visualization\n",
    "\n",
    "In this section, we visualize the data with visual means. "
   ]
  },
  {
   "cell_type": "code",
   "execution_count": 16,
   "metadata": {},
   "outputs": [
    {
     "data": {
      "text/plain": [
       "'5.1.0'"
      ]
     },
     "execution_count": 16,
     "metadata": {},
     "output_type": "execute_result"
    }
   ],
   "source": [
    "# Visualization Framework\n",
    "import plotly\n",
    "import plotly.graph_objs as go\n",
    "import matplotlib.pyplot as plt\n",
    "from plotly import tools\n",
    "\n",
    "try:\n",
    "    import plotly.plotly as py\n",
    "    plotly.tools.set_credentials_file(username='username', api_key='api_key')\n",
    "except: \n",
    "    import chart_studio\n",
    "    import chart_studio.plotly as py\n",
    "    chart_studio.tools.set_credentials_file(username='username', api_key='api_key')\n",
    "    \n",
    "# Print plotly's version\n",
    "plotly.__version__"
   ]
  },
  {
   "cell_type": "markdown",
   "metadata": {},
   "source": [
    "Let us create the functions that create the graphs"
   ]
  },
  {
   "cell_type": "code",
   "execution_count": 17,
   "metadata": {},
   "outputs": [],
   "source": [
    "def get_colors(n, colorscale=\"viridis\"): \n",
    "    colors = plt.get_cmap(colorscale).colors\n",
    "    colors_idx = np.linspace(0, len(colors)-1, n, dtype=int)\n",
    "    \n",
    "    colors = [colors[idx] for idx in colors_idx]\n",
    "    colors_str = [f\"rgb({r}, {g}, {b})\" for (r, g, b) in colors]\n",
    "    return colors_str"
   ]
  },
  {
   "cell_type": "code",
   "execution_count": 18,
   "metadata": {},
   "outputs": [],
   "source": [
    "def scatter(data, x=None, y=None, names=all_algorithms, \n",
    "            colorscale=\"viridis\", colors=None, \n",
    "            mode=\"markers\", marker_size=5.5, ln_width=1.5, \n",
    "            layout=None):\n",
    "    \n",
    "    def get_x_y(d): \n",
    "        if isinstance(d, pd.Series):\n",
    "            return np.array(d.index) + 1, d.values\n",
    "        elif isinstance(d, pd.DataFrame):\n",
    "            return d[x], d[y]\n",
    "        else: \n",
    "            return np.arange(len(d)), d      \n",
    "        \n",
    "    # ----------------------------------------------\n",
    "    # Normalize input data\n",
    "    # ----------------------------------------------\n",
    "    data = data if isinstance(data, (list, tuple)) else [data]\n",
    "    colors = get_colors(len(data), colorscale) if colorscale else colors\n",
    "    \n",
    "    # ----------------------------------------------\n",
    "    # Determine the data types of provided inputs\n",
    "    # ----------------------------------------------\n",
    "    x_data = []\n",
    "    y_data = []\n",
    "    for d in data:\n",
    "        xx, yy = get_x_y(d)\n",
    "        x_data += [xx]\n",
    "        y_data += [yy]\n",
    "\n",
    "    \n",
    "    traces = []\n",
    "    for (i, (x,y)) in enumerate(zip(x_data, y_data)):\n",
    "        traces += [\n",
    "            go.Scatter(\n",
    "                x = x,\n",
    "                y = y,\n",
    "                mode = mode,\n",
    "                name = names[i],\n",
    "                marker = dict(\n",
    "                    # Markers size\n",
    "                    size = marker_size,\n",
    "                    color=colors[i],\n",
    "                ),\n",
    "                line=dict(\n",
    "                    width=ln_width,\n",
    "                    color=colors[i]\n",
    "            )\n",
    "            )]\n",
    "    \n",
    "    kwargs = {} if not layout else {\"layout\": layout}\n",
    "    fig = go.Figure(data=traces, **kwargs)\n",
    "    return py.iplot(fig, filename='simple_scatter')"
   ]
  },
  {
   "cell_type": "markdown",
   "metadata": {},
   "source": [
    "### Default Layout"
   ]
  },
  {
   "cell_type": "code",
   "execution_count": 19,
   "metadata": {},
   "outputs": [],
   "source": [
    "# Default layout for the pareto fronts graphs\n",
    "layout = go.Layout(\n",
    "    template=\"plotly_white\",\n",
    "    autosize=True,\n",
    "    legend=dict(\n",
    "        orientation='h'\n",
    "    ),\n",
    "    # Define axis\n",
    "    xaxis=dict(\n",
    "        autorange=True,\n",
    "        showgrid=True,\n",
    "        zeroline=False,\n",
    "        showline=True,\n",
    "        ticks='',\n",
    "        showticklabels=True,\n",
    "        tickformat='.'\n",
    "    ),\n",
    "    yaxis=dict(\n",
    "        autorange=True,        \n",
    "        showgrid=True,\n",
    "        zeroline=False,\n",
    "        showline=True,\n",
    "        ticks='',\n",
    "        showticklabels=True,\n",
    "        tickformat='.'\n",
    "    )\n",
    ")"
   ]
  },
  {
   "cell_type": "markdown",
   "metadata": {},
   "source": [
    "### Pareto Front\n",
    "\n",
    "This section contains different functions that explore dataframes having information about the non-dominated and the dominated solutions."
   ]
  },
  {
   "cell_type": "code",
   "execution_count": 20,
   "metadata": {},
   "outputs": [],
   "source": [
    "def create_pf(pf, name, x, y, nd_color='rgb(0,0,255)', ln_width=1.5, marker_size=5.5, d_color=None): \n",
    "    traces = []\n",
    "    \n",
    "    # Create the non dominated trace (in a different color, as specified in *nd_color*)\n",
    "    x_pf = pf[pf['isDominated'] == 0][x] \n",
    "    y_pf = pf[pf['isDominated'] == 0][y]\n",
    "    x_pf, y_pf = zip(*sorted(zip(x_pf, y_pf)))\n",
    "\n",
    "    traces += [\n",
    "        go.Scatter(\n",
    "            x = x_pf,\n",
    "            y = y_pf,\n",
    "            mode = 'lines+markers',\n",
    "            name = name + \" NonDominated\",\n",
    "            opacity=1,\n",
    "\n",
    "            # Layout do marker\n",
    "            marker=dict(\n",
    "                color=nd_color,\n",
    "                size=marker_size\n",
    "            ),\n",
    "            line=dict(\n",
    "                color=nd_color,\n",
    "                width=ln_width\n",
    "            )\n",
    "        )]\n",
    "    \n",
    "    if d_color:\n",
    "        x_npf = pf[pf['isDominated'] == 1][x]\n",
    "        y_npf = pf[pf['isDominated'] == 1][y]\n",
    "        \n",
    "        # Create the dominated trace (in a different color, as specified in *d_color*)\n",
    "        traces +=[\n",
    "            go.Scatter(\n",
    "                x = x_npf,\n",
    "                y = y_npf,\n",
    "                mode = 'markers',\n",
    "                name = name + \" Dominated\",\n",
    "                opacity=0.5,\n",
    "\n",
    "                # Layout do Marker\n",
    "                marker=dict(\n",
    "                    #color = d_color,\n",
    "                    color = nd_color,\n",
    "                    size=marker_size*0.5,\n",
    "                )\n",
    "            )]\n",
    "\n",
    "    return traces"
   ]
  },
  {
   "cell_type": "code",
   "execution_count": 21,
   "metadata": {},
   "outputs": [],
   "source": [
    "def get_traces(pfs, x, y, draw_dominated=True,\n",
    "               names=all_algorithms, colorscale='viridis', colors=None,\n",
    "               tpf=None, tpf_name=\"Combined_PF\", tpf_color='rgb(0,0,0)', \n",
    "               layout=layout):\n",
    "    \n",
    "    pfs = pfs if isinstance(pfs, (list, tuple)) else [pfs]\n",
    "    names = names if isinstance(names, (list, tuple)) else [names]\n",
    "    n_pfs = len(pfs)\n",
    "    colors = get_colors(n_pfs, colorscale) if colorscale else colors\n",
    "    \n",
    "    traces = []\n",
    "    \n",
    "    if tpf is not None:\n",
    "        traces += create_pf(pf=tpf, name=tpf_name, x=x, y=y, ln_width=4, marker_size=10, nd_color=tpf_color)\n",
    "    \n",
    "    for (i, pf) in enumerate(pfs):\n",
    "        d_color = colors[i] if draw_dominated else None\n",
    "        traces += create_pf(pf=pf, name=names[i], x=x, y=y, nd_color=colors[i], d_color=d_color)\n",
    "\n",
    "    fig = go.Figure(data=traces, layout=layout)\n",
    "    return traces"
   ]
  },
  {
   "cell_type": "code",
   "execution_count": 22,
   "metadata": {},
   "outputs": [],
   "source": [
    "def create_pfs(pfs, x, y, draw_dominated=True,\n",
    "               names=all_algorithms, colorscale='viridis', colors=None,\n",
    "               tpf=None, tpf_name=\"Combined_PF\", tpf_color='rgb(0,0,0)', \n",
    "               layout=layout):\n",
    "    \n",
    "    traces = get_traces(pfs, x, y, draw_dominated, names, colorscale, colors, tpf, tpf_name, tpf_color, layout)\n",
    "    \n",
    "    fig = go.Figure(data=traces, layout=layout)\n",
    "    return py.iplot(fig, filename='algorithms_pfs_per_run')"
   ]
  },
  {
   "cell_type": "markdown",
   "metadata": {},
   "source": [
    "---\n",
    "\n",
    "# Analysis"
   ]
  },
  {
   "cell_type": "markdown",
   "metadata": {},
   "source": [
    "## Pareto Front Layouts"
   ]
  },
  {
   "cell_type": "code",
   "execution_count": 23,
   "metadata": {},
   "outputs": [],
   "source": [
    "# Layout for the pareto fronts graphs of the Black Pavilion\n",
    "layout_BP = go.Layout(\n",
    "#     template=\"plotly_white\",\n",
    "    template=\"ggplot2\",\n",
    "    autosize=False,\n",
    "    # Define plot size\n",
    "    width=900, \n",
    "    height=540,\n",
    "    # Legend Position\n",
    "    legend=dict(\n",
    "        orientation='h',\n",
    "        x=-0.01,\n",
    "        y=-0.2\n",
    "    ),\n",
    "    # Define axis\n",
    "    xaxis=dict(\n",
    "        title=\"Cost [€]\",\n",
    "        range=[3500, 11150],\n",
    "        showgrid=True,\n",
    "        zeroline=False,\n",
    "        showline=True,\n",
    "        ticks='',\n",
    "        showticklabels=True,\n",
    "        tickformat='.'\n",
    "    ),\n",
    "    yaxis=dict(\n",
    "        title=\"sUDI [%]\",\n",
    "        range=[40, 90],    \n",
    "        showgrid=True,\n",
    "        zeroline=False,\n",
    "        showline=True,\n",
    "        ticks='',\n",
    "        showticklabels=True,\n",
    "        tickformat='.'\n",
    "    )\n",
    ")"
   ]
  },
  {
   "cell_type": "code",
   "execution_count": 24,
   "metadata": {},
   "outputs": [],
   "source": [
    "# Layout for the pareto fronts graphs of the Black Pavilion - JUST FOR THE GPR_RANDOM ALGORITHM\n",
    "layout_Random = go.Layout(\n",
    "#     template=\"plotly_white\",\n",
    "    template=\"ggplot2\",\n",
    "    autosize=False,\n",
    "    # Define plot size\n",
    "    width=900, \n",
    "    height=540,\n",
    "    # Legend Position\n",
    "    legend=dict(\n",
    "        orientation='h',\n",
    "        x=0,\n",
    "        y=-0.2\n",
    "    ),\n",
    "    # Define axis\n",
    "    xaxis=dict(\n",
    "        title=\"Cost [€]\",\n",
    "        range=[3500, 18000],\n",
    "        showgrid=True,\n",
    "        zeroline=False,\n",
    "        showline=True,\n",
    "        ticks='',\n",
    "        showticklabels=True,\n",
    "        tickformat='.'\n",
    "    ),\n",
    "    yaxis=dict(\n",
    "        title=\"sUDI [%]\",\n",
    "        range=[0, 90],    \n",
    "        showgrid=True,\n",
    "        zeroline=False,\n",
    "        showline=True,\n",
    "        ticks='',\n",
    "        showticklabels=True,\n",
    "        tickformat='.'\n",
    "    )\n",
    ")"
   ]
  },
  {
   "cell_type": "markdown",
   "metadata": {},
   "source": [
    "## Read Algorithms"
   ]
  },
  {
   "cell_type": "code",
   "execution_count": 25,
   "metadata": {},
   "outputs": [],
   "source": [
    "# Read algorithms  \n",
    "dfs = load_results(filenames)"
   ]
  },
  {
   "cell_type": "code",
   "execution_count": 26,
   "metadata": {
    "scrolled": true
   },
   "outputs": [
    {
     "name": "stdout",
     "output_type": "stream",
     "text": [
      "1.0    162\n",
      "0.0     38\n",
      "Name: isDominated, dtype: int64\n",
      "1.0    178\n",
      "0.0     22\n",
      "Name: isDominated, dtype: int64\n",
      "1.0    177\n",
      "0.0     23\n",
      "Name: isDominated, dtype: int64\n",
      "1.0    173\n",
      "0.0     27\n",
      "Name: isDominated, dtype: int64\n",
      "1.0    177\n",
      "0.0     23\n",
      "Name: isDominated, dtype: int64\n",
      "1.0    131\n",
      "0.0     15\n",
      "Name: isDominated, dtype: int64\n",
      "1.0    186\n",
      "0.0     14\n",
      "Name: isDominated, dtype: int64\n",
      "1.0    165\n",
      "0.0     35\n",
      "Name: isDominated, dtype: int64\n",
      "1.0    177\n",
      "0.0     23\n",
      "Name: isDominated, dtype: int64\n",
      "1.0    180\n",
      "0.0     20\n",
      "Name: isDominated, dtype: int64\n",
      "1.0    177\n",
      "0.0     23\n",
      "Name: isDominated, dtype: int64\n",
      "1.0    174\n",
      "0.0     26\n",
      "Name: isDominated, dtype: int64\n",
      "1.0    172\n",
      "0.0     28\n",
      "Name: isDominated, dtype: int64\n",
      "1.0    162\n",
      "0.0     38\n",
      "Name: isDominated, dtype: int64\n",
      "1.0    183\n",
      "0.0     17\n",
      "Name: isDominated, dtype: int64\n",
      "1.0    170\n",
      "0.0     30\n",
      "Name: isDominated, dtype: int64\n",
      "1.0    174\n",
      "0.0     26\n",
      "Name: isDominated, dtype: int64\n",
      "1.0    169\n",
      "0.0     31\n",
      "Name: isDominated, dtype: int64\n",
      "1.0    168\n",
      "0.0     32\n",
      "Name: isDominated, dtype: int64\n",
      "1.0    187\n",
      "0.0     13\n",
      "Name: isDominated, dtype: int64\n",
      "1.0    180\n",
      "0.0     20\n",
      "Name: isDominated, dtype: int64\n",
      "1.0    182\n",
      "0.0     18\n",
      "Name: isDominated, dtype: int64\n",
      "1.0    183\n",
      "0.0     17\n",
      "Name: isDominated, dtype: int64\n",
      "1.0    162\n",
      "0.0     38\n",
      "Name: isDominated, dtype: int64\n",
      "1.0    179\n",
      "0.0     21\n",
      "Name: isDominated, dtype: int64\n",
      "1.0    175\n",
      "0.0     25\n",
      "Name: isDominated, dtype: int64\n",
      "1.0    184\n",
      "0.0     16\n",
      "Name: isDominated, dtype: int64\n",
      "1.0    132\n",
      "0.0     18\n",
      "Name: isDominated, dtype: int64\n",
      "1.0    168\n",
      "0.0     32\n",
      "Name: isDominated, dtype: int64\n",
      "1.0    183\n",
      "0.0     17\n",
      "Name: isDominated, dtype: int64\n"
     ]
    }
   ],
   "source": [
    "# Compute non_dominated_solutions (per run)\n",
    "pfs = [add_isdominated_cols(df) for df in dfs]"
   ]
  },
  {
   "cell_type": "code",
   "execution_count": 27,
   "metadata": {},
   "outputs": [
    {
     "name": "stdout",
     "output_type": "stream",
     "text": [
      "1.0    3007\n",
      "0.0      22\n",
      "Name: isDominated, dtype: int64\n"
     ]
    }
   ],
   "source": [
    "# Computes combined Pareto Front (optimal solutions found from all the algorithms, all the runs)\n",
    "combined_pf = get_combined_PF(dfs, drop_cols=relevant_cols)"
   ]
  },
  {
   "cell_type": "code",
   "execution_count": 28,
   "metadata": {},
   "outputs": [],
   "source": [
    "# Since sUDI is actually a maximization, let us use the symmetric operation \n",
    "pfs = [get_symmetric(pf, sUDI) for pf in pfs]\n",
    "combined_pf = get_symmetric(combined_pf, sUDI)"
   ]
  },
  {
   "cell_type": "markdown",
   "metadata": {},
   "source": [
    "## Plot all obtained solution (1 single plot for all algorithms, all runs) "
   ]
  },
  {
   "cell_type": "code",
   "execution_count": 29,
   "metadata": {},
   "outputs": [
    {
     "data": {
      "text/html": [
       "\n",
       "        <iframe\n",
       "            width=\"900px\"\n",
       "            height=\"540px\"\n",
       "            src=\"https://plotly.com/~goncalo-araujo/1.embed\"\n",
       "            frameborder=\"0\"\n",
       "            allowfullscreen\n",
       "            \n",
       "        ></iframe>\n",
       "        "
      ],
      "text/plain": [
       "<IPython.lib.display.IFrame at 0x1ea56f56700>"
      ]
     },
     "execution_count": 29,
     "metadata": {},
     "output_type": "execute_result"
    }
   ],
   "source": [
    "create_pfs(pfs, x=cost, y=sUDI, tpf=combined_pf, names=filenames, colorscale='plasma', draw_dominated=False, layout=layout_BP)"
   ]
  },
  {
   "cell_type": "code",
   "execution_count": 30,
   "metadata": {
    "scrolled": false
   },
   "outputs": [
    {
     "data": {
      "text/html": [
       "\n",
       "        <iframe\n",
       "            width=\"900px\"\n",
       "            height=\"540px\"\n",
       "            src=\"https://plotly.com/~goncalo-araujo/1.embed\"\n",
       "            frameborder=\"0\"\n",
       "            allowfullscreen\n",
       "            \n",
       "        ></iframe>\n",
       "        "
      ],
      "text/plain": [
       "<IPython.lib.display.IFrame at 0x1ea56f279a0>"
      ]
     },
     "execution_count": 30,
     "metadata": {},
     "output_type": "execute_result"
    }
   ],
   "source": [
    "create_pfs(pfs, x=cost, y=sUDI, tpf=combined_pf, names=filenames, draw_dominated=True, layout=layout_BP)"
   ]
  },
  {
   "cell_type": "markdown",
   "metadata": {},
   "source": [
    "## Plot algorithms per run (3 plot one for each run)"
   ]
  },
  {
   "cell_type": "code",
   "execution_count": 31,
   "metadata": {
    "scrolled": true
   },
   "outputs": [
    {
     "name": "stdout",
     "output_type": "stream",
     "text": [
      "1.0    162\n",
      "0.0     38\n",
      "Name: isDominated, dtype: int64\n",
      "1.0    178\n",
      "0.0     22\n",
      "Name: isDominated, dtype: int64\n",
      "1.0    177\n",
      "0.0     23\n",
      "Name: isDominated, dtype: int64\n",
      "1.0    173\n",
      "0.0     27\n",
      "Name: isDominated, dtype: int64\n",
      "1.0    177\n",
      "0.0     23\n",
      "Name: isDominated, dtype: int64\n",
      "1.0    131\n",
      "0.0     15\n",
      "Name: isDominated, dtype: int64\n",
      "1.0    186\n",
      "0.0     14\n",
      "Name: isDominated, dtype: int64\n",
      "1.0    165\n",
      "0.0     35\n",
      "Name: isDominated, dtype: int64\n",
      "1.0    177\n",
      "0.0     23\n",
      "Name: isDominated, dtype: int64\n",
      "1.0    180\n",
      "0.0     20\n",
      "Name: isDominated, dtype: int64\n",
      "1.0    1277\n",
      "0.0      22\n",
      "Name: isDominated, dtype: int64\n"
     ]
    }
   ],
   "source": [
    "# Get Run 1 \n",
    "dfs_run_1 = get_run_indices(dfs, 1)\n",
    "pfs_run_1 = [add_isdominated_cols(df) for df in dfs_run_1]\n",
    "combined_PF_run_1 = get_combined_PF(pfs_run_1)"
   ]
  },
  {
   "cell_type": "code",
   "execution_count": 32,
   "metadata": {
    "scrolled": true
   },
   "outputs": [
    {
     "name": "stdout",
     "output_type": "stream",
     "text": [
      "1.0    177\n",
      "0.0     23\n",
      "Name: isDominated, dtype: int64\n",
      "1.0    174\n",
      "0.0     26\n",
      "Name: isDominated, dtype: int64\n",
      "1.0    172\n",
      "0.0     28\n",
      "Name: isDominated, dtype: int64\n",
      "1.0    162\n",
      "0.0     38\n",
      "Name: isDominated, dtype: int64\n",
      "1.0    183\n",
      "0.0     17\n",
      "Name: isDominated, dtype: int64\n",
      "1.0    170\n",
      "0.0     30\n",
      "Name: isDominated, dtype: int64\n",
      "1.0    174\n",
      "0.0     26\n",
      "Name: isDominated, dtype: int64\n",
      "1.0    169\n",
      "0.0     31\n",
      "Name: isDominated, dtype: int64\n",
      "1.0    168\n",
      "0.0     32\n",
      "Name: isDominated, dtype: int64\n",
      "1.0    187\n",
      "0.0     13\n",
      "Name: isDominated, dtype: int64\n",
      "1.0    1359\n",
      "0.0      22\n",
      "Name: isDominated, dtype: int64\n"
     ]
    }
   ],
   "source": [
    "# Get Run 2 \n",
    "dfs_run_2 = get_run_indices(dfs, 2)\n",
    "pfs_run_2 = [add_isdominated_cols(df) for df in dfs_run_2]\n",
    "combined_PF_run_2 = get_combined_PF(pfs_run_2)"
   ]
  },
  {
   "cell_type": "code",
   "execution_count": 33,
   "metadata": {
    "scrolled": true
   },
   "outputs": [
    {
     "name": "stdout",
     "output_type": "stream",
     "text": [
      "1.0    180\n",
      "0.0     20\n",
      "Name: isDominated, dtype: int64\n",
      "1.0    182\n",
      "0.0     18\n",
      "Name: isDominated, dtype: int64\n",
      "1.0    183\n",
      "0.0     17\n",
      "Name: isDominated, dtype: int64\n",
      "1.0    162\n",
      "0.0     38\n",
      "Name: isDominated, dtype: int64\n",
      "1.0    179\n",
      "0.0     21\n",
      "Name: isDominated, dtype: int64\n",
      "1.0    175\n",
      "0.0     25\n",
      "Name: isDominated, dtype: int64\n",
      "1.0    184\n",
      "0.0     16\n",
      "Name: isDominated, dtype: int64\n",
      "1.0    132\n",
      "0.0     18\n",
      "Name: isDominated, dtype: int64\n",
      "1.0    168\n",
      "0.0     32\n",
      "Name: isDominated, dtype: int64\n",
      "1.0    183\n",
      "0.0     17\n",
      "Name: isDominated, dtype: int64\n",
      "1.0    1342\n",
      "0.0      21\n",
      "Name: isDominated, dtype: int64\n"
     ]
    }
   ],
   "source": [
    "# Get Run 3 \n",
    "dfs_run_3 = get_run_indices(dfs, 3)\n",
    "pfs_run_3 = [add_isdominated_cols(df) for df in dfs_run_3]\n",
    "combined_PF_run_3 = get_combined_PF(pfs_run_3)"
   ]
  },
  {
   "cell_type": "code",
   "execution_count": 34,
   "metadata": {
    "scrolled": true
   },
   "outputs": [],
   "source": [
    "# Compute combined Pareto Front for run 1\n",
    "pfs_run_1 = [get_symmetric(df, sUDI) for df in pfs_run_1]\n",
    "combined_PF_run_1 = get_symmetric(combined_PF_run_1, sUDI)"
   ]
  },
  {
   "cell_type": "code",
   "execution_count": 35,
   "metadata": {
    "scrolled": true
   },
   "outputs": [],
   "source": [
    "# Compute combined Pareto Front for run 2\n",
    "pfs_run_2 = [get_symmetric(df, sUDI) for df in pfs_run_2]\n",
    "combined_PF_run_2 = get_symmetric(combined_PF_run_2, sUDI)"
   ]
  },
  {
   "cell_type": "code",
   "execution_count": 36,
   "metadata": {
    "scrolled": true
   },
   "outputs": [],
   "source": [
    "# Compute combined Pareto Front for run 3\n",
    "pfs_run_3 = [get_symmetric(df, sUDI) for df in pfs_run_3]\n",
    "combined_PF_run_3 = get_symmetric(combined_PF_run_3, sUDI)"
   ]
  },
  {
   "cell_type": "code",
   "execution_count": 37,
   "metadata": {
    "scrolled": true
   },
   "outputs": [
    {
     "name": "stdout",
     "output_type": "stream",
     "text": [
      "1.0    427\n",
      "0.0     21\n",
      "Name: isDominated, dtype: int64\n",
      "1.0    445\n",
      "0.0     20\n",
      "Name: isDominated, dtype: int64\n",
      "1.0    412\n",
      "0.0     18\n",
      "Name: isDominated, dtype: int64\n",
      "1.0    294\n",
      "0.0     21\n",
      "Name: isDominated, dtype: int64\n",
      "1.0    449\n",
      "0.0     18\n",
      "Name: isDominated, dtype: int64\n",
      "1.0    425\n",
      "0.0     17\n",
      "Name: isDominated, dtype: int64\n",
      "1.0    558\n",
      "0.0     12\n",
      "Name: isDominated, dtype: int64\n",
      "1.0    437\n",
      "0.0     22\n",
      "Name: isDominated, dtype: int64\n",
      "1.0    442\n",
      "0.0     22\n",
      "Name: isDominated, dtype: int64\n",
      "1.0    484\n",
      "0.0     19\n",
      "Name: isDominated, dtype: int64\n"
     ]
    }
   ],
   "source": [
    "# Get All Runs\n",
    "# Before running this run the previous cells (the ones that define dfs_run_{i})\n",
    "pfs_all_runs = []\n",
    "for i in range(n_algorithms):\n",
    "    pf=get_combined_PF([dfs_run_1[i], dfs_run_2[i], dfs_run_3[i]])\n",
    "    pf=get_symmetric(pf, sUDI)\n",
    "    pfs_all_runs.append(pf)"
   ]
  },
  {
   "cell_type": "markdown",
   "metadata": {},
   "source": [
    "### Run 1"
   ]
  },
  {
   "cell_type": "code",
   "execution_count": 38,
   "metadata": {},
   "outputs": [
    {
     "data": {
      "text/html": [
       "\n",
       "        <iframe\n",
       "            width=\"100%\"\n",
       "            height=\"525px\"\n",
       "            src=\"https://plotly.com/~goncalo-araujo/1.embed\"\n",
       "            frameborder=\"0\"\n",
       "            allowfullscreen\n",
       "            \n",
       "        ></iframe>\n",
       "        "
      ],
      "text/plain": [
       "<IPython.lib.display.IFrame at 0x1ea570500d0>"
      ]
     },
     "execution_count": 38,
     "metadata": {},
     "output_type": "execute_result"
    }
   ],
   "source": [
    "# Create plot with combined pareto front retrieved only from all algorithms of run 1\n",
    "create_pfs(pfs_run_1, x=cost, y=sUDI, tpf=combined_PF_run_1, names=all_algorithms, draw_dominated=True)"
   ]
  },
  {
   "cell_type": "code",
   "execution_count": 39,
   "metadata": {},
   "outputs": [
    {
     "data": {
      "text/html": [
       "\n",
       "        <iframe\n",
       "            width=\"100%\"\n",
       "            height=\"525px\"\n",
       "            src=\"https://plotly.com/~goncalo-araujo/1.embed\"\n",
       "            frameborder=\"0\"\n",
       "            allowfullscreen\n",
       "            \n",
       "        ></iframe>\n",
       "        "
      ],
      "text/plain": [
       "<IPython.lib.display.IFrame at 0x1ea56e890d0>"
      ]
     },
     "execution_count": 39,
     "metadata": {},
     "output_type": "execute_result"
    }
   ],
   "source": [
    "# Create plot with combined pareto front retrieved from all runs\n",
    "create_pfs(pfs_run_1, x=cost, y=sUDI, tpf=combined_pf, names=all_algorithms, draw_dominated=True)"
   ]
  },
  {
   "cell_type": "markdown",
   "metadata": {},
   "source": [
    "### Run 2"
   ]
  },
  {
   "cell_type": "code",
   "execution_count": 40,
   "metadata": {},
   "outputs": [
    {
     "data": {
      "text/html": [
       "\n",
       "        <iframe\n",
       "            width=\"900px\"\n",
       "            height=\"540px\"\n",
       "            src=\"https://plotly.com/~goncalo-araujo/1.embed\"\n",
       "            frameborder=\"0\"\n",
       "            allowfullscreen\n",
       "            \n",
       "        ></iframe>\n",
       "        "
      ],
      "text/plain": [
       "<IPython.lib.display.IFrame at 0x1ea57002a30>"
      ]
     },
     "execution_count": 40,
     "metadata": {},
     "output_type": "execute_result"
    }
   ],
   "source": [
    "# Create plot with combined pareto front retrieved only from all algorithms of run 2\n",
    "create_pfs(pfs_run_2, x=cost, y=sUDI, tpf=combined_PF_run_2, names=all_algorithms, draw_dominated=True, layout=layout_BP)"
   ]
  },
  {
   "cell_type": "code",
   "execution_count": 41,
   "metadata": {},
   "outputs": [
    {
     "data": {
      "text/html": [
       "\n",
       "        <iframe\n",
       "            width=\"900px\"\n",
       "            height=\"540px\"\n",
       "            src=\"https://plotly.com/~goncalo-araujo/1.embed\"\n",
       "            frameborder=\"0\"\n",
       "            allowfullscreen\n",
       "            \n",
       "        ></iframe>\n",
       "        "
      ],
      "text/plain": [
       "<IPython.lib.display.IFrame at 0x1ea570be730>"
      ]
     },
     "execution_count": 41,
     "metadata": {},
     "output_type": "execute_result"
    }
   ],
   "source": [
    "# Create plot with combined pareto front retrieved from all runs\n",
    "create_pfs(pfs_run_2, x=cost, y=sUDI, tpf=combined_pf, names=all_algorithms, draw_dominated=True, layout=layout_BP)"
   ]
  },
  {
   "cell_type": "markdown",
   "metadata": {},
   "source": [
    "### Run 3"
   ]
  },
  {
   "cell_type": "code",
   "execution_count": 42,
   "metadata": {},
   "outputs": [
    {
     "data": {
      "text/html": [
       "\n",
       "        <iframe\n",
       "            width=\"900px\"\n",
       "            height=\"540px\"\n",
       "            src=\"https://plotly.com/~goncalo-araujo/1.embed\"\n",
       "            frameborder=\"0\"\n",
       "            allowfullscreen\n",
       "            \n",
       "        ></iframe>\n",
       "        "
      ],
      "text/plain": [
       "<IPython.lib.display.IFrame at 0x1ea5705cb50>"
      ]
     },
     "execution_count": 42,
     "metadata": {},
     "output_type": "execute_result"
    }
   ],
   "source": [
    "# Create plot with combined pareto front retrieved only from all algorithms of run 3\n",
    "create_pfs(pfs_run_3, x=cost, y=sUDI, tpf=combined_PF_run_3, names=all_algorithms, draw_dominated=True, layout=layout_BP)"
   ]
  },
  {
   "cell_type": "code",
   "execution_count": 43,
   "metadata": {},
   "outputs": [
    {
     "data": {
      "text/html": [
       "\n",
       "        <iframe\n",
       "            width=\"900px\"\n",
       "            height=\"540px\"\n",
       "            src=\"https://plotly.com/~goncalo-araujo/1.embed\"\n",
       "            frameborder=\"0\"\n",
       "            allowfullscreen\n",
       "            \n",
       "        ></iframe>\n",
       "        "
      ],
      "text/plain": [
       "<IPython.lib.display.IFrame at 0x1ea570dba60>"
      ]
     },
     "execution_count": 43,
     "metadata": {},
     "output_type": "execute_result"
    }
   ],
   "source": [
    "# Create plot with combined pareto front retrieved from all runs\n",
    "create_pfs(pfs_run_3, x=cost, y=sUDI, tpf=combined_pf, names=all_algorithms, draw_dominated=True, layout=layout_BP)"
   ]
  },
  {
   "cell_type": "markdown",
   "metadata": {},
   "source": [
    "### All Runs"
   ]
  },
  {
   "cell_type": "code",
   "execution_count": 44,
   "metadata": {},
   "outputs": [
    {
     "data": {
      "text/html": [
       "\n",
       "        <iframe\n",
       "            width=\"900px\"\n",
       "            height=\"540px\"\n",
       "            src=\"https://plotly.com/~goncalo-araujo/1.embed\"\n",
       "            frameborder=\"0\"\n",
       "            allowfullscreen\n",
       "            \n",
       "        ></iframe>\n",
       "        "
      ],
      "text/plain": [
       "<IPython.lib.display.IFrame at 0x1ea56f412b0>"
      ]
     },
     "execution_count": 44,
     "metadata": {},
     "output_type": "execute_result"
    }
   ],
   "source": [
    "# Create plot with one PF per algorthim, using the information of the 3 runs\n",
    "create_pfs(pfs_all_runs, x=cost, y=sUDI, tpf=None, names=all_algorithms, \n",
    "           colorscale=None,\n",
    "           colors=['#93e0ed', '#307382', '#2fcce0', '#042780', \n",
    "                   '#fcb447', '#ff8000', '#db3f30', \n",
    "                   '#de7ec9', '#8a39db', '#db30b9'],\n",
    "           draw_dominated=False, layout=layout_BP)"
   ]
  },
  {
   "cell_type": "code",
   "execution_count": 45,
   "metadata": {},
   "outputs": [
    {
     "data": {
      "text/html": [
       "\n",
       "        <iframe\n",
       "            width=\"900px\"\n",
       "            height=\"540px\"\n",
       "            src=\"https://plotly.com/~goncalo-araujo/1.embed\"\n",
       "            frameborder=\"0\"\n",
       "            allowfullscreen\n",
       "            \n",
       "        ></iframe>\n",
       "        "
      ],
      "text/plain": [
       "<IPython.lib.display.IFrame at 0x1ea56f271f0>"
      ]
     },
     "execution_count": 45,
     "metadata": {},
     "output_type": "execute_result"
    }
   ],
   "source": [
    "# Create plot with one PF per algorthim, using the information of the 3 runs and with the combined PF\n",
    "create_pfs(pfs_all_runs, x=cost, y=sUDI, tpf=combined_pf, names=all_algorithms, \n",
    "           colorscale=None,\n",
    "           colors=[\n",
    "                '#2fcce0', '#307382',\n",
    "                '#3FC283', '#046645',\n",
    "                '#ffc800', '#ff8000', '#db3f30', \n",
    "                '#de7ec9', '#db30b9', '#8a39db'],\n",
    "           draw_dominated=True, layout=layout_BP)"
   ]
  },
  {
   "cell_type": "markdown",
   "metadata": {},
   "source": [
    "### The 3 Runs of GPR Random\n",
    "The GPR Random algorithm was the one that showed the worse results for this particular case study, in order to analyse this algorithm in more detail and to directly compare all the runs, the next plots shows the combined results of the three runs for this algorithm. This way it is easier to understand the bad performance for the GPR Random algorithm showed in the plot with the hypervolume average per iteration."
   ]
  },
  {
   "cell_type": "markdown",
   "metadata": {},
   "source": [
    "#### 3 plots, 1 for each run"
   ]
  },
  {
   "cell_type": "code",
   "execution_count": 46,
   "metadata": {},
   "outputs": [
    {
     "data": {
      "text/html": [
       "\n",
       "        <iframe\n",
       "            width=\"900px\"\n",
       "            height=\"540px\"\n",
       "            src=\"https://plotly.com/~goncalo-araujo/1.embed\"\n",
       "            frameborder=\"0\"\n",
       "            allowfullscreen\n",
       "            \n",
       "        ></iframe>\n",
       "        "
      ],
      "text/plain": [
       "<IPython.lib.display.IFrame at 0x1ea56e89f10>"
      ]
     },
     "execution_count": 46,
     "metadata": {},
     "output_type": "execute_result"
    }
   ],
   "source": [
    "# Create plot with combined pareto front and the Pareto front of the GPR_Random run 1\n",
    "create_pfs(pfs_run_1[6], x=cost, y=sUDI, tpf=combined_pf, names=all_algorithms[6],\n",
    "           colorscale=None, colors=['#db3f30'],\n",
    "           draw_dominated=False, layout=layout_Random)"
   ]
  },
  {
   "cell_type": "code",
   "execution_count": 47,
   "metadata": {},
   "outputs": [
    {
     "data": {
      "text/html": [
       "\n",
       "        <iframe\n",
       "            width=\"900px\"\n",
       "            height=\"540px\"\n",
       "            src=\"https://plotly.com/~goncalo-araujo/1.embed\"\n",
       "            frameborder=\"0\"\n",
       "            allowfullscreen\n",
       "            \n",
       "        ></iframe>\n",
       "        "
      ],
      "text/plain": [
       "<IPython.lib.display.IFrame at 0x1ea57186610>"
      ]
     },
     "execution_count": 47,
     "metadata": {},
     "output_type": "execute_result"
    }
   ],
   "source": [
    "# Create plot with combined pareto front and the Pareto front of the GPR_Random run 2\n",
    "create_pfs(pfs_run_2[6], x=cost, y=sUDI, tpf=combined_pf, names=all_algorithms[6],\n",
    "           colorscale=None,\n",
    "           colors=['#db3f30'],\n",
    "           draw_dominated=False, layout=layout_Random)"
   ]
  },
  {
   "cell_type": "code",
   "execution_count": 48,
   "metadata": {},
   "outputs": [
    {
     "data": {
      "text/html": [
       "\n",
       "        <iframe\n",
       "            width=\"900px\"\n",
       "            height=\"540px\"\n",
       "            src=\"https://plotly.com/~goncalo-araujo/1.embed\"\n",
       "            frameborder=\"0\"\n",
       "            allowfullscreen\n",
       "            \n",
       "        ></iframe>\n",
       "        "
      ],
      "text/plain": [
       "<IPython.lib.display.IFrame at 0x1ea5701e0d0>"
      ]
     },
     "execution_count": 48,
     "metadata": {},
     "output_type": "execute_result"
    }
   ],
   "source": [
    "# Create plot with combined pareto front and the Pareto front of the GPR_Random run 3\n",
    "create_pfs(pfs_run_3[6], x=cost, y=sUDI, tpf=combined_pf, names=all_algorithms[6], \n",
    "           colorscale=None,\n",
    "           colors=['#db3f30'],\n",
    "           draw_dominated=False, layout=layout_Random)"
   ]
  },
  {
   "cell_type": "markdown",
   "metadata": {},
   "source": [
    "#### Plot with all the 3 runs"
   ]
  },
  {
   "cell_type": "code",
   "execution_count": 50,
   "metadata": {},
   "outputs": [],
   "source": [
    "traces_run1 = lambda color: get_traces(pfs_run_1[6], x=cost, y=sUDI, tpf=combined_pf, names=all_algorithms[6], \n",
    "                                       colorscale=None,\n",
    "                                       colors=[color],\n",
    "                                       draw_dominated=False)\n",
    "\n",
    "traces_run2 = lambda color: get_traces(pfs_run_2[6], x=cost, y=sUDI, tpf=combined_pf, names=all_algorithms[6], \n",
    "                                       colorscale=None,\n",
    "                                       colors=[color],\n",
    "                                       draw_dominated=False)\n",
    "\n",
    "traces_run3 = lambda color: get_traces(pfs_run_3[6], x=cost, y=sUDI, tpf=combined_pf, names=all_algorithms[6], \n",
    "                                       colorscale=None,\n",
    "                                       colors=[color],\n",
    "                                       draw_dominated=False)"
   ]
  },
  {
   "cell_type": "code",
   "execution_count": 51,
   "metadata": {},
   "outputs": [
    {
     "data": {
      "text/html": [
       "\n",
       "        <iframe\n",
       "            width=\"1200px\"\n",
       "            height=\"500px\"\n",
       "            src=\"https://plotly.com/~goncalo-araujo/62.embed\"\n",
       "            frameborder=\"0\"\n",
       "            allowfullscreen\n",
       "            \n",
       "        ></iframe>\n",
       "        "
      ],
      "text/plain": [
       "<IPython.lib.display.IFrame at 0x1ea5701e340>"
      ]
     },
     "execution_count": 51,
     "metadata": {},
     "output_type": "execute_result"
    }
   ],
   "source": [
    "# Creates Combined PF and the PFs for each run of the GPR Random Algorithm in three different subplots\n",
    "fig=plotly.subplots.make_subplots(rows=1, cols=3, subplot_titles=('Run 1', 'Run 2', 'Run 3'))\n",
    "\n",
    "color='#db3f30'\n",
    "\n",
    "fig.append_trace(traces_run1(color)[0], 1, 1)\n",
    "fig.append_trace(traces_run1(color)[1], 1, 1)\n",
    "fig.append_trace(traces_run2(color)[0], 1, 2)\n",
    "fig.append_trace(traces_run2(color)[1], 1, 2)\n",
    "fig.append_trace(traces_run3(color)[0], 1, 3)\n",
    "fig.append_trace(traces_run3(color)[1], 1, 3)\n",
    "\n",
    "axis_x = xaxis=dict(title=\"Cost [€]\",\n",
    "                    range=[3500, 18000],\n",
    "                    showgrid=True,\n",
    "                    zeroline=False,\n",
    "                    showline=True,\n",
    "                    ticks='',\n",
    "                    showticklabels=True,\n",
    "                    tickformat='.')\n",
    "axis_y = yaxis2=dict(title=\"sUDI [%]\",\n",
    "                     range=[0, 90],\n",
    "                     showgrid=True,\n",
    "                     zeroline=False,\n",
    "                     showline=True,\n",
    "                     ticks='',\n",
    "                     showticklabels=True,\n",
    "                     tickformat='.')\n",
    "\n",
    "fig['layout'].update(height=500, width=1200,\n",
    "                     template=\"plotly_white\",\n",
    "                     legend=dict(\n",
    "                         orientation='h',\n",
    "                         y=-0.2\n",
    "                     ),\n",
    "                     xaxis1=axis_x,\n",
    "                     yaxis1=axis_y,\n",
    "                     xaxis2=axis_x,\n",
    "                     yaxis2=axis_y,\n",
    "                     xaxis3=axis_x,\n",
    "                     yaxis3=axis_y)\n",
    "\n",
    "py.iplot(fig)"
   ]
  },
  {
   "cell_type": "markdown",
   "metadata": {},
   "source": [
    "## Plot the Performance Indicators per iteration\n",
    "After running the optimization processes for the 10 algorithms for 3 runs, we computed their __Hypervolume (HV)__ \\[1\\], as well as other indicators, such as the __Overall Non-dominated Vector Generated (ONVG)__ \\[2\\] and the __Set Spacing (SS)__ \\[3\\]."
   ]
  },
  {
   "cell_type": "code",
   "execution_count": 52,
   "metadata": {},
   "outputs": [],
   "source": [
    "idfs = load_results(filenames, base_folder=indicators_folder, has_header=True, keep_header=True, usecols=None)"
   ]
  },
  {
   "cell_type": "code",
   "execution_count": 53,
   "metadata": {},
   "outputs": [
    {
     "data": {
      "text/html": [
       "<div>\n",
       "<style scoped>\n",
       "    .dataframe tbody tr th:only-of-type {\n",
       "        vertical-align: middle;\n",
       "    }\n",
       "\n",
       "    .dataframe tbody tr th {\n",
       "        vertical-align: top;\n",
       "    }\n",
       "\n",
       "    .dataframe thead th {\n",
       "        text-align: right;\n",
       "    }\n",
       "</style>\n",
       "<table border=\"1\" class=\"dataframe\">\n",
       "  <thead>\n",
       "    <tr style=\"text-align: right;\">\n",
       "      <th></th>\n",
       "      <th>hypervolume</th>\n",
       "      <th>spacing</th>\n",
       "      <th>onvg</th>\n",
       "    </tr>\n",
       "  </thead>\n",
       "  <tbody>\n",
       "    <tr>\n",
       "      <th>0</th>\n",
       "      <td>0.383592</td>\n",
       "      <td>-1.000000</td>\n",
       "      <td>1.0</td>\n",
       "    </tr>\n",
       "    <tr>\n",
       "      <th>1</th>\n",
       "      <td>0.419201</td>\n",
       "      <td>0.000000</td>\n",
       "      <td>2.0</td>\n",
       "    </tr>\n",
       "    <tr>\n",
       "      <th>2</th>\n",
       "      <td>0.572020</td>\n",
       "      <td>0.000000</td>\n",
       "      <td>2.0</td>\n",
       "    </tr>\n",
       "    <tr>\n",
       "      <th>3</th>\n",
       "      <td>0.572020</td>\n",
       "      <td>0.000000</td>\n",
       "      <td>2.0</td>\n",
       "    </tr>\n",
       "    <tr>\n",
       "      <th>4</th>\n",
       "      <td>0.573661</td>\n",
       "      <td>0.080999</td>\n",
       "      <td>3.0</td>\n",
       "    </tr>\n",
       "  </tbody>\n",
       "</table>\n",
       "</div>"
      ],
      "text/plain": [
       "   hypervolume   spacing  onvg\n",
       "0     0.383592 -1.000000   1.0\n",
       "1     0.419201  0.000000   2.0\n",
       "2     0.572020  0.000000   2.0\n",
       "3     0.572020  0.000000   2.0\n",
       "4     0.573661  0.080999   3.0"
      ]
     },
     "execution_count": 53,
     "metadata": {},
     "output_type": "execute_result"
    }
   ],
   "source": [
    "idfs[0].head() # Sanity Check"
   ]
  },
  {
   "cell_type": "code",
   "execution_count": 54,
   "metadata": {},
   "outputs": [],
   "source": [
    "idfs_run_1 = get_run_indices(idfs, 1)\n",
    "idfs_run_2 = get_run_indices(idfs, 2)\n",
    "idfs_run_3 = get_run_indices(idfs, 3)"
   ]
  },
  {
   "cell_type": "code",
   "execution_count": 55,
   "metadata": {},
   "outputs": [],
   "source": [
    "hypervolume_run_1 = [get_last_value_iter(df, col_name='hypervolume') for df in idfs_run_1]\n",
    "hypervolume_run_2 = [get_last_value_iter(df, col_name='hypervolume') for df in idfs_run_2]\n",
    "hypervolume_run_3 = [get_last_value_iter(df, col_name='hypervolume') for df in idfs_run_3]\n",
    "hypervolume_per_run = [hypervolume_run_1, hypervolume_run_2, hypervolume_run_3]"
   ]
  },
  {
   "cell_type": "code",
   "execution_count": 56,
   "metadata": {},
   "outputs": [],
   "source": [
    "onvg_run_1 = [get_last_value_iter(df, col_name='onvg') for df in idfs_run_1]\n",
    "onvg_run_2 = [get_last_value_iter(df, col_name='onvg') for df in idfs_run_2]\n",
    "onvg_run_3 = [get_last_value_iter(df, col_name='onvg') for df in idfs_run_3]\n",
    "onvg_per_run = [onvg_run_1, onvg_run_2, onvg_run_3]"
   ]
  },
  {
   "cell_type": "code",
   "execution_count": 57,
   "metadata": {},
   "outputs": [],
   "source": [
    "spacing_run_1 = [get_last_value_iter(df, col_name='spacing') for df in idfs_run_1]\n",
    "spacing_run_2 = [get_last_value_iter(df, col_name='spacing') for df in idfs_run_2]\n",
    "spacing_run_3 = [get_last_value_iter(df, col_name='spacing') for df in idfs_run_3]\n",
    "spacing_per_run = [spacing_run_1, spacing_run_2, spacing_run_3]"
   ]
  },
  {
   "cell_type": "markdown",
   "metadata": {},
   "source": [
    "### Run 1"
   ]
  },
  {
   "cell_type": "code",
   "execution_count": 58,
   "metadata": {},
   "outputs": [
    {
     "data": {
      "text/html": [
       "\n",
       "        <iframe\n",
       "            width=\"100%\"\n",
       "            height=\"525px\"\n",
       "            src=\"https://plotly.com/~goncalo-araujo/64.embed\"\n",
       "            frameborder=\"0\"\n",
       "            allowfullscreen\n",
       "            \n",
       "        ></iframe>\n",
       "        "
      ],
      "text/plain": [
       "<IPython.lib.display.IFrame at 0x1ea57363e50>"
      ]
     },
     "execution_count": 58,
     "metadata": {},
     "output_type": "execute_result"
    }
   ],
   "source": [
    "scatter(hypervolume_run_1, mode='lines+markers')"
   ]
  },
  {
   "cell_type": "code",
   "execution_count": 59,
   "metadata": {},
   "outputs": [
    {
     "data": {
      "text/html": [
       "\n",
       "        <iframe\n",
       "            width=\"100%\"\n",
       "            height=\"525px\"\n",
       "            src=\"https://plotly.com/~goncalo-araujo/64.embed\"\n",
       "            frameborder=\"0\"\n",
       "            allowfullscreen\n",
       "            \n",
       "        ></iframe>\n",
       "        "
      ],
      "text/plain": [
       "<IPython.lib.display.IFrame at 0x1ea56e5faf0>"
      ]
     },
     "execution_count": 59,
     "metadata": {},
     "output_type": "execute_result"
    }
   ],
   "source": [
    "scatter(onvg_run_1, mode='lines+markers')"
   ]
  },
  {
   "cell_type": "code",
   "execution_count": 60,
   "metadata": {},
   "outputs": [
    {
     "data": {
      "text/html": [
       "\n",
       "        <iframe\n",
       "            width=\"100%\"\n",
       "            height=\"525px\"\n",
       "            src=\"https://plotly.com/~goncalo-araujo/64.embed\"\n",
       "            frameborder=\"0\"\n",
       "            allowfullscreen\n",
       "            \n",
       "        ></iframe>\n",
       "        "
      ],
      "text/plain": [
       "<IPython.lib.display.IFrame at 0x1ea56e5f040>"
      ]
     },
     "execution_count": 60,
     "metadata": {},
     "output_type": "execute_result"
    }
   ],
   "source": [
    "scatter(spacing_run_1, mode='lines+markers')"
   ]
  },
  {
   "cell_type": "markdown",
   "metadata": {},
   "source": [
    "### Run 2"
   ]
  },
  {
   "cell_type": "code",
   "execution_count": 61,
   "metadata": {},
   "outputs": [
    {
     "data": {
      "text/html": [
       "\n",
       "        <iframe\n",
       "            width=\"100%\"\n",
       "            height=\"525px\"\n",
       "            src=\"https://plotly.com/~goncalo-araujo/64.embed\"\n",
       "            frameborder=\"0\"\n",
       "            allowfullscreen\n",
       "            \n",
       "        ></iframe>\n",
       "        "
      ],
      "text/plain": [
       "<IPython.lib.display.IFrame at 0x1ea56f566a0>"
      ]
     },
     "execution_count": 61,
     "metadata": {},
     "output_type": "execute_result"
    }
   ],
   "source": [
    "scatter(hypervolume_run_2, mode='lines+markers')"
   ]
  },
  {
   "cell_type": "code",
   "execution_count": 62,
   "metadata": {},
   "outputs": [
    {
     "data": {
      "text/html": [
       "\n",
       "        <iframe\n",
       "            width=\"100%\"\n",
       "            height=\"525px\"\n",
       "            src=\"https://plotly.com/~goncalo-araujo/64.embed\"\n",
       "            frameborder=\"0\"\n",
       "            allowfullscreen\n",
       "            \n",
       "        ></iframe>\n",
       "        "
      ],
      "text/plain": [
       "<IPython.lib.display.IFrame at 0x1ea56f04eb0>"
      ]
     },
     "execution_count": 62,
     "metadata": {},
     "output_type": "execute_result"
    }
   ],
   "source": [
    "scatter(onvg_run_2, mode='lines+markers')"
   ]
  },
  {
   "cell_type": "code",
   "execution_count": 63,
   "metadata": {},
   "outputs": [
    {
     "data": {
      "text/html": [
       "\n",
       "        <iframe\n",
       "            width=\"100%\"\n",
       "            height=\"525px\"\n",
       "            src=\"https://plotly.com/~goncalo-araujo/64.embed\"\n",
       "            frameborder=\"0\"\n",
       "            allowfullscreen\n",
       "            \n",
       "        ></iframe>\n",
       "        "
      ],
      "text/plain": [
       "<IPython.lib.display.IFrame at 0x1ea57162070>"
      ]
     },
     "execution_count": 63,
     "metadata": {},
     "output_type": "execute_result"
    }
   ],
   "source": [
    "scatter(spacing_run_2, mode='lines+markers')"
   ]
  },
  {
   "cell_type": "markdown",
   "metadata": {},
   "source": [
    "### Run 3"
   ]
  },
  {
   "cell_type": "code",
   "execution_count": 64,
   "metadata": {},
   "outputs": [
    {
     "data": {
      "text/html": [
       "\n",
       "        <iframe\n",
       "            width=\"100%\"\n",
       "            height=\"525px\"\n",
       "            src=\"https://plotly.com/~goncalo-araujo/64.embed\"\n",
       "            frameborder=\"0\"\n",
       "            allowfullscreen\n",
       "            \n",
       "        ></iframe>\n",
       "        "
      ],
      "text/plain": [
       "<IPython.lib.display.IFrame at 0x1ea570dbee0>"
      ]
     },
     "execution_count": 64,
     "metadata": {},
     "output_type": "execute_result"
    }
   ],
   "source": [
    "scatter(hypervolume_run_3, mode='lines+markers')"
   ]
  },
  {
   "cell_type": "code",
   "execution_count": 65,
   "metadata": {},
   "outputs": [
    {
     "data": {
      "text/html": [
       "\n",
       "        <iframe\n",
       "            width=\"100%\"\n",
       "            height=\"525px\"\n",
       "            src=\"https://plotly.com/~goncalo-araujo/64.embed\"\n",
       "            frameborder=\"0\"\n",
       "            allowfullscreen\n",
       "            \n",
       "        ></iframe>\n",
       "        "
      ],
      "text/plain": [
       "<IPython.lib.display.IFrame at 0x1ea57363970>"
      ]
     },
     "execution_count": 65,
     "metadata": {},
     "output_type": "execute_result"
    }
   ],
   "source": [
    "scatter(onvg_run_3, mode='lines+markers')"
   ]
  },
  {
   "cell_type": "code",
   "execution_count": 66,
   "metadata": {
    "scrolled": false
   },
   "outputs": [
    {
     "data": {
      "text/html": [
       "\n",
       "        <iframe\n",
       "            width=\"100%\"\n",
       "            height=\"525px\"\n",
       "            src=\"https://plotly.com/~goncalo-araujo/64.embed\"\n",
       "            frameborder=\"0\"\n",
       "            allowfullscreen\n",
       "            \n",
       "        ></iframe>\n",
       "        "
      ],
      "text/plain": [
       "<IPython.lib.display.IFrame at 0x1ea5744fd00>"
      ]
     },
     "execution_count": 66,
     "metadata": {},
     "output_type": "execute_result"
    }
   ],
   "source": [
    "scatter(spacing_run_3, mode='lines+markers')"
   ]
  },
  {
   "cell_type": "markdown",
   "metadata": {},
   "source": [
    "## Average and Standard Deviation across the 3 runs"
   ]
  },
  {
   "cell_type": "code",
   "execution_count": 67,
   "metadata": {},
   "outputs": [],
   "source": [
    "# Default layout for the pareto fronts graphs\n",
    "layout_indicators = lambda x: go.Layout(\n",
    "        template=\"plotly_white\",\n",
    "        autosize=False,\n",
    "        # Define plot size\n",
    "        width=850,\n",
    "        height=500,\n",
    "        # Legend Position\n",
    "        legend=dict(\n",
    "            orientation='h',\n",
    "            x=0.02,\n",
    "            y=-0.25\n",
    "        ),\n",
    "        # Define axis\n",
    "        xaxis=dict(\n",
    "            title=\"Number of Evaluations\",\n",
    "            range=[1, 230],\n",
    "            # autorange=True,\n",
    "            showgrid=True,\n",
    "            zeroline=True,\n",
    "            showline=True,\n",
    "            ticks='',\n",
    "            showticklabels=True,\n",
    "            tickvals = np.array(range(pop_size, 225, pop_size)),\n",
    "        ),\n",
    "        yaxis=dict(\n",
    "            title=x,\n",
    "            showgrid=True,\n",
    "            zeroline=False,\n",
    "            showline=True,\n",
    "            ticks='',\n",
    "            showticklabels=True\n",
    "        )\n",
    ")"
   ]
  },
  {
   "cell_type": "markdown",
   "metadata": {},
   "source": [
    "### Hypervolume Indicator"
   ]
  },
  {
   "cell_type": "code",
   "execution_count": 68,
   "metadata": {},
   "outputs": [],
   "source": [
    "layout_hv = go.Layout(\n",
    "    template=\"ggplot2\",\n",
    "    \n",
    "    # Define plot size\n",
    "    autosize=False,\n",
    "#     width=850, \n",
    "#     height=600,\n",
    "    \n",
    "    width=600, \n",
    "    height=500,\n",
    "\n",
    "    legend=dict(\n",
    "            orientation='h',\n",
    "            x=0.02,\n",
    "            y=-0.25\n",
    "        ),\n",
    "\n",
    "    # Define axis\n",
    "    xaxis=dict(\n",
    "        title=\"Number of Evaluations\",\n",
    "        range=[10, 200],\n",
    "        showgrid=True,\n",
    "        zeroline=True,\n",
    "        showline=True,\n",
    "        ticks='',\n",
    "        showticklabels=True,\n",
    "        tickvals = np.array(range(pop_size, 225, pop_size)),\n",
    "    ),\n",
    "    yaxis=dict(\n",
    "        title=\"Hypervolume\",\n",
    "        range=[0.35, 0.75],    \n",
    "        showgrid=True,\n",
    "        zeroline=False,\n",
    "        showline=True,\n",
    "        ticks='',\n",
    "        showticklabels=True,\n",
    "#         tickformat='.',\n",
    "        tick0 = 0.6,\n",
    "        dtick = 0.1\n",
    "    )\n",
    ")"
   ]
  },
  {
   "cell_type": "code",
   "execution_count": 69,
   "metadata": {},
   "outputs": [],
   "source": [
    "hypervolume_avg, hypervolume_std = indicators_results(hypervolume_per_run)"
   ]
  },
  {
   "cell_type": "code",
   "execution_count": 70,
   "metadata": {},
   "outputs": [
    {
     "data": {
      "text/html": [
       "\n",
       "        <iframe\n",
       "            width=\"600px\"\n",
       "            height=\"500px\"\n",
       "            src=\"https://plotly.com/~goncalo-araujo/64.embed\"\n",
       "            frameborder=\"0\"\n",
       "            allowfullscreen\n",
       "            \n",
       "        ></iframe>\n",
       "        "
      ],
      "text/plain": [
       "<IPython.lib.display.IFrame at 0x1ea573d8c70>"
      ]
     },
     "execution_count": 70,
     "metadata": {},
     "output_type": "execute_result"
    }
   ],
   "source": [
    "scatter(hypervolume_avg, mode='lines+markers',\n",
    "#         layout=layout_indicators('Hypervolume'),\n",
    "        layout=layout_hv,\n",
    "        colorscale=None,\n",
    "        colors=[# '#93e0ed', '#307382', '#2fcce0', '#042780',\n",
    "                '#2fcce0', '#307382',\n",
    "                '#3FC283', '#046645',\n",
    "                '#ffc800', '#ff8000', '#db3f30', \n",
    "                '#de7ec9', '#db30b9', '#8a39db']\n",
    "       )"
   ]
  },
  {
   "cell_type": "code",
   "execution_count": 71,
   "metadata": {},
   "outputs": [
    {
     "data": {
      "text/html": [
       "\n",
       "        <iframe\n",
       "            width=\"850px\"\n",
       "            height=\"500px\"\n",
       "            src=\"https://plotly.com/~goncalo-araujo/64.embed\"\n",
       "            frameborder=\"0\"\n",
       "            allowfullscreen\n",
       "            \n",
       "        ></iframe>\n",
       "        "
      ],
      "text/plain": [
       "<IPython.lib.display.IFrame at 0x1ea573f22b0>"
      ]
     },
     "execution_count": 71,
     "metadata": {},
     "output_type": "execute_result"
    }
   ],
   "source": [
    "scatter(hypervolume_std, mode='lines+markers', layout=layout_indicators('Hypervolume'))"
   ]
  },
  {
   "cell_type": "markdown",
   "metadata": {},
   "source": [
    "### ONVG Indicator"
   ]
  },
  {
   "cell_type": "code",
   "execution_count": 72,
   "metadata": {},
   "outputs": [],
   "source": [
    "onvg_avg, onvg_std = indicators_results(onvg_per_run)"
   ]
  },
  {
   "cell_type": "code",
   "execution_count": 73,
   "metadata": {},
   "outputs": [
    {
     "data": {
      "text/html": [
       "\n",
       "        <iframe\n",
       "            width=\"850px\"\n",
       "            height=\"500px\"\n",
       "            src=\"https://plotly.com/~goncalo-araujo/64.embed\"\n",
       "            frameborder=\"0\"\n",
       "            allowfullscreen\n",
       "            \n",
       "        ></iframe>\n",
       "        "
      ],
      "text/plain": [
       "<IPython.lib.display.IFrame at 0x1ea57429400>"
      ]
     },
     "execution_count": 73,
     "metadata": {},
     "output_type": "execute_result"
    }
   ],
   "source": [
    "scatter(onvg_avg, mode='lines+markers', layout=layout_indicators('ONVG'))"
   ]
  },
  {
   "cell_type": "code",
   "execution_count": 74,
   "metadata": {},
   "outputs": [
    {
     "data": {
      "text/html": [
       "\n",
       "        <iframe\n",
       "            width=\"850px\"\n",
       "            height=\"500px\"\n",
       "            src=\"https://plotly.com/~goncalo-araujo/64.embed\"\n",
       "            frameborder=\"0\"\n",
       "            allowfullscreen\n",
       "            \n",
       "        ></iframe>\n",
       "        "
      ],
      "text/plain": [
       "<IPython.lib.display.IFrame at 0x1ea5737c430>"
      ]
     },
     "execution_count": 74,
     "metadata": {},
     "output_type": "execute_result"
    }
   ],
   "source": [
    "scatter(onvg_std, mode='lines+markers', layout=layout_indicators('ONVG'))"
   ]
  },
  {
   "cell_type": "markdown",
   "metadata": {},
   "source": [
    "### Spacing Indicator"
   ]
  },
  {
   "cell_type": "code",
   "execution_count": 75,
   "metadata": {},
   "outputs": [],
   "source": [
    "spacing_avg, spacing_std = indicators_results(spacing_per_run)"
   ]
  },
  {
   "cell_type": "code",
   "execution_count": 76,
   "metadata": {},
   "outputs": [
    {
     "data": {
      "text/html": [
       "\n",
       "        <iframe\n",
       "            width=\"850px\"\n",
       "            height=\"500px\"\n",
       "            src=\"https://plotly.com/~goncalo-araujo/64.embed\"\n",
       "            frameborder=\"0\"\n",
       "            allowfullscreen\n",
       "            \n",
       "        ></iframe>\n",
       "        "
      ],
      "text/plain": [
       "<IPython.lib.display.IFrame at 0x1ea57494ac0>"
      ]
     },
     "execution_count": 76,
     "metadata": {},
     "output_type": "execute_result"
    }
   ],
   "source": [
    "scatter(spacing_avg, mode='lines+markers', layout=layout_indicators('Spacing'))"
   ]
  },
  {
   "cell_type": "code",
   "execution_count": 77,
   "metadata": {},
   "outputs": [
    {
     "data": {
      "text/html": [
       "\n",
       "        <iframe\n",
       "            width=\"850px\"\n",
       "            height=\"500px\"\n",
       "            src=\"https://plotly.com/~goncalo-araujo/64.embed\"\n",
       "            frameborder=\"0\"\n",
       "            allowfullscreen\n",
       "            \n",
       "        ></iframe>\n",
       "        "
      ],
      "text/plain": [
       "<IPython.lib.display.IFrame at 0x1ea574947f0>"
      ]
     },
     "execution_count": 77,
     "metadata": {},
     "output_type": "execute_result"
    }
   ],
   "source": [
    "scatter(spacing_std, mode='lines+markers', layout=layout_indicators('Spacing'))"
   ]
  },
  {
   "cell_type": "markdown",
   "metadata": {},
   "source": [
    "__References__\n",
    "\n",
    "\\[1\\] Russo, L. M. S., & Francisco, A. P. (2014). _Extending quick hypervolume_. Journal of Heuristics, 22(3), 245–271.\n",
    "\n",
    "\\[2\\] Veldhuizen, D. V. (1999). _Multi Objective evolutionary algorithms: Classifications, Analysis, New Innovations. Multi Objective evolutionary algorithms_. Air Force Institute of Technology, Wright Patterson, Ohio.\n",
    "\n",
    "\\[3\\] Schott, J. R. (1995). _Fault Tolerant Design Using Single and Multicriteria Genetic Algorithm Optimization_. Massachusetts Institute of Technology, Boston, MA."
   ]
  }
 ],
 "metadata": {
  "@webio": {
   "lastCommId": null,
   "lastKernelId": null
  },
  "kernelspec": {
   "display_name": "Python 3 (ipykernel)",
   "language": "python",
   "name": "python3"
  },
  "language_info": {
   "codemirror_mode": {
    "name": "ipython",
    "version": 3
   },
   "file_extension": ".py",
   "mimetype": "text/x-python",
   "name": "python",
   "nbconvert_exporter": "python",
   "pygments_lexer": "ipython3",
   "version": "3.8.11"
  },
  "toc": {
   "base_numbering": 1,
   "nav_menu": {},
   "number_sections": true,
   "sideBar": true,
   "skip_h1_title": false,
   "title_cell": "Table of Contents",
   "title_sidebar": "Contents",
   "toc_cell": false,
   "toc_position": {
    "height": "calc(100% - 180px)",
    "left": "10px",
    "top": "150px",
    "width": "384px"
   },
   "toc_section_display": true,
   "toc_window_display": true
  }
 },
 "nbformat": 4,
 "nbformat_minor": 2
}
