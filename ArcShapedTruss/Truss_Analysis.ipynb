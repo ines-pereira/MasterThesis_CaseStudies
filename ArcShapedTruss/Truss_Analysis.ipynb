{
 "cells": [
  {
   "cell_type": "markdown",
   "metadata": {},
   "source": [
    "# Case Study: Arc Shaped Truss"
   ]
  },
  {
   "cell_type": "code",
   "execution_count": 1,
   "metadata": {},
   "outputs": [],
   "source": [
    "# OS functionalities (to deal with files)\n",
    "import os\n",
    "\n",
    "# Enhanced Iteration capabilities (to use cross-products)\n",
    "import itertools\n",
    "\n",
    "# Data processing packages\n",
    "import pandas as pd\n",
    "import numpy as np"
   ]
  },
  {
   "cell_type": "markdown",
   "metadata": {},
   "source": [
    "# Global Setup for Processing Data\n",
    "\n",
    "In this section, we define all the global constants that will be used thourought the script. By defining them up here, we are making this notebook purely parametric and reusable for other projects (as long as the folder structure remains the same)."
   ]
  },
  {
   "cell_type": "code",
   "execution_count": 2,
   "metadata": {},
   "outputs": [
    {
     "data": {
      "text/plain": [
       "['SPEA2_results_01.csv',\n",
       " 'NSGAII_results_01.csv',\n",
       " 'SMPSO_results_01.csv',\n",
       " 'OMOPSO_results_01.csv',\n",
       " 'GPR_SMPSO_results_01.csv',\n",
       " 'GPR_NSGAII_results_01.csv',\n",
       " 'GPR_Random_results_01.csv',\n",
       " 'RF_SMPSO_results_01.csv',\n",
       " 'RF_NSGAII_results_01.csv',\n",
       " 'RF_Random_results_01.csv',\n",
       " 'SPEA2_results_02.csv',\n",
       " 'NSGAII_results_02.csv',\n",
       " 'SMPSO_results_02.csv',\n",
       " 'OMOPSO_results_02.csv',\n",
       " 'GPR_SMPSO_results_02.csv',\n",
       " 'GPR_NSGAII_results_02.csv',\n",
       " 'GPR_Random_results_02.csv',\n",
       " 'RF_SMPSO_results_02.csv',\n",
       " 'RF_NSGAII_results_02.csv',\n",
       " 'RF_Random_results_02.csv',\n",
       " 'SPEA2_results_03.csv',\n",
       " 'NSGAII_results_03.csv',\n",
       " 'SMPSO_results_03.csv',\n",
       " 'OMOPSO_results_03.csv',\n",
       " 'GPR_SMPSO_results_03.csv',\n",
       " 'GPR_NSGAII_results_03.csv',\n",
       " 'GPR_Random_results_03.csv',\n",
       " 'RF_SMPSO_results_03.csv',\n",
       " 'RF_NSGAII_results_03.csv',\n",
       " 'RF_Random_results_03.csv']"
      ]
     },
     "execution_count": 2,
     "metadata": {},
     "output_type": "execute_result"
    }
   ],
   "source": [
    "# Folders Structure\n",
    "base_folder = os.getcwd()\n",
    "results_folder = os.path.join(base_folder, \"algorithms\")\n",
    "indicators_folder = os.path.join(base_folder, \"performance_indicators\")\n",
    "output_folder = \"./output/\"\n",
    "\n",
    "# CSV File Configuration\n",
    "has_header=True\n",
    "files_sep= \",\"\n",
    "file_extension = 'csv'\n",
    "\n",
    "# Optimization Settings\n",
    "runs = [1, 2, 3]\n",
    "nruns = len(runs)\n",
    "max_evals = 200\n",
    "\n",
    "## Problem Definition (in the files) \n",
    "### Variables\n",
    "vars_cols = [3, 4, 5, 6, 7, 8]\n",
    "\n",
    "### Objectives  \n",
    "objs_cols = [9, 10]\n",
    "\n",
    "relevant_cols = vars_cols + objs_cols\n",
    "\n",
    "## Multi-Objective Optimization Algorithms\n",
    "### Metaheuristics\n",
    "pop_size = 15\n",
    "metaheuristics = [\"SPEA2\", \"NSGAII\", \"SMPSO\", \"OMOPSO\"]\n",
    "\n",
    "### Model Based (or metamodel)\n",
    "metamodels_base = ['GPR', 'RF'] \n",
    "metamodels_strategies = [\"SMPSO\", 'NSGAII', \"Random\"]\n",
    "metamodels_algorithms = [f\"{b}_{s}\" for (b, s) in itertools.product(metamodels_base, metamodels_strategies)]\n",
    "\n",
    "all_algorithms = metaheuristics + metamodels_algorithms\n",
    "n_algorithms = len(all_algorithms)\n",
    "\n",
    "### Filenames with the results \n",
    "filenames = [f\"{a}_results_0{r}.{file_extension}\" for (r, a) in itertools.product(runs, all_algorithms)]\n",
    "filenames"
   ]
  },
  {
   "cell_type": "code",
   "execution_count": 3,
   "metadata": {},
   "outputs": [
    {
     "data": {
      "text/plain": [
       "['SPEA2_results_01.csv',\n",
       " 'OMOPSO_results_01.csv',\n",
       " 'GPR_Random_results_01.csv',\n",
       " 'RF_Random_results_01.csv',\n",
       " 'SMPSO_results_02.csv',\n",
       " 'GPR_NSGAII_results_02.csv',\n",
       " 'RF_NSGAII_results_02.csv',\n",
       " 'NSGAII_results_03.csv',\n",
       " 'GPR_SMPSO_results_03.csv',\n",
       " 'RF_SMPSO_results_03.csv']"
      ]
     },
     "execution_count": 3,
     "metadata": {},
     "output_type": "execute_result"
    }
   ],
   "source": [
    "# Sanity check: verify the file names are what we expected\n",
    "filenames[::3]"
   ]
  },
  {
   "cell_type": "markdown",
   "metadata": {},
   "source": [
    "## Input/Output (IO) Methods \n",
    "\n",
    "In this subsection we create the methods that will be responsible for loading the data from the files. To manipulate the data, we will use pandas.DataFrame data structure. This can be easily manipulated and different statistics can be computed on top of these abstractions."
   ]
  },
  {
   "cell_type": "code",
   "execution_count": 4,
   "metadata": {},
   "outputs": [],
   "source": [
    "def load_results(filenames, base_folder=results_folder, \n",
    "                 has_header=True, keep_header=False, \n",
    "                 sep=files_sep, usecols=relevant_cols,  \n",
    "                 max_lines=max_evals):\n",
    "    \"\"\"Loads the data from the specified `base_folder` using the `filenames`.\n",
    "    It assumes the filenames\n",
    "    \"\"\"\n",
    "    read_args = { \n",
    "        \"header\": 'infer' if keep_header else None, \n",
    "        \"sep\": sep,\n",
    "        \"usecols\": usecols if usecols else None,\n",
    "        \"skiprows\": 1 if has_header and not keep_header else 0,\n",
    "    }\n",
    "    filepaths = [os.path.join(base_folder, f) for f in filenames]        \n",
    "    if max_lines:\n",
    "        return [pd.read_csv(f, **read_args)[0:max_lines] for f in filepaths]\n",
    "    else:\n",
    "        return [pd.read_csv(f, **read_args) for f in filepaths]"
   ]
  },
  {
   "cell_type": "code",
   "execution_count": 5,
   "metadata": {},
   "outputs": [
    {
     "data": {
      "text/html": [
       "<div>\n",
       "<style scoped>\n",
       "    .dataframe tbody tr th:only-of-type {\n",
       "        vertical-align: middle;\n",
       "    }\n",
       "\n",
       "    .dataframe tbody tr th {\n",
       "        vertical-align: top;\n",
       "    }\n",
       "\n",
       "    .dataframe thead th {\n",
       "        text-align: right;\n",
       "    }\n",
       "</style>\n",
       "<table border=\"1\" class=\"dataframe\">\n",
       "  <thead>\n",
       "    <tr style=\"text-align: right;\">\n",
       "      <th></th>\n",
       "      <th>3</th>\n",
       "      <th>4</th>\n",
       "      <th>5</th>\n",
       "      <th>6</th>\n",
       "      <th>7</th>\n",
       "      <th>8</th>\n",
       "      <th>9</th>\n",
       "      <th>10</th>\n",
       "    </tr>\n",
       "  </thead>\n",
       "  <tbody>\n",
       "    <tr>\n",
       "      <th>0</th>\n",
       "      <td>1.342483</td>\n",
       "      <td>3.738817</td>\n",
       "      <td>-0.930969</td>\n",
       "      <td>3.436688</td>\n",
       "      <td>0.114544</td>\n",
       "      <td>17.527708</td>\n",
       "      <td>1.142078</td>\n",
       "      <td>53.387450</td>\n",
       "    </tr>\n",
       "    <tr>\n",
       "      <th>1</th>\n",
       "      <td>-0.080445</td>\n",
       "      <td>8.723837</td>\n",
       "      <td>1.159533</td>\n",
       "      <td>13.715637</td>\n",
       "      <td>0.764498</td>\n",
       "      <td>4.178744</td>\n",
       "      <td>1.329447</td>\n",
       "      <td>32.335863</td>\n",
       "    </tr>\n",
       "    <tr>\n",
       "      <th>2</th>\n",
       "      <td>1.185293</td>\n",
       "      <td>4.545116</td>\n",
       "      <td>1.435288</td>\n",
       "      <td>20.990446</td>\n",
       "      <td>1.390408</td>\n",
       "      <td>5.766410</td>\n",
       "      <td>1.143028</td>\n",
       "      <td>34.248061</td>\n",
       "    </tr>\n",
       "    <tr>\n",
       "      <th>3</th>\n",
       "      <td>-0.399188</td>\n",
       "      <td>18.886532</td>\n",
       "      <td>-1.546737</td>\n",
       "      <td>28.648533</td>\n",
       "      <td>0.374273</td>\n",
       "      <td>20.993468</td>\n",
       "      <td>1.205247</td>\n",
       "      <td>40.520918</td>\n",
       "    </tr>\n",
       "    <tr>\n",
       "      <th>4</th>\n",
       "      <td>0.512393</td>\n",
       "      <td>5.531920</td>\n",
       "      <td>-1.015641</td>\n",
       "      <td>28.489575</td>\n",
       "      <td>-0.351145</td>\n",
       "      <td>26.153922</td>\n",
       "      <td>1.464912</td>\n",
       "      <td>55.989539</td>\n",
       "    </tr>\n",
       "  </tbody>\n",
       "</table>\n",
       "</div>"
      ],
      "text/plain": [
       "         3          4         5          6         7          8         9   \\\n",
       "0  1.342483   3.738817 -0.930969   3.436688  0.114544  17.527708  1.142078   \n",
       "1 -0.080445   8.723837  1.159533  13.715637  0.764498   4.178744  1.329447   \n",
       "2  1.185293   4.545116  1.435288  20.990446  1.390408   5.766410  1.143028   \n",
       "3 -0.399188  18.886532 -1.546737  28.648533  0.374273  20.993468  1.205247   \n",
       "4  0.512393   5.531920 -1.015641  28.489575 -0.351145  26.153922  1.464912   \n",
       "\n",
       "          10  \n",
       "0  53.387450  \n",
       "1  32.335863  \n",
       "2  34.248061  \n",
       "3  40.520918  \n",
       "4  55.989539  "
      ]
     },
     "execution_count": 5,
     "metadata": {},
     "output_type": "execute_result"
    }
   ],
   "source": [
    "# Always confirm whether the results are according to what you expected\n",
    "examples = load_results(filenames, max_lines=max_evals)\n",
    "examples[0].head()"
   ]
  },
  {
   "cell_type": "code",
   "execution_count": 6,
   "metadata": {},
   "outputs": [
    {
     "data": {
      "text/plain": [
       "[]"
      ]
     },
     "execution_count": 6,
     "metadata": {},
     "output_type": "execute_result"
    }
   ],
   "source": [
    "list(filter(lambda x: x > max_evals, [len(e) for e in examples]))"
   ]
  },
  {
   "cell_type": "code",
   "execution_count": 7,
   "metadata": {},
   "outputs": [],
   "source": [
    "def get_run_indices(dfs, run, n_algorithms=n_algorithms):\n",
    "    \"\"\"Returns the dataframes that correspond to the specified `run`. \n",
    "    This assumes that the dataframes are read per run, that means that \n",
    "    if we run two algorithms (SMPSO and SPEA2) for 3 runs each, this \n",
    "    method assumes that it was read in the following order:\n",
    "    \n",
    "    > SMPSO_run1\n",
    "    > SPEA2_run1\n",
    "    > SMPSO_run2\n",
    "    > SPEA2_run2\n",
    "    > SMPSO_run3\n",
    "    > SPEA2_run3\n",
    "    \n",
    "    In that case, this invocation `get_run_indices(dfs, 1, n_algorithms=2)`\n",
    "    will return: \n",
    "        dfs[0:2] \n",
    "    \"\"\"\n",
    "    run -= 1\n",
    "    return dfs[run*n_algorithms:(run+1)*n_algorithms]"
   ]
  },
  {
   "cell_type": "markdown",
   "metadata": {},
   "source": [
    "## Pareto Dominance Methods\n",
    "This section contains methods related to the Pareto optimality (or [Pareto Efficiency](https://en.wikipedia.org/wiki/Pareto_efficiency))."
   ]
  },
  {
   "cell_type": "code",
   "execution_count": 8,
   "metadata": {},
   "outputs": [
    {
     "name": "stdout",
     "output_type": "stream",
     "text": [
      "(Expected) True   (Obtained) True\n",
      "(Expected) True   (Obtained) True\n",
      "(Expected) False  (Obtained) False\n",
      "(Expected) True   (Obtained) True\n",
      "(Expected) False  (Obtained) False\n",
      "(Expected) False  (Obtained) False\n",
      "(Expected) False  (Obtained) False\n"
     ]
    }
   ],
   "source": [
    "# **IMPORTANT NOTE**: This function assumes that your problem is a minimization problem for every objective dimension.\n",
    "def weakly_dominates(v0, v1):\n",
    "    \"\"\"Computes whether v0 dominates v1, i.e., whether at least one objective\n",
    "    is better (in this case, smaller) than some other)\n",
    "    \"\"\"\n",
    "    return np.all(v0 <= v1) and np.any(v0 < v1)\n",
    "    \n",
    "# Sanity Check (:\n",
    "print(\"(Expected) True   (Obtained)\", weakly_dominates(np.array([1, 1]), np.array([2, 2])))\n",
    "print(\"(Expected) True   (Obtained)\", weakly_dominates(np.array([2, 1]), np.array([2, 2])))\n",
    "print(\"(Expected) False  (Obtained)\", weakly_dominates(np.array([2, 2]), np.array([1, 1]))) \n",
    "print(\"(Expected) True   (Obtained)\", weakly_dominates(np.array([1, 2]), np.array([2, 2]))) \n",
    "print(\"(Expected) False  (Obtained)\", weakly_dominates(np.array([1, 3]), np.array([3, 1])))\n",
    "print(\"(Expected) False  (Obtained)\", weakly_dominates(np.array([3, 1]), np.array([1, 3]))) \n",
    "print(\"(Expected) False  (Obtained)\", weakly_dominates(np.array([1, 1]), np.array([1, 1])))  "
   ]
  },
  {
   "cell_type": "code",
   "execution_count": 9,
   "metadata": {},
   "outputs": [],
   "source": [
    "def get_non_dominated(V, dominance=weakly_dominates):\n",
    "    \"\"\"Computes the optimal and non-optimal solutions. \n",
    "    Optimal solutions are called non-dominated and non-optimal \n",
    "    solutions are called denominated.\n",
    "    \"\"\"\n",
    "    nsols, nobjs = V.shape\n",
    "    \n",
    "    dominated = np.zeros((nsols, 1))\n",
    "    dominated_by = np.zeros((nsols, 1))\n",
    "    for i in range(nsols):\n",
    "        for j in range(nsols):\n",
    "            if i != j:\n",
    "                if dominance(V[j], V[i]):\n",
    "                    dominated[i] = 1\n",
    "                    dominated_by[i] = j \n",
    "                    break\n",
    "                    \n",
    "    return dominated, dominated_by"
   ]
  },
  {
   "cell_type": "code",
   "execution_count": 10,
   "metadata": {},
   "outputs": [],
   "source": [
    "def add_isdominated_cols(d, cols=objs_cols):\n",
    "    \"\"\"Adds to the provided dataframe columns for Pareto optimal solution.\"\"\"\n",
    "    df_copy = d.copy()\n",
    "    A = np.array(df_copy[cols])\n",
    "    B, C = get_non_dominated(A)\n",
    "    df_copy[\"isDominated\"] = pd.DataFrame(B, columns=[\"isDominated\"])\n",
    "    df_copy[\"dominatedBy\"] = pd.DataFrame(C, columns=[\"dominatedBy\"])\n",
    "    print(df_copy[\"isDominated\"].value_counts())\n",
    "    return df_copy"
   ]
  },
  {
   "cell_type": "code",
   "execution_count": 11,
   "metadata": {},
   "outputs": [],
   "source": [
    "def get_combined_PF(dfs, drop_cols=relevant_cols, objs_cols=objs_cols):\n",
    "    \"\"\"Computes the combined Pareto front based on a set of input dataframes\"\"\"\n",
    "    all_data = pd.concat(dfs)\n",
    "    if drop_cols:\n",
    "        all_data = all_data.drop_duplicates(drop_cols)\n",
    "    all_data = all_data.reset_index()\n",
    "    return add_isdominated_cols(all_data, cols=objs_cols)"
   ]
  },
  {
   "cell_type": "markdown",
   "metadata": {},
   "source": [
    "## General Methods\n",
    "\n",
    "This section contains general purpose methods that can be used in your scripts."
   ]
  },
  {
   "cell_type": "code",
   "execution_count": 12,
   "metadata": {},
   "outputs": [],
   "source": [
    "def get_symmetric(df, cols):\n",
    "    \"\"\"Computes the symmetric value of the provided `cols` and returns a \n",
    "    copy of the original dataframe where the values of the specified `cols`\n",
    "    are symmetric.\"\"\"\n",
    "    cols = cols if isinstance(cols, (list, tuple)) else [cols]\n",
    "    copy_df = df.copy()\n",
    "    for col in cols:\n",
    "        copy_df[col] = df[col] * -1\n",
    "    return copy_df"
   ]
  },
  {
   "cell_type": "code",
   "execution_count": 13,
   "metadata": {},
   "outputs": [],
   "source": [
    "def unfeasible_ratio_iter(pop_size=pop_size):\n",
    "    \"\"\"Computes the unfeasible ratio per `pop_size`.\"\"\"\n",
    "    results = []\n",
    "    for i in range(0, len(df), pop_size):\n",
    "        results.append(df[df[i:i + pop_size] == 'false']['feasible'].count() / pop_size)\n",
    "    iteration = pd.Series(data = range(1, int(len(df) / pop_size) + 1))\n",
    "    ratio = pd.Series(data = results)\n",
    "    ratio_iter = {'Iteration': iteration, 'Ratio Unfeasible': ratio} \n",
    "    return pd.DataFrame(ratio_iter)"
   ]
  },
  {
   "cell_type": "code",
   "execution_count": 14,
   "metadata": {},
   "outputs": [],
   "source": [
    "def get_last_value_iter(df, col_name='hypervolume', iter_size=pop_size):\n",
    "    \"\"\"Iterates the values in the `df` in slices of `iter_size` and \n",
    "    gets the last value.\n",
    "    \"\"\"\n",
    "    return df[iter_size-1:len(df):iter_size][col_name]"
   ]
  },
  {
   "cell_type": "code",
   "execution_count": 15,
   "metadata": {},
   "outputs": [],
   "source": [
    "def indicators_results(results_runs):\n",
    "    \"\"\"Computes the statistics mean and standard deviation for the specified runs. \n",
    "    \n",
    "    It assumes the `results_run` are organized as follows: \n",
    "        results_runs = [indicators_run1, indicators_run2, indicators_run3], \n",
    "    where: \n",
    "        indicators_run{i} = [indicators_alg_1_run_{i}, ..., indicators_alg_m_run_{i}]\n",
    "    \"\"\"\n",
    "    average_res = [] \n",
    "    std_res = [] \n",
    "    \n",
    "    for algorithm_i in range(n_algorithms):\n",
    "        # Get the same algorithm from all runs (assuming they were collected in the same way)\n",
    "        algorithm_results = [r[algorithm_i] for r in results_runs] \n",
    "        average_res += [pd.concat(algorithm_results, axis=1).mean(axis=1)]\n",
    "        std_res += [pd.concat(algorithm_results, axis=1).std(axis=1)]\n",
    "        \n",
    "    return average_res, std_res"
   ]
  },
  {
   "cell_type": "markdown",
   "metadata": {},
   "source": [
    "## Data Visualization\n",
    "\n",
    "In this section, we visualize the data with visual means. "
   ]
  },
  {
   "cell_type": "code",
   "execution_count": 16,
   "metadata": {},
   "outputs": [
    {
     "data": {
      "text/plain": [
       "'5.1.0'"
      ]
     },
     "execution_count": 16,
     "metadata": {},
     "output_type": "execute_result"
    }
   ],
   "source": [
    "# Visualization Framework\n",
    "import plotly\n",
    "import plotly.graph_objs as go\n",
    "import matplotlib.pyplot as plt\n",
    "from plotly import tools\n",
    "\n",
    "try:\n",
    "    import plotly.plotly as py\n",
    "    plotly.tools.set_credentials_file(username='username', api_key='api_key')\n",
    "except: \n",
    "    import chart_studio\n",
    "    import chart_studio.plotly as py\n",
    "    chart_studio.tools.set_credentials_file(username='username', api_key='api_key')\n",
    "    \n",
    "# Print plotly's version\n",
    "plotly.__version__"
   ]
  },
  {
   "cell_type": "markdown",
   "metadata": {},
   "source": [
    "Let us create the functions that create the graphs"
   ]
  },
  {
   "cell_type": "code",
   "execution_count": 17,
   "metadata": {},
   "outputs": [],
   "source": [
    "def get_colors(n, colorscale=\"viridis\"): \n",
    "    colors = plt.get_cmap(colorscale).colors\n",
    "    colors_idx = np.linspace(0, len(colors)-1, n, dtype=int)\n",
    "    \n",
    "    colors = [colors[idx] for idx in colors_idx]\n",
    "    colors_str = [f\"rgb({r}, {g}, {b})\" for (r, g, b) in colors]\n",
    "    return colors_str"
   ]
  },
  {
   "cell_type": "code",
   "execution_count": 18,
   "metadata": {},
   "outputs": [],
   "source": [
    "def scatter(data, x=None, y=None, names=all_algorithms, \n",
    "            colorscale=\"viridis\", colors=None, \n",
    "            mode=\"markers\", marker_size=5.5, ln_width=1.5, \n",
    "            layout=None):\n",
    "    \n",
    "    def get_x_y(d): \n",
    "        if isinstance(d, pd.Series):\n",
    "            return np.array(d.index) + 1, d.values\n",
    "        elif isinstance(d, pd.DataFrame):\n",
    "            return d[x], d[y]\n",
    "        else: \n",
    "            return np.arange(len(d)), d      \n",
    "        \n",
    "    # ----------------------------------------------\n",
    "    # Normalize input data\n",
    "    # ----------------------------------------------\n",
    "    data = data if isinstance(data, (list, tuple)) else [data]\n",
    "    colors = get_colors(len(data), colorscale) if colorscale else colors\n",
    "    \n",
    "    # ----------------------------------------------\n",
    "    # Determine the data types of provided inputs\n",
    "    # ----------------------------------------------\n",
    "    x_data = []\n",
    "    y_data = []\n",
    "    for d in data:\n",
    "        xx, yy = get_x_y(d)\n",
    "        x_data += [xx]\n",
    "        y_data += [yy]\n",
    "\n",
    "    \n",
    "    traces = []\n",
    "    for (i, (x,y)) in enumerate(zip(x_data, y_data)):\n",
    "        traces += [\n",
    "            go.Scatter(\n",
    "                x = x,\n",
    "                y = y,\n",
    "                mode = mode,\n",
    "                name = names[i],\n",
    "                marker = dict(\n",
    "                    # Markers size\n",
    "                    size = marker_size,\n",
    "                    color=colors[i],\n",
    "                ),\n",
    "                line=dict(\n",
    "                    width=ln_width,\n",
    "                    color=colors[i]\n",
    "            )\n",
    "            )]\n",
    "    \n",
    "    kwargs = {} if not layout else {\"layout\": layout}\n",
    "    fig = go.Figure(data=traces, **kwargs)\n",
    "    return py.iplot(fig, filename='simple_scatter')"
   ]
  },
  {
   "cell_type": "markdown",
   "metadata": {},
   "source": [
    "## Default Layout"
   ]
  },
  {
   "cell_type": "code",
   "execution_count": 19,
   "metadata": {},
   "outputs": [],
   "source": [
    "# Default layout for the pareto fronts graphs\n",
    "layout = go.Layout(\n",
    "    template=\"plotly_white\",\n",
    "    autosize=True,\n",
    "    legend=dict(\n",
    "        orientation='h'\n",
    "    ),\n",
    "    # Define axis\n",
    "    xaxis=dict(\n",
    "        autorange=True,\n",
    "        showgrid=True,\n",
    "        zeroline=False,\n",
    "        showline=True,\n",
    "        ticks='',\n",
    "        showticklabels=True,\n",
    "        tickformat='.'\n",
    "    ),\n",
    "    yaxis=dict(\n",
    "        autorange=True,        \n",
    "        showgrid=True,\n",
    "        zeroline=False,\n",
    "        showline=True,\n",
    "        ticks='',\n",
    "        showticklabels=True,\n",
    "        tickformat='.'\n",
    "    )\n",
    ")"
   ]
  },
  {
   "cell_type": "markdown",
   "metadata": {},
   "source": [
    "## Pareto Front\n",
    "\n",
    "This section contains different functions that explore dataframes having information about the non-dominated and the dominated solutions."
   ]
  },
  {
   "cell_type": "code",
   "execution_count": 20,
   "metadata": {},
   "outputs": [],
   "source": [
    "def create_pf(pf, name, x, y, nd_color='rgb(0,0,255)', ln_width=1.5, marker_size=5.5, d_color=None): \n",
    "    traces = []\n",
    "    \n",
    "    # Create the non dominated trace (in a different color, as specified in *nd_color*)\n",
    "    x_pf = pf[pf['isDominated'] == 0][x] \n",
    "    y_pf = pf[pf['isDominated'] == 0][y]\n",
    "    x_pf, y_pf = zip(*sorted(zip(x_pf, y_pf)))\n",
    "\n",
    "    traces += [\n",
    "        go.Scatter(\n",
    "            x = x_pf,\n",
    "            y = y_pf,\n",
    "            mode = 'lines+markers',\n",
    "            name = name + \" NonDominated\",\n",
    "            opacity=1,\n",
    "\n",
    "            # Layout do marker\n",
    "            marker=dict(\n",
    "                color=nd_color,\n",
    "                size=marker_size\n",
    "            ),\n",
    "            line=dict(\n",
    "                color=nd_color,\n",
    "                width=ln_width\n",
    "            )\n",
    "        )]\n",
    "    \n",
    "    if d_color:\n",
    "        x_npf = pf[pf['isDominated'] == 1][x]\n",
    "        y_npf = pf[pf['isDominated'] == 1][y]\n",
    "        \n",
    "        # Create the dominated trace (in a different color, as specified in *d_color*)\n",
    "        traces +=[\n",
    "            go.Scatter(\n",
    "                x = x_npf,\n",
    "                y = y_npf,\n",
    "                mode = 'markers',\n",
    "                name = name + \" Dominated\",\n",
    "                opacity=0.5,\n",
    "\n",
    "                # Layout do Marker\n",
    "                marker=dict(\n",
    "                    #color = d_color,\n",
    "                    color = nd_color,\n",
    "                    size=marker_size*0.5,\n",
    "                )\n",
    "            )]\n",
    "\n",
    "    return traces"
   ]
  },
  {
   "cell_type": "code",
   "execution_count": 21,
   "metadata": {},
   "outputs": [],
   "source": [
    "def get_traces(pfs, x, y, draw_dominated=True,\n",
    "               names=all_algorithms, colorscale='viridis', colors=None,\n",
    "               tpf=None, tpf_name=\"Combined_PF\", tpf_color='rgb(0,0,0)', \n",
    "               layout=layout):\n",
    "    \n",
    "    pfs = pfs if isinstance(pfs, (list, tuple)) else [pfs]\n",
    "    names = names if isinstance(names, (list, tuple)) else [names]\n",
    "    n_pfs = len(pfs)\n",
    "    colors = get_colors(n_pfs, colorscale) if colorscale else colors\n",
    "    \n",
    "    traces = []\n",
    "    \n",
    "    if tpf is not None:\n",
    "        traces += create_pf(pf=tpf, name=tpf_name, x=x, y=y, ln_width=4, marker_size=10, nd_color=tpf_color)\n",
    "    \n",
    "    for (i, pf) in enumerate(pfs):\n",
    "        d_color = colors[i] if draw_dominated else None\n",
    "        traces += create_pf(pf=pf, name=names[i], x=x, y=y, nd_color=colors[i], d_color=d_color)\n",
    "\n",
    "    fig = go.Figure(data=traces, layout=layout)\n",
    "    return traces"
   ]
  },
  {
   "cell_type": "code",
   "execution_count": 22,
   "metadata": {},
   "outputs": [],
   "source": [
    "def create_pfs(pfs, x, y, draw_dominated=True,\n",
    "               names=all_algorithms, colorscale='viridis', colors=None,\n",
    "               tpf=None, tpf_name=\"Combined_PF\", tpf_color='rgb(0,0,0)', \n",
    "               layout=layout):\n",
    "    \n",
    "    traces = get_traces(pfs, x, y, draw_dominated, names, colorscale, colors, tpf, tpf_name, tpf_color, layout)\n",
    "    \n",
    "    fig = go.Figure(data=traces, layout=layout)\n",
    "    return py.iplot(fig, filename='algorithms_pfs_per_run')"
   ]
  },
  {
   "cell_type": "markdown",
   "metadata": {},
   "source": [
    "---\n",
    "\n",
    "#  Analysis"
   ]
  },
  {
   "cell_type": "markdown",
   "metadata": {},
   "source": [
    "## Pareto Front Layouts"
   ]
  },
  {
   "cell_type": "code",
   "execution_count": 23,
   "metadata": {},
   "outputs": [],
   "source": [
    "# Layout for the pareto fronts graphs of the Arc-Shaped Truss\n",
    "layout_all_sols = go.Layout(\n",
    "    template=\"ggplot2\",\n",
    "    autosize=False,\n",
    "    \n",
    "    # Define plot size\n",
    "    width=900, \n",
    "    height=1200,\n",
    "    \n",
    "    # Legend Position\n",
    "    legend=dict(\n",
    "        orientation='h',\n",
    "        x=-0.01,\n",
    "        y=-0.2\n",
    "    ),\n",
    "    # Define axis\n",
    "    xaxis=dict(\n",
    "        title=\"Maximum Displacement\",\n",
    "        range=[0.55, 1.9],\n",
    "        showgrid=True,\n",
    "        zeroline=False,\n",
    "        showline=True,\n",
    "        ticks='',\n",
    "        showticklabels=True,\n",
    "        tickmode = 'linear',\n",
    "        tick0 = 0.6,\n",
    "        dtick = 0.1\n",
    "    ),\n",
    "    yaxis=dict(\n",
    "        title=\"Attractors Distance\",\n",
    "        range=[0, 90],    \n",
    "        showgrid=True,\n",
    "        zeroline=False,\n",
    "        showline=True,\n",
    "        ticks='',\n",
    "        showticklabels=True,\n",
    "        tickformat='.'\n",
    "    )\n",
    ")"
   ]
  },
  {
   "cell_type": "code",
   "execution_count": 24,
   "metadata": {},
   "outputs": [],
   "source": [
    "# Layout for the pareto fronts graphs of the Arc-Shaped Truss\n",
    "layout_Truss = go.Layout(\n",
    "#     template=\"plotly_white\",\n",
    "    template=\"ggplot2\",\n",
    "    autosize=False,\n",
    "    # Define plot size\n",
    "    width=900, \n",
    "    height=540,\n",
    "    # Legend Position\n",
    "    legend=dict(\n",
    "        orientation='h',\n",
    "        x=-0.01,\n",
    "        y=-0.2\n",
    "    ),\n",
    "    # Define axis\n",
    "    xaxis=dict(\n",
    "        title=\"Maximum Displacement\",\n",
    "        range=[0.55, 1.45],\n",
    "        showgrid=True,\n",
    "        zeroline=False,\n",
    "        showline=True,\n",
    "        ticks='',\n",
    "        showticklabels=True,\n",
    "        tickmode = 'linear',\n",
    "        tick0 = 0.6,\n",
    "        dtick = 0.1\n",
    "    ),\n",
    "    yaxis=dict(\n",
    "        title=\"Attractors Distance\",\n",
    "        range=[0, 80],    \n",
    "        showgrid=True,\n",
    "        zeroline=False,\n",
    "        showline=True,\n",
    "        ticks='',\n",
    "        showticklabels=True,\n",
    "        tickformat='.'\n",
    "    )\n",
    ")"
   ]
  },
  {
   "cell_type": "markdown",
   "metadata": {},
   "source": [
    "## Read Results"
   ]
  },
  {
   "cell_type": "code",
   "execution_count": 25,
   "metadata": {},
   "outputs": [],
   "source": [
    "# Read algorithms  \n",
    "dfs = load_results(filenames)"
   ]
  },
  {
   "cell_type": "code",
   "execution_count": 26,
   "metadata": {
    "scrolled": true
   },
   "outputs": [
    {
     "name": "stdout",
     "output_type": "stream",
     "text": [
      "1.0    185\n",
      "0.0     15\n",
      "Name: isDominated, dtype: int64\n",
      "1.0    171\n",
      "0.0     29\n",
      "Name: isDominated, dtype: int64\n",
      "1.0    174\n",
      "0.0     26\n",
      "Name: isDominated, dtype: int64\n",
      "1.0    191\n",
      "0.0      9\n",
      "Name: isDominated, dtype: int64\n",
      "1.0    183\n",
      "0.0     17\n",
      "Name: isDominated, dtype: int64\n",
      "1.0    187\n",
      "0.0     13\n",
      "Name: isDominated, dtype: int64\n",
      "1.0    195\n",
      "0.0      5\n",
      "Name: isDominated, dtype: int64\n",
      "1.0    192\n",
      "0.0      8\n",
      "Name: isDominated, dtype: int64\n",
      "1.0    187\n",
      "0.0     13\n",
      "Name: isDominated, dtype: int64\n",
      "1.0    190\n",
      "0.0     10\n",
      "Name: isDominated, dtype: int64\n",
      "1.0    182\n",
      "0.0     18\n",
      "Name: isDominated, dtype: int64\n",
      "1.0    193\n",
      "0.0      7\n",
      "Name: isDominated, dtype: int64\n",
      "1.0    188\n",
      "0.0     12\n",
      "Name: isDominated, dtype: int64\n",
      "1.0    180\n",
      "0.0     20\n",
      "Name: isDominated, dtype: int64\n",
      "1.0    192\n",
      "0.0      8\n",
      "Name: isDominated, dtype: int64\n",
      "1.0    186\n",
      "0.0     14\n",
      "Name: isDominated, dtype: int64\n",
      "1.0    193\n",
      "0.0      7\n",
      "Name: isDominated, dtype: int64\n",
      "1.0    187\n",
      "0.0     13\n",
      "Name: isDominated, dtype: int64\n",
      "1.0    183\n",
      "0.0     17\n",
      "Name: isDominated, dtype: int64\n",
      "1.0    190\n",
      "0.0     10\n",
      "Name: isDominated, dtype: int64\n",
      "1.0    184\n",
      "0.0     16\n",
      "Name: isDominated, dtype: int64\n",
      "1.0    175\n",
      "0.0     25\n",
      "Name: isDominated, dtype: int64\n",
      "1.0    178\n",
      "0.0     22\n",
      "Name: isDominated, dtype: int64\n",
      "1.0    191\n",
      "0.0      9\n",
      "Name: isDominated, dtype: int64\n",
      "1.0    186\n",
      "0.0     14\n",
      "Name: isDominated, dtype: int64\n",
      "1.0    191\n",
      "0.0      9\n",
      "Name: isDominated, dtype: int64\n",
      "1.0    190\n",
      "0.0     10\n",
      "Name: isDominated, dtype: int64\n",
      "1.0    193\n",
      "0.0      7\n",
      "Name: isDominated, dtype: int64\n",
      "1.0    190\n",
      "0.0     10\n",
      "Name: isDominated, dtype: int64\n",
      "1.0    190\n",
      "0.0     10\n",
      "Name: isDominated, dtype: int64\n"
     ]
    }
   ],
   "source": [
    "# Compute non_dominated_solutions (per run)\n",
    "pfs = [add_isdominated_cols(df) for df in dfs]"
   ]
  },
  {
   "cell_type": "code",
   "execution_count": 27,
   "metadata": {},
   "outputs": [
    {
     "name": "stdout",
     "output_type": "stream",
     "text": [
      "1.0    5982\n",
      "0.0      18\n",
      "Name: isDominated, dtype: int64\n"
     ]
    }
   ],
   "source": [
    "# Computes combined Pareto Front (optimal solutions found from all the algorithms, all the runs)\n",
    "combined_pf = get_combined_PF(dfs, drop_cols=relevant_cols)"
   ]
  },
  {
   "cell_type": "markdown",
   "metadata": {},
   "source": [
    "## Plot all obtained solution (1 single plot for all algorithms, all runs) "
   ]
  },
  {
   "cell_type": "code",
   "execution_count": 28,
   "metadata": {},
   "outputs": [
    {
     "data": {
      "text/html": [
       "\n",
       "        <iframe\n",
       "            width=\"900px\"\n",
       "            height=\"1200px\"\n",
       "            src=\"https://plotly.com/~ines-p/183.embed\"\n",
       "            frameborder=\"0\"\n",
       "            allowfullscreen\n",
       "            \n",
       "        ></iframe>\n",
       "        "
      ],
      "text/plain": [
       "<IPython.lib.display.IFrame at 0x15540d49250>"
      ]
     },
     "execution_count": 28,
     "metadata": {},
     "output_type": "execute_result"
    }
   ],
   "source": [
    "create_pfs(pfs, x=objs_cols[0], y=objs_cols[1], tpf=combined_pf, names=filenames, \n",
    "           colorscale='plasma', draw_dominated=False, layout=layout_all_sols)"
   ]
  },
  {
   "cell_type": "code",
   "execution_count": 29,
   "metadata": {},
   "outputs": [
    {
     "data": {
      "text/html": [
       "\n",
       "        <iframe\n",
       "            width=\"900px\"\n",
       "            height=\"1200px\"\n",
       "            src=\"https://plotly.com/~ines-p/183.embed\"\n",
       "            frameborder=\"0\"\n",
       "            allowfullscreen\n",
       "            \n",
       "        ></iframe>\n",
       "        "
      ],
      "text/plain": [
       "<IPython.lib.display.IFrame at 0x15540c2a130>"
      ]
     },
     "execution_count": 29,
     "metadata": {},
     "output_type": "execute_result"
    }
   ],
   "source": [
    "create_pfs(pfs, x=objs_cols[0], y=objs_cols[1], names=filenames, draw_dominated=True, layout=layout_all_sols)"
   ]
  },
  {
   "cell_type": "markdown",
   "metadata": {},
   "source": [
    "## Plot algorithms per run (3 plot one for each run) "
   ]
  },
  {
   "cell_type": "code",
   "execution_count": 30,
   "metadata": {
    "scrolled": true
   },
   "outputs": [
    {
     "name": "stdout",
     "output_type": "stream",
     "text": [
      "1.0    185\n",
      "0.0     15\n",
      "Name: isDominated, dtype: int64\n",
      "1.0    171\n",
      "0.0     29\n",
      "Name: isDominated, dtype: int64\n",
      "1.0    174\n",
      "0.0     26\n",
      "Name: isDominated, dtype: int64\n",
      "1.0    191\n",
      "0.0      9\n",
      "Name: isDominated, dtype: int64\n",
      "1.0    183\n",
      "0.0     17\n",
      "Name: isDominated, dtype: int64\n",
      "1.0    187\n",
      "0.0     13\n",
      "Name: isDominated, dtype: int64\n",
      "1.0    195\n",
      "0.0      5\n",
      "Name: isDominated, dtype: int64\n",
      "1.0    192\n",
      "0.0      8\n",
      "Name: isDominated, dtype: int64\n",
      "1.0    187\n",
      "0.0     13\n",
      "Name: isDominated, dtype: int64\n",
      "1.0    190\n",
      "0.0     10\n",
      "Name: isDominated, dtype: int64\n",
      "1.0    1988\n",
      "0.0      12\n",
      "Name: isDominated, dtype: int64\n"
     ]
    }
   ],
   "source": [
    "# Get Run 1 \n",
    "dfs_run_1 = get_run_indices(dfs, 1)\n",
    "pfs_run_1 = [add_isdominated_cols(df) for df in dfs_run_1]\n",
    "combined_PF_run_1 = get_combined_PF(pfs_run_1)"
   ]
  },
  {
   "cell_type": "code",
   "execution_count": 31,
   "metadata": {
    "scrolled": true
   },
   "outputs": [
    {
     "name": "stdout",
     "output_type": "stream",
     "text": [
      "1.0    182\n",
      "0.0     18\n",
      "Name: isDominated, dtype: int64\n",
      "1.0    193\n",
      "0.0      7\n",
      "Name: isDominated, dtype: int64\n",
      "1.0    188\n",
      "0.0     12\n",
      "Name: isDominated, dtype: int64\n",
      "1.0    180\n",
      "0.0     20\n",
      "Name: isDominated, dtype: int64\n",
      "1.0    192\n",
      "0.0      8\n",
      "Name: isDominated, dtype: int64\n",
      "1.0    186\n",
      "0.0     14\n",
      "Name: isDominated, dtype: int64\n",
      "1.0    193\n",
      "0.0      7\n",
      "Name: isDominated, dtype: int64\n",
      "1.0    187\n",
      "0.0     13\n",
      "Name: isDominated, dtype: int64\n",
      "1.0    183\n",
      "0.0     17\n",
      "Name: isDominated, dtype: int64\n",
      "1.0    190\n",
      "0.0     10\n",
      "Name: isDominated, dtype: int64\n",
      "1.0    1986\n",
      "0.0      14\n",
      "Name: isDominated, dtype: int64\n"
     ]
    }
   ],
   "source": [
    "# Get Run 2 \n",
    "dfs_run_2 = get_run_indices(dfs, 2)\n",
    "pfs_run_2 = [add_isdominated_cols(df) for df in dfs_run_2]\n",
    "combined_PF_run_2 = get_combined_PF(pfs_run_2)"
   ]
  },
  {
   "cell_type": "code",
   "execution_count": 32,
   "metadata": {
    "scrolled": true
   },
   "outputs": [
    {
     "name": "stdout",
     "output_type": "stream",
     "text": [
      "1.0    184\n",
      "0.0     16\n",
      "Name: isDominated, dtype: int64\n",
      "1.0    175\n",
      "0.0     25\n",
      "Name: isDominated, dtype: int64\n",
      "1.0    178\n",
      "0.0     22\n",
      "Name: isDominated, dtype: int64\n",
      "1.0    191\n",
      "0.0      9\n",
      "Name: isDominated, dtype: int64\n",
      "1.0    186\n",
      "0.0     14\n",
      "Name: isDominated, dtype: int64\n",
      "1.0    191\n",
      "0.0      9\n",
      "Name: isDominated, dtype: int64\n",
      "1.0    190\n",
      "0.0     10\n",
      "Name: isDominated, dtype: int64\n",
      "1.0    193\n",
      "0.0      7\n",
      "Name: isDominated, dtype: int64\n",
      "1.0    190\n",
      "0.0     10\n",
      "Name: isDominated, dtype: int64\n",
      "1.0    190\n",
      "0.0     10\n",
      "Name: isDominated, dtype: int64\n",
      "1.0    1984\n",
      "0.0      16\n",
      "Name: isDominated, dtype: int64\n"
     ]
    }
   ],
   "source": [
    "# Get Run 3 \n",
    "dfs_run_3 = get_run_indices(dfs, 3)\n",
    "pfs_run_3 = [add_isdominated_cols(df) for df in dfs_run_3]\n",
    "combined_PF_run_3 = get_combined_PF(pfs_run_3)"
   ]
  },
  {
   "cell_type": "code",
   "execution_count": 33,
   "metadata": {
    "scrolled": true
   },
   "outputs": [
    {
     "name": "stdout",
     "output_type": "stream",
     "text": [
      "1.0    581\n",
      "0.0     19\n",
      "Name: isDominated, dtype: int64\n",
      "1.0    587\n",
      "0.0     13\n",
      "Name: isDominated, dtype: int64\n",
      "1.0    569\n",
      "0.0     31\n",
      "Name: isDominated, dtype: int64\n",
      "1.0    590\n",
      "0.0     10\n",
      "Name: isDominated, dtype: int64\n",
      "1.0    577\n",
      "0.0     23\n",
      "Name: isDominated, dtype: int64\n",
      "1.0    588\n",
      "0.0     12\n",
      "Name: isDominated, dtype: int64\n",
      "1.0    591\n",
      "0.0      9\n",
      "Name: isDominated, dtype: int64\n",
      "1.0    585\n",
      "0.0     15\n",
      "Name: isDominated, dtype: int64\n",
      "1.0    583\n",
      "0.0     17\n",
      "Name: isDominated, dtype: int64\n",
      "1.0    592\n",
      "0.0      8\n",
      "Name: isDominated, dtype: int64\n"
     ]
    }
   ],
   "source": [
    "# Get All Runs\n",
    "pfs_all_runs = []\n",
    "for i in range(n_algorithms):\n",
    "    pf=get_combined_PF([dfs_run_1[i], dfs_run_2[i], dfs_run_3[i]])\n",
    "    pfs_all_runs.append(pf)"
   ]
  },
  {
   "cell_type": "markdown",
   "metadata": {},
   "source": [
    "### Run 1"
   ]
  },
  {
   "cell_type": "code",
   "execution_count": 34,
   "metadata": {},
   "outputs": [
    {
     "data": {
      "text/html": [
       "\n",
       "        <iframe\n",
       "            width=\"900px\"\n",
       "            height=\"540px\"\n",
       "            src=\"https://plotly.com/~ines-p/183.embed\"\n",
       "            frameborder=\"0\"\n",
       "            allowfullscreen\n",
       "            \n",
       "        ></iframe>\n",
       "        "
      ],
      "text/plain": [
       "<IPython.lib.display.IFrame at 0x15540dfcfa0>"
      ]
     },
     "execution_count": 34,
     "metadata": {},
     "output_type": "execute_result"
    }
   ],
   "source": [
    "# Create plot with combined pareto front retrieved only from all algorithms of run 3\n",
    "create_pfs(pfs_run_1,  x=objs_cols[0], y=objs_cols[1], tpf=combined_PF_run_1, names=all_algorithms, \n",
    "           draw_dominated=True, layout=layout_Truss)"
   ]
  },
  {
   "cell_type": "code",
   "execution_count": 35,
   "metadata": {},
   "outputs": [
    {
     "data": {
      "text/html": [
       "\n",
       "        <iframe\n",
       "            width=\"900px\"\n",
       "            height=\"540px\"\n",
       "            src=\"https://plotly.com/~ines-p/183.embed\"\n",
       "            frameborder=\"0\"\n",
       "            allowfullscreen\n",
       "            \n",
       "        ></iframe>\n",
       "        "
      ],
      "text/plain": [
       "<IPython.lib.display.IFrame at 0x15540e3f310>"
      ]
     },
     "execution_count": 35,
     "metadata": {},
     "output_type": "execute_result"
    }
   ],
   "source": [
    "# Create plot with combined pareto front retrieved from all runs\n",
    "create_pfs(pfs_run_1, x=objs_cols[0], y=objs_cols[1], tpf=combined_pf, names=all_algorithms,\n",
    "           draw_dominated=True, layout=layout_Truss)"
   ]
  },
  {
   "cell_type": "markdown",
   "metadata": {},
   "source": [
    "### Run 2"
   ]
  },
  {
   "cell_type": "code",
   "execution_count": 36,
   "metadata": {},
   "outputs": [
    {
     "data": {
      "text/html": [
       "\n",
       "        <iframe\n",
       "            width=\"900px\"\n",
       "            height=\"540px\"\n",
       "            src=\"https://plotly.com/~ines-p/183.embed\"\n",
       "            frameborder=\"0\"\n",
       "            allowfullscreen\n",
       "            \n",
       "        ></iframe>\n",
       "        "
      ],
      "text/plain": [
       "<IPython.lib.display.IFrame at 0x15540ec2040>"
      ]
     },
     "execution_count": 36,
     "metadata": {},
     "output_type": "execute_result"
    }
   ],
   "source": [
    "# Create plot with combined pareto front retrieved only from all algorithms of run 3\n",
    "create_pfs(pfs_run_2,  x=objs_cols[0], y=objs_cols[1], tpf=combined_PF_run_2, names=all_algorithms, \n",
    "           draw_dominated=True, layout=layout_Truss)"
   ]
  },
  {
   "cell_type": "code",
   "execution_count": 37,
   "metadata": {},
   "outputs": [
    {
     "data": {
      "text/html": [
       "\n",
       "        <iframe\n",
       "            width=\"900px\"\n",
       "            height=\"540px\"\n",
       "            src=\"https://plotly.com/~ines-p/183.embed\"\n",
       "            frameborder=\"0\"\n",
       "            allowfullscreen\n",
       "            \n",
       "        ></iframe>\n",
       "        "
      ],
      "text/plain": [
       "<IPython.lib.display.IFrame at 0x15540e20280>"
      ]
     },
     "execution_count": 37,
     "metadata": {},
     "output_type": "execute_result"
    }
   ],
   "source": [
    "# Create plot with combined pareto front retrieved from all runs\n",
    "create_pfs(pfs_run_2, x=objs_cols[0], y=objs_cols[1], tpf=combined_pf, names=all_algorithms,\n",
    "           draw_dominated=True, layout=layout_Truss)"
   ]
  },
  {
   "cell_type": "markdown",
   "metadata": {},
   "source": [
    "### Run 3"
   ]
  },
  {
   "cell_type": "code",
   "execution_count": 38,
   "metadata": {},
   "outputs": [
    {
     "data": {
      "text/html": [
       "\n",
       "        <iframe\n",
       "            width=\"900px\"\n",
       "            height=\"540px\"\n",
       "            src=\"https://plotly.com/~ines-p/183.embed\"\n",
       "            frameborder=\"0\"\n",
       "            allowfullscreen\n",
       "            \n",
       "        ></iframe>\n",
       "        "
      ],
      "text/plain": [
       "<IPython.lib.display.IFrame at 0x15540ec9490>"
      ]
     },
     "execution_count": 38,
     "metadata": {},
     "output_type": "execute_result"
    }
   ],
   "source": [
    "# Create plot with combined pareto front retrieved only from all algorithms of run 3\n",
    "create_pfs(pfs_run_3,  x=objs_cols[0], y=objs_cols[1], tpf=combined_PF_run_2, names=all_algorithms, \n",
    "           draw_dominated=True, layout=layout_Truss)"
   ]
  },
  {
   "cell_type": "code",
   "execution_count": 39,
   "metadata": {},
   "outputs": [
    {
     "data": {
      "text/html": [
       "\n",
       "        <iframe\n",
       "            width=\"900px\"\n",
       "            height=\"540px\"\n",
       "            src=\"https://plotly.com/~ines-p/183.embed\"\n",
       "            frameborder=\"0\"\n",
       "            allowfullscreen\n",
       "            \n",
       "        ></iframe>\n",
       "        "
      ],
      "text/plain": [
       "<IPython.lib.display.IFrame at 0x15540f18940>"
      ]
     },
     "execution_count": 39,
     "metadata": {},
     "output_type": "execute_result"
    }
   ],
   "source": [
    "# Create plot with combined pareto front retrieved from all runs\n",
    "create_pfs(pfs_run_3, x=objs_cols[0], y=objs_cols[1], tpf=combined_pf, names=all_algorithms,\n",
    "           draw_dominated=True, layout=layout_Truss)"
   ]
  },
  {
   "cell_type": "markdown",
   "metadata": {},
   "source": [
    "### All Runs"
   ]
  },
  {
   "cell_type": "code",
   "execution_count": 40,
   "metadata": {},
   "outputs": [
    {
     "data": {
      "text/html": [
       "\n",
       "        <iframe\n",
       "            width=\"900px\"\n",
       "            height=\"540px\"\n",
       "            src=\"https://plotly.com/~ines-p/183.embed\"\n",
       "            frameborder=\"0\"\n",
       "            allowfullscreen\n",
       "            \n",
       "        ></iframe>\n",
       "        "
      ],
      "text/plain": [
       "<IPython.lib.display.IFrame at 0x15540ec9a60>"
      ]
     },
     "execution_count": 40,
     "metadata": {},
     "output_type": "execute_result"
    }
   ],
   "source": [
    "# Create plot with one PF per algorthim, using the information of the 3 runs\n",
    "create_pfs(pfs_all_runs, x=objs_cols[0], y=objs_cols[1], tpf=combined_pf, names=all_algorithms, \n",
    "           colorscale=None,\n",
    "           colors=[\n",
    "                '#2fcce0', '#307382',\n",
    "                '#3FC283', '#046645',\n",
    "                '#ffc800', '#ff8000', '#db3f30', \n",
    "                '#de7ec9', '#db30b9', '#8a39db'],\n",
    "           draw_dominated=True, layout=layout_Truss)"
   ]
  },
  {
   "cell_type": "markdown",
   "metadata": {},
   "source": [
    "## Plot the Performance Indicators per iteration\n",
    "After running the optimization processes for the 10 algorithms for 3 runs, we computed their __Hypervolume (HV)__ \\[1\\], as well as other indicators, such as the __Overall Non-dominated Vector Generated (ONVG)__ \\[2\\] and the __Set Spacing (SS)__ \\[3\\]."
   ]
  },
  {
   "cell_type": "code",
   "execution_count": 41,
   "metadata": {},
   "outputs": [],
   "source": [
    "idfs = load_results(filenames, base_folder=indicators_folder, has_header=True, keep_header=True, usecols=None)"
   ]
  },
  {
   "cell_type": "code",
   "execution_count": 42,
   "metadata": {},
   "outputs": [
    {
     "data": {
      "text/html": [
       "<div>\n",
       "<style scoped>\n",
       "    .dataframe tbody tr th:only-of-type {\n",
       "        vertical-align: middle;\n",
       "    }\n",
       "\n",
       "    .dataframe tbody tr th {\n",
       "        vertical-align: top;\n",
       "    }\n",
       "\n",
       "    .dataframe thead th {\n",
       "        text-align: right;\n",
       "    }\n",
       "</style>\n",
       "<table border=\"1\" class=\"dataframe\">\n",
       "  <thead>\n",
       "    <tr style=\"text-align: right;\">\n",
       "      <th></th>\n",
       "      <th>hypervolume</th>\n",
       "      <th>spacing</th>\n",
       "      <th>onvg</th>\n",
       "    </tr>\n",
       "  </thead>\n",
       "  <tbody>\n",
       "    <tr>\n",
       "      <th>0</th>\n",
       "      <td>0.223099</td>\n",
       "      <td>-1.000000</td>\n",
       "      <td>1.0</td>\n",
       "    </tr>\n",
       "    <tr>\n",
       "      <th>1</th>\n",
       "      <td>0.320720</td>\n",
       "      <td>0.000000</td>\n",
       "      <td>2.0</td>\n",
       "    </tr>\n",
       "    <tr>\n",
       "      <th>2</th>\n",
       "      <td>0.352056</td>\n",
       "      <td>0.028282</td>\n",
       "      <td>3.0</td>\n",
       "    </tr>\n",
       "    <tr>\n",
       "      <th>3</th>\n",
       "      <td>0.352056</td>\n",
       "      <td>0.028282</td>\n",
       "      <td>3.0</td>\n",
       "    </tr>\n",
       "    <tr>\n",
       "      <th>4</th>\n",
       "      <td>0.352056</td>\n",
       "      <td>0.028282</td>\n",
       "      <td>3.0</td>\n",
       "    </tr>\n",
       "  </tbody>\n",
       "</table>\n",
       "</div>"
      ],
      "text/plain": [
       "   hypervolume   spacing  onvg\n",
       "0     0.223099 -1.000000   1.0\n",
       "1     0.320720  0.000000   2.0\n",
       "2     0.352056  0.028282   3.0\n",
       "3     0.352056  0.028282   3.0\n",
       "4     0.352056  0.028282   3.0"
      ]
     },
     "execution_count": 42,
     "metadata": {},
     "output_type": "execute_result"
    }
   ],
   "source": [
    "idfs[0].head() # Sanity Check"
   ]
  },
  {
   "cell_type": "code",
   "execution_count": 43,
   "metadata": {},
   "outputs": [],
   "source": [
    "idfs_run_1 = get_run_indices(idfs, 1)\n",
    "idfs_run_2 = get_run_indices(idfs, 2)\n",
    "idfs_run_3 = get_run_indices(idfs, 3)"
   ]
  },
  {
   "cell_type": "code",
   "execution_count": 44,
   "metadata": {},
   "outputs": [],
   "source": [
    "hypervolume_run_1 = [get_last_value_iter(df, col_name='hypervolume') for df in idfs_run_1]\n",
    "hypervolume_run_2 = [get_last_value_iter(df, col_name='hypervolume') for df in idfs_run_2]\n",
    "hypervolume_run_3 = [get_last_value_iter(df, col_name='hypervolume') for df in idfs_run_3]\n",
    "hypervolume_per_run = [hypervolume_run_1, hypervolume_run_2, hypervolume_run_3]"
   ]
  },
  {
   "cell_type": "code",
   "execution_count": 45,
   "metadata": {},
   "outputs": [],
   "source": [
    "onvg_run_1 = [get_last_value_iter(df, col_name='onvg') for df in idfs_run_1]\n",
    "onvg_run_2 = [get_last_value_iter(df, col_name='onvg') for df in idfs_run_2]\n",
    "onvg_run_3 = [get_last_value_iter(df, col_name='onvg') for df in idfs_run_3]\n",
    "onvg_per_run = [onvg_run_1, onvg_run_2, onvg_run_3]"
   ]
  },
  {
   "cell_type": "code",
   "execution_count": 46,
   "metadata": {},
   "outputs": [],
   "source": [
    "spacing_run_1 = [get_last_value_iter(df, col_name='spacing') for df in idfs_run_1]\n",
    "spacing_run_2 = [get_last_value_iter(df, col_name='spacing') for df in idfs_run_2]\n",
    "spacing_run_3 = [get_last_value_iter(df, col_name='spacing') for df in idfs_run_3]\n",
    "spacing_per_run = [spacing_run_1, spacing_run_2, spacing_run_3]"
   ]
  },
  {
   "cell_type": "markdown",
   "metadata": {},
   "source": [
    "### Run 1"
   ]
  },
  {
   "cell_type": "code",
   "execution_count": 47,
   "metadata": {},
   "outputs": [
    {
     "data": {
      "text/html": [
       "\n",
       "        <iframe\n",
       "            width=\"100%\"\n",
       "            height=\"525px\"\n",
       "            src=\"https://plotly.com/~ines-p/185.embed\"\n",
       "            frameborder=\"0\"\n",
       "            allowfullscreen\n",
       "            \n",
       "        ></iframe>\n",
       "        "
      ],
      "text/plain": [
       "<IPython.lib.display.IFrame at 0x15540f75e80>"
      ]
     },
     "execution_count": 47,
     "metadata": {},
     "output_type": "execute_result"
    }
   ],
   "source": [
    "scatter(hypervolume_run_1, mode='lines+markers')"
   ]
  },
  {
   "cell_type": "code",
   "execution_count": 48,
   "metadata": {},
   "outputs": [
    {
     "data": {
      "text/html": [
       "\n",
       "        <iframe\n",
       "            width=\"100%\"\n",
       "            height=\"525px\"\n",
       "            src=\"https://plotly.com/~ines-p/185.embed\"\n",
       "            frameborder=\"0\"\n",
       "            allowfullscreen\n",
       "            \n",
       "        ></iframe>\n",
       "        "
      ],
      "text/plain": [
       "<IPython.lib.display.IFrame at 0x15540e27d00>"
      ]
     },
     "execution_count": 48,
     "metadata": {},
     "output_type": "execute_result"
    }
   ],
   "source": [
    "scatter(onvg_run_1, mode='lines+markers')"
   ]
  },
  {
   "cell_type": "code",
   "execution_count": 49,
   "metadata": {},
   "outputs": [
    {
     "data": {
      "text/html": [
       "\n",
       "        <iframe\n",
       "            width=\"100%\"\n",
       "            height=\"525px\"\n",
       "            src=\"https://plotly.com/~ines-p/185.embed\"\n",
       "            frameborder=\"0\"\n",
       "            allowfullscreen\n",
       "            \n",
       "        ></iframe>\n",
       "        "
      ],
      "text/plain": [
       "<IPython.lib.display.IFrame at 0x15540f18e20>"
      ]
     },
     "execution_count": 49,
     "metadata": {},
     "output_type": "execute_result"
    }
   ],
   "source": [
    "scatter(spacing_run_1, mode='lines+markers')"
   ]
  },
  {
   "cell_type": "markdown",
   "metadata": {},
   "source": [
    "### Run 2"
   ]
  },
  {
   "cell_type": "code",
   "execution_count": 50,
   "metadata": {},
   "outputs": [
    {
     "data": {
      "text/html": [
       "\n",
       "        <iframe\n",
       "            width=\"100%\"\n",
       "            height=\"525px\"\n",
       "            src=\"https://plotly.com/~ines-p/185.embed\"\n",
       "            frameborder=\"0\"\n",
       "            allowfullscreen\n",
       "            \n",
       "        ></iframe>\n",
       "        "
      ],
      "text/plain": [
       "<IPython.lib.display.IFrame at 0x15540f59100>"
      ]
     },
     "execution_count": 50,
     "metadata": {},
     "output_type": "execute_result"
    }
   ],
   "source": [
    "scatter(hypervolume_run_2, mode='lines+markers')"
   ]
  },
  {
   "cell_type": "code",
   "execution_count": 51,
   "metadata": {},
   "outputs": [
    {
     "data": {
      "text/html": [
       "\n",
       "        <iframe\n",
       "            width=\"100%\"\n",
       "            height=\"525px\"\n",
       "            src=\"https://plotly.com/~ines-p/185.embed\"\n",
       "            frameborder=\"0\"\n",
       "            allowfullscreen\n",
       "            \n",
       "        ></iframe>\n",
       "        "
      ],
      "text/plain": [
       "<IPython.lib.display.IFrame at 0x15540d45eb0>"
      ]
     },
     "execution_count": 51,
     "metadata": {},
     "output_type": "execute_result"
    }
   ],
   "source": [
    "scatter(onvg_run_2, mode='lines+markers')"
   ]
  },
  {
   "cell_type": "code",
   "execution_count": 52,
   "metadata": {},
   "outputs": [
    {
     "data": {
      "text/html": [
       "\n",
       "        <iframe\n",
       "            width=\"100%\"\n",
       "            height=\"525px\"\n",
       "            src=\"https://plotly.com/~ines-p/185.embed\"\n",
       "            frameborder=\"0\"\n",
       "            allowfullscreen\n",
       "            \n",
       "        ></iframe>\n",
       "        "
      ],
      "text/plain": [
       "<IPython.lib.display.IFrame at 0x15540f6dc10>"
      ]
     },
     "execution_count": 52,
     "metadata": {},
     "output_type": "execute_result"
    }
   ],
   "source": [
    "scatter(spacing_run_2, mode='lines+markers')"
   ]
  },
  {
   "cell_type": "markdown",
   "metadata": {},
   "source": [
    "### Run 3"
   ]
  },
  {
   "cell_type": "code",
   "execution_count": 53,
   "metadata": {},
   "outputs": [
    {
     "data": {
      "text/html": [
       "\n",
       "        <iframe\n",
       "            width=\"100%\"\n",
       "            height=\"525px\"\n",
       "            src=\"https://plotly.com/~ines-p/185.embed\"\n",
       "            frameborder=\"0\"\n",
       "            allowfullscreen\n",
       "            \n",
       "        ></iframe>\n",
       "        "
      ],
      "text/plain": [
       "<IPython.lib.display.IFrame at 0x15540d06490>"
      ]
     },
     "execution_count": 53,
     "metadata": {},
     "output_type": "execute_result"
    }
   ],
   "source": [
    "scatter(hypervolume_run_3, mode='lines+markers')"
   ]
  },
  {
   "cell_type": "code",
   "execution_count": 54,
   "metadata": {},
   "outputs": [
    {
     "data": {
      "text/html": [
       "\n",
       "        <iframe\n",
       "            width=\"100%\"\n",
       "            height=\"525px\"\n",
       "            src=\"https://plotly.com/~ines-p/185.embed\"\n",
       "            frameborder=\"0\"\n",
       "            allowfullscreen\n",
       "            \n",
       "        ></iframe>\n",
       "        "
      ],
      "text/plain": [
       "<IPython.lib.display.IFrame at 0x15540f75e20>"
      ]
     },
     "execution_count": 54,
     "metadata": {},
     "output_type": "execute_result"
    }
   ],
   "source": [
    "scatter(onvg_run_3, mode='lines+markers')"
   ]
  },
  {
   "cell_type": "code",
   "execution_count": 55,
   "metadata": {
    "scrolled": false
   },
   "outputs": [
    {
     "data": {
      "text/html": [
       "\n",
       "        <iframe\n",
       "            width=\"100%\"\n",
       "            height=\"525px\"\n",
       "            src=\"https://plotly.com/~ines-p/185.embed\"\n",
       "            frameborder=\"0\"\n",
       "            allowfullscreen\n",
       "            \n",
       "        ></iframe>\n",
       "        "
      ],
      "text/plain": [
       "<IPython.lib.display.IFrame at 0x15540fa7850>"
      ]
     },
     "execution_count": 55,
     "metadata": {},
     "output_type": "execute_result"
    }
   ],
   "source": [
    "scatter(spacing_run_3, mode='lines+markers')"
   ]
  },
  {
   "cell_type": "markdown",
   "metadata": {},
   "source": [
    "## Average and Standard Deviation across the 3 runs"
   ]
  },
  {
   "cell_type": "code",
   "execution_count": 56,
   "metadata": {},
   "outputs": [],
   "source": [
    "# Default layout for the pareto fronts graphs\n",
    "layout_indicators = lambda x: go.Layout(\n",
    "        template=\"plotly_white\",\n",
    "        autosize=False,\n",
    "        # Define plot size\n",
    "        width=850,\n",
    "        height=500,\n",
    "        # Legend Position\n",
    "        legend=dict(\n",
    "            orientation='h',\n",
    "            x=0.02,\n",
    "            y=-0.25\n",
    "        ),\n",
    "        # Define axis\n",
    "        xaxis=dict(\n",
    "            title=\"Number of Evaluations\",\n",
    "            range=[1, 230],\n",
    "            # autorange=True,\n",
    "            showgrid=True,\n",
    "            zeroline=True,\n",
    "            showline=True,\n",
    "            ticks='',\n",
    "            showticklabels=True,\n",
    "            tickvals = np.array(range(pop_size, 225, pop_size)),\n",
    "        ),\n",
    "        yaxis=dict(\n",
    "            title=x,\n",
    "            showgrid=True,\n",
    "            zeroline=False,\n",
    "            showline=True,\n",
    "            ticks='',\n",
    "            showticklabels=True\n",
    "        )\n",
    ")"
   ]
  },
  {
   "cell_type": "markdown",
   "metadata": {},
   "source": [
    "### Hypervolume Indicator"
   ]
  },
  {
   "cell_type": "code",
   "execution_count": 57,
   "metadata": {},
   "outputs": [],
   "source": [
    "layout_hv = go.Layout(\n",
    "    template=\"ggplot2\",\n",
    "    \n",
    "    # Define plot size\n",
    "    autosize=False,\n",
    "    width=850, \n",
    "    height=600,\n",
    "\n",
    "    legend=dict(\n",
    "            orientation='h',\n",
    "            x=0.02,\n",
    "            y=-0.25\n",
    "        ),\n",
    "\n",
    "    # Define axis\n",
    "    xaxis=dict(\n",
    "        title=\"Number of Evaluations\",\n",
    "        range=[10, 200],\n",
    "        showgrid=True,\n",
    "        zeroline=True,\n",
    "        showline=True,\n",
    "        ticks='',\n",
    "        showticklabels=True,\n",
    "        tickvals = np.array(range(pop_size, 225, pop_size)),\n",
    "    ),\n",
    "    yaxis=dict(\n",
    "        title=\"Hypervolume\",\n",
    "        range=[0.35, 0.75],    \n",
    "        showgrid=True,\n",
    "        zeroline=False,\n",
    "        showline=True,\n",
    "        ticks='',\n",
    "        showticklabels=True,\n",
    "#         tickformat='.',\n",
    "        tick0 = 0.6,\n",
    "        dtick = 0.1\n",
    "    )\n",
    ")"
   ]
  },
  {
   "cell_type": "code",
   "execution_count": 58,
   "metadata": {},
   "outputs": [],
   "source": [
    "hypervolume_avg, hypervolume_std = indicators_results(hypervolume_per_run)"
   ]
  },
  {
   "cell_type": "code",
   "execution_count": 59,
   "metadata": {},
   "outputs": [
    {
     "data": {
      "text/html": [
       "\n",
       "        <iframe\n",
       "            width=\"850px\"\n",
       "            height=\"600px\"\n",
       "            src=\"https://plotly.com/~ines-p/185.embed\"\n",
       "            frameborder=\"0\"\n",
       "            allowfullscreen\n",
       "            \n",
       "        ></iframe>\n",
       "        "
      ],
      "text/plain": [
       "<IPython.lib.display.IFrame at 0x15540d06460>"
      ]
     },
     "execution_count": 59,
     "metadata": {},
     "output_type": "execute_result"
    }
   ],
   "source": [
    "scatter(hypervolume_avg, mode='lines+markers',\n",
    "#         layout=layout_indicators('Hypervolume'),\n",
    "        layout=layout_hv,\n",
    "        colorscale=None,\n",
    "        colors=['#2fcce0', '#307382',\n",
    "                '#3FC283', '#046645',\n",
    "                '#ffc800', '#ff8000', '#db3f30', \n",
    "                '#de7ec9', '#db30b9', '#8a39db']\n",
    "       )"
   ]
  },
  {
   "cell_type": "code",
   "execution_count": 60,
   "metadata": {},
   "outputs": [
    {
     "data": {
      "text/html": [
       "\n",
       "        <iframe\n",
       "            width=\"850px\"\n",
       "            height=\"500px\"\n",
       "            src=\"https://plotly.com/~ines-p/185.embed\"\n",
       "            frameborder=\"0\"\n",
       "            allowfullscreen\n",
       "            \n",
       "        ></iframe>\n",
       "        "
      ],
      "text/plain": [
       "<IPython.lib.display.IFrame at 0x15540f6d730>"
      ]
     },
     "execution_count": 60,
     "metadata": {},
     "output_type": "execute_result"
    }
   ],
   "source": [
    "scatter(hypervolume_std, mode='lines+markers', layout=layout_indicators('Hypervolume'))"
   ]
  },
  {
   "cell_type": "markdown",
   "metadata": {},
   "source": [
    "### ONVG Indicator"
   ]
  },
  {
   "cell_type": "code",
   "execution_count": 61,
   "metadata": {},
   "outputs": [],
   "source": [
    "onvg_avg, onvg_std = indicators_results(onvg_per_run)"
   ]
  },
  {
   "cell_type": "code",
   "execution_count": 62,
   "metadata": {},
   "outputs": [
    {
     "data": {
      "text/html": [
       "\n",
       "        <iframe\n",
       "            width=\"850px\"\n",
       "            height=\"500px\"\n",
       "            src=\"https://plotly.com/~ines-p/185.embed\"\n",
       "            frameborder=\"0\"\n",
       "            allowfullscreen\n",
       "            \n",
       "        ></iframe>\n",
       "        "
      ],
      "text/plain": [
       "<IPython.lib.display.IFrame at 0x15540f8d9d0>"
      ]
     },
     "execution_count": 62,
     "metadata": {},
     "output_type": "execute_result"
    }
   ],
   "source": [
    "scatter(onvg_avg, mode='lines+markers', layout=layout_indicators('ONVG'))"
   ]
  },
  {
   "cell_type": "code",
   "execution_count": 63,
   "metadata": {},
   "outputs": [
    {
     "data": {
      "text/html": [
       "\n",
       "        <iframe\n",
       "            width=\"850px\"\n",
       "            height=\"500px\"\n",
       "            src=\"https://plotly.com/~ines-p/185.embed\"\n",
       "            frameborder=\"0\"\n",
       "            allowfullscreen\n",
       "            \n",
       "        ></iframe>\n",
       "        "
      ],
      "text/plain": [
       "<IPython.lib.display.IFrame at 0x15541024580>"
      ]
     },
     "execution_count": 63,
     "metadata": {},
     "output_type": "execute_result"
    }
   ],
   "source": [
    "scatter(onvg_std, mode='lines+markers', layout=layout_indicators('ONVG'))"
   ]
  },
  {
   "cell_type": "markdown",
   "metadata": {},
   "source": [
    "### Spacing Indicator"
   ]
  },
  {
   "cell_type": "code",
   "execution_count": 64,
   "metadata": {},
   "outputs": [],
   "source": [
    "spacing_avg, spacing_std = indicators_results(spacing_per_run)"
   ]
  },
  {
   "cell_type": "code",
   "execution_count": 65,
   "metadata": {},
   "outputs": [
    {
     "data": {
      "text/html": [
       "\n",
       "        <iframe\n",
       "            width=\"850px\"\n",
       "            height=\"500px\"\n",
       "            src=\"https://plotly.com/~ines-p/185.embed\"\n",
       "            frameborder=\"0\"\n",
       "            allowfullscreen\n",
       "            \n",
       "        ></iframe>\n",
       "        "
      ],
      "text/plain": [
       "<IPython.lib.display.IFrame at 0x15540fcb4f0>"
      ]
     },
     "execution_count": 65,
     "metadata": {},
     "output_type": "execute_result"
    }
   ],
   "source": [
    "scatter(spacing_avg, mode='lines+markers', layout=layout_indicators('Spacing'))"
   ]
  },
  {
   "cell_type": "code",
   "execution_count": 66,
   "metadata": {},
   "outputs": [
    {
     "data": {
      "text/html": [
       "\n",
       "        <iframe\n",
       "            width=\"850px\"\n",
       "            height=\"500px\"\n",
       "            src=\"https://plotly.com/~ines-p/185.embed\"\n",
       "            frameborder=\"0\"\n",
       "            allowfullscreen\n",
       "            \n",
       "        ></iframe>\n",
       "        "
      ],
      "text/plain": [
       "<IPython.lib.display.IFrame at 0x1554106abe0>"
      ]
     },
     "execution_count": 66,
     "metadata": {},
     "output_type": "execute_result"
    }
   ],
   "source": [
    "scatter(spacing_std, mode='lines+markers', layout=layout_indicators('Spacing'))"
   ]
  },
  {
   "cell_type": "markdown",
   "metadata": {},
   "source": [
    "__References__\n",
    "\n",
    "\\[1\\] Russo, L. M. S., & Francisco, A. P. (2014). _Extending quick hypervolume_. Journal of Heuristics, 22(3), 245–271.\n",
    "\n",
    "\\[2\\] Veldhuizen, D. V. (1999). _Multi Objective evolutionary algorithms: Classifications, Analysis, New Innovations. Multi Objective evolutionary algorithms_. Air Force Institute of Technology, Wright Patterson, Ohio.\n",
    "\n",
    "\\[3\\] Schott, J. R. (1995). _Fault Tolerant Design Using Single and Multicriteria Genetic Algorithm Optimization_. Massachusetts Institute of Technology, Boston, MA."
   ]
  }
 ],
 "metadata": {
  "@webio": {
   "lastCommId": null,
   "lastKernelId": null
  },
  "kernelspec": {
   "display_name": "Python 3 (ipykernel)",
   "language": "python",
   "name": "python3"
  },
  "language_info": {
   "codemirror_mode": {
    "name": "ipython",
    "version": 3
   },
   "file_extension": ".py",
   "mimetype": "text/x-python",
   "name": "python",
   "nbconvert_exporter": "python",
   "pygments_lexer": "ipython3",
   "version": "3.8.11"
  },
  "toc": {
   "base_numbering": 1,
   "nav_menu": {},
   "number_sections": true,
   "sideBar": true,
   "skip_h1_title": false,
   "title_cell": "Table of Contents",
   "title_sidebar": "Contents",
   "toc_cell": false,
   "toc_position": {
    "height": "calc(100% - 180px)",
    "left": "10px",
    "top": "150px",
    "width": "384px"
   },
   "toc_section_display": true,
   "toc_window_display": true
  }
 },
 "nbformat": 4,
 "nbformat_minor": 2
}
