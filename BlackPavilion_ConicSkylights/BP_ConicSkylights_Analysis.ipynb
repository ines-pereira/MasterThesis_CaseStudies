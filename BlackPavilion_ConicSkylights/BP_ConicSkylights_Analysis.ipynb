{
 "cells": [
  {
   "cell_type": "markdown",
   "metadata": {},
   "source": [
    "# Case Study: Black Pavilion with Conic Skyligths"
   ]
  },
  {
   "cell_type": "code",
   "execution_count": 1,
   "metadata": {},
   "outputs": [],
   "source": [
    "# OS functionalities (to deal with files)\n",
    "import os\n",
    "\n",
    "# Enhanced Iteration capabilities (to use cross-products)\n",
    "import itertools\n",
    "\n",
    "# Data processing packages\n",
    "import pandas as pd\n",
    "import numpy as np"
   ]
  },
  {
   "cell_type": "markdown",
   "metadata": {},
   "source": [
    "## Global Setup for Processing Data\n",
    "\n",
    "In this section, we define all the global constants that will be used thourought the script. By defining them up here, we are making this notebook purely parametric and reusable for other projects (as long as the folder structure remains the same).  "
   ]
  },
  {
   "cell_type": "code",
   "execution_count": 2,
   "metadata": {},
   "outputs": [
    {
     "data": {
      "text/plain": [
       "['SMPSO_results_01.csv',\n",
       " 'NSGAII_results_01.csv',\n",
       " 'SPEA2_results_01.csv',\n",
       " 'GPR_SMPSO_results_01.csv',\n",
       " 'GPR_NSGAII_results_01.csv',\n",
       " 'GPR_SPEA2_results_01.csv',\n",
       " 'SMPSO_results_02.csv',\n",
       " 'NSGAII_results_02.csv',\n",
       " 'SPEA2_results_02.csv',\n",
       " 'GPR_SMPSO_results_02.csv',\n",
       " 'GPR_NSGAII_results_02.csv',\n",
       " 'GPR_SPEA2_results_02.csv',\n",
       " 'SMPSO_results_03.csv',\n",
       " 'NSGAII_results_03.csv',\n",
       " 'SPEA2_results_03.csv',\n",
       " 'GPR_SMPSO_results_03.csv',\n",
       " 'GPR_NSGAII_results_03.csv',\n",
       " 'GPR_SPEA2_results_03.csv']"
      ]
     },
     "execution_count": 2,
     "metadata": {},
     "output_type": "execute_result"
    }
   ],
   "source": [
    "# Folders Structure\n",
    "base_folder = os.getcwd()\n",
    "results_folder = os.path.join(base_folder, \"algorithms\")\n",
    "output_folder = \"./output/\"\n",
    "\n",
    "# CSV File Configuration\n",
    "has_header=True\n",
    "files_sep= \",\"\n",
    "file_extension = 'csv'\n",
    "\n",
    "# Optimization Settings\n",
    "runs = [1, 2, 3]\n",
    "nruns = len(runs)\n",
    "max_evals = 600\n",
    "\n",
    "## Problem Definition (in the files) \n",
    "### Variables\n",
    "n_skylights = 7\n",
    "max_dist = 8\n",
    "center_y = 9\n",
    "radius_m = 10\n",
    "radius_M = 11\n",
    "skylight_material = 12\n",
    "curtain_wall_material = 13\n",
    "vars_cols = [n_skylights, max_dist, center_y, radius_m, radius_M, skylight_material, curtain_wall_material]\n",
    "\n",
    "### Objectives  \n",
    "material_cost = 20\n",
    "sUDI = 21\n",
    "objs_cols = [material_cost, sUDI]\n",
    "\n",
    "feasible_col = 19\n",
    "\n",
    "relevant_cols = vars_cols + objs_cols + [feasible_col]\n",
    "\n",
    "## Multi-Objective Optimization Algorithms\n",
    "### Metaheuristics\n",
    "pop_size = 40\n",
    "metaheuristics = [\"SMPSO\", \"NSGAII\", \"SPEA2\"]\n",
    "\n",
    "### Model Based (or metamodel)\n",
    "metamodels_base = ['GPR'] \n",
    "metamodels_strategies = [\"SMPSO\", 'NSGAII', \"SPEA2\"]\n",
    "metamodels_algorithms = [f\"{b}_{s}\" for (b, s) in itertools.product(metamodels_base, metamodels_strategies)]\n",
    "\n",
    "all_algorithms = metaheuristics + metamodels_algorithms\n",
    "n_algorithms = len(all_algorithms)\n",
    "\n",
    "### Filenames with the results \n",
    "filenames = [f\"{a}_results_0{r}.{file_extension}\" for (r, a) in itertools.product(runs, all_algorithms)]\n",
    "filenames"
   ]
  },
  {
   "cell_type": "code",
   "execution_count": 3,
   "metadata": {},
   "outputs": [
    {
     "data": {
      "text/plain": [
       "['SMPSO_results_01.csv',\n",
       " 'GPR_SMPSO_results_01.csv',\n",
       " 'SMPSO_results_02.csv',\n",
       " 'GPR_SMPSO_results_02.csv',\n",
       " 'SMPSO_results_03.csv',\n",
       " 'GPR_SMPSO_results_03.csv']"
      ]
     },
     "execution_count": 3,
     "metadata": {},
     "output_type": "execute_result"
    }
   ],
   "source": [
    "# Sanity check: verify the file names are what we expected\n",
    "filenames[::3]"
   ]
  },
  {
   "cell_type": "markdown",
   "metadata": {},
   "source": [
    "## Input/Output (IO) Methods \n",
    "\n",
    "In this subsection we create the methods that will be responsible for loading the data from the files. To manipulate the data, we will use pandas.DataFrame data structure. This can be easily manipulated and different statistics can be computed on top of these abstractions."
   ]
  },
  {
   "cell_type": "code",
   "execution_count": 4,
   "metadata": {},
   "outputs": [],
   "source": [
    "def load_results(filenames, base_folder=results_folder, \n",
    "                 has_header=True, keep_header=False, \n",
    "                 sep=files_sep, usecols=relevant_cols,  \n",
    "                 max_lines=max_evals):\n",
    "    \"\"\"Loads the data from the specified `base_folder` using the `filenames`.\n",
    "    It assumes the filenames\n",
    "    \"\"\"\n",
    "    read_args = { \n",
    "        \"header\": 'infer' if keep_header else None, \n",
    "        \"sep\": sep,\n",
    "        \"usecols\": usecols if usecols else None,\n",
    "        \"skiprows\": 1 if has_header and not keep_header else 0,\n",
    "    }\n",
    "    filepaths = [os.path.join(base_folder, f) for f in filenames]        \n",
    "    if max_lines:\n",
    "        return [pd.read_csv(f, **read_args)[0:max_lines] for f in filepaths]\n",
    "    else:\n",
    "        return [pd.read_csv(f, **read_args) for f in filepaths]"
   ]
  },
  {
   "cell_type": "code",
   "execution_count": 5,
   "metadata": {},
   "outputs": [
    {
     "data": {
      "text/html": [
       "<div>\n",
       "<style scoped>\n",
       "    .dataframe tbody tr th:only-of-type {\n",
       "        vertical-align: middle;\n",
       "    }\n",
       "\n",
       "    .dataframe tbody tr th {\n",
       "        vertical-align: top;\n",
       "    }\n",
       "\n",
       "    .dataframe thead th {\n",
       "        text-align: right;\n",
       "    }\n",
       "</style>\n",
       "<table border=\"1\" class=\"dataframe\">\n",
       "  <thead>\n",
       "    <tr style=\"text-align: right;\">\n",
       "      <th></th>\n",
       "      <th>7</th>\n",
       "      <th>8</th>\n",
       "      <th>9</th>\n",
       "      <th>10</th>\n",
       "      <th>11</th>\n",
       "      <th>12</th>\n",
       "      <th>13</th>\n",
       "      <th>19</th>\n",
       "      <th>20</th>\n",
       "      <th>21</th>\n",
       "    </tr>\n",
       "  </thead>\n",
       "  <tbody>\n",
       "    <tr>\n",
       "      <th>0</th>\n",
       "      <td>6</td>\n",
       "      <td>1484</td>\n",
       "      <td>166</td>\n",
       "      <td>6</td>\n",
       "      <td>16</td>\n",
       "      <td>0</td>\n",
       "      <td>1</td>\n",
       "      <td>False</td>\n",
       "      <td>9.223372e+18</td>\n",
       "      <td>9.223372e+18</td>\n",
       "    </tr>\n",
       "    <tr>\n",
       "      <th>1</th>\n",
       "      <td>3</td>\n",
       "      <td>1404</td>\n",
       "      <td>204</td>\n",
       "      <td>2</td>\n",
       "      <td>14</td>\n",
       "      <td>2</td>\n",
       "      <td>3</td>\n",
       "      <td>True</td>\n",
       "      <td>1.390607e+04</td>\n",
       "      <td>-0.000000e+00</td>\n",
       "    </tr>\n",
       "    <tr>\n",
       "      <th>2</th>\n",
       "      <td>7</td>\n",
       "      <td>1345</td>\n",
       "      <td>30</td>\n",
       "      <td>8</td>\n",
       "      <td>15</td>\n",
       "      <td>3</td>\n",
       "      <td>0</td>\n",
       "      <td>False</td>\n",
       "      <td>9.223372e+18</td>\n",
       "      <td>9.223372e+18</td>\n",
       "    </tr>\n",
       "    <tr>\n",
       "      <th>3</th>\n",
       "      <td>6</td>\n",
       "      <td>2134</td>\n",
       "      <td>187</td>\n",
       "      <td>7</td>\n",
       "      <td>2</td>\n",
       "      <td>2</td>\n",
       "      <td>3</td>\n",
       "      <td>False</td>\n",
       "      <td>9.223372e+18</td>\n",
       "      <td>9.223372e+18</td>\n",
       "    </tr>\n",
       "    <tr>\n",
       "      <th>4</th>\n",
       "      <td>3</td>\n",
       "      <td>1737</td>\n",
       "      <td>84</td>\n",
       "      <td>3</td>\n",
       "      <td>9</td>\n",
       "      <td>1</td>\n",
       "      <td>2</td>\n",
       "      <td>False</td>\n",
       "      <td>9.223372e+18</td>\n",
       "      <td>9.223372e+18</td>\n",
       "    </tr>\n",
       "  </tbody>\n",
       "</table>\n",
       "</div>"
      ],
      "text/plain": [
       "   7     8    9   10  11  12  13     19            20            21\n",
       "0   6  1484  166   6  16   0   1  False  9.223372e+18  9.223372e+18\n",
       "1   3  1404  204   2  14   2   3   True  1.390607e+04 -0.000000e+00\n",
       "2   7  1345   30   8  15   3   0  False  9.223372e+18  9.223372e+18\n",
       "3   6  2134  187   7   2   2   3  False  9.223372e+18  9.223372e+18\n",
       "4   3  1737   84   3   9   1   2  False  9.223372e+18  9.223372e+18"
      ]
     },
     "execution_count": 5,
     "metadata": {},
     "output_type": "execute_result"
    }
   ],
   "source": [
    "# Always confirm whether the results are according to what you expected\n",
    "examples = load_results(filenames, max_lines=max_evals)\n",
    "examples[0].head()"
   ]
  },
  {
   "cell_type": "code",
   "execution_count": 6,
   "metadata": {},
   "outputs": [
    {
     "data": {
      "text/plain": [
       "[]"
      ]
     },
     "execution_count": 6,
     "metadata": {},
     "output_type": "execute_result"
    }
   ],
   "source": [
    "list(filter(lambda x: x > max_evals, [len(e) for e in examples]))"
   ]
  },
  {
   "cell_type": "code",
   "execution_count": 7,
   "metadata": {},
   "outputs": [],
   "source": [
    "def get_run_indices(dfs, run, n_algorithms=n_algorithms):\n",
    "    \"\"\"Returns the dataframes that correspond to the specified `run`. \n",
    "    This assumes that the dataframes are read per run, that means that \n",
    "    if we run two algorithms (SMPSO and SPEA2) for 3 runs each, this \n",
    "    method assumes that it was read in the following order:\n",
    "    \n",
    "    > SMPSO_run1\n",
    "    > SPEA2_run1\n",
    "    > SMPSO_run2\n",
    "    > SPEA2_run2\n",
    "    > SMPSO_run3\n",
    "    > SPEA2_run3\n",
    "    \n",
    "    In that case, this invocation `get_run_indices(dfs, 1, n_algorithms=2)`\n",
    "    will return: \n",
    "        dfs[0:2] \n",
    "    \"\"\"\n",
    "    run -= 1\n",
    "    return dfs[run*n_algorithms:(run+1)*n_algorithms]"
   ]
  },
  {
   "cell_type": "markdown",
   "metadata": {},
   "source": [
    "### Pareto Dominance Methods\n",
    "This section contains methods related to the Pareto optimality (or [Pareto Efficiency](https://en.wikipedia.org/wiki/Pareto_efficiency))."
   ]
  },
  {
   "cell_type": "code",
   "execution_count": 8,
   "metadata": {},
   "outputs": [
    {
     "name": "stdout",
     "output_type": "stream",
     "text": [
      "(Expected) True   (Obtained) True\n",
      "(Expected) True   (Obtained) True\n",
      "(Expected) False  (Obtained) False\n",
      "(Expected) True   (Obtained) True\n",
      "(Expected) False  (Obtained) False\n",
      "(Expected) False  (Obtained) False\n",
      "(Expected) False  (Obtained) False\n"
     ]
    }
   ],
   "source": [
    "# **IMPORTANT NOTE**: This function assumes that your problem is a minimization problem for every objective dimension.\n",
    "def weakly_dominates(v0, v1):\n",
    "    \"\"\"Computes whether v0 dominates v1, i.e., whether at least one objective\n",
    "    is better (in this case, smaller) than some other)\n",
    "    \"\"\"\n",
    "    return np.all(v0 <= v1) and np.any(v0 < v1)\n",
    "    \n",
    "# Sanity Check (:\n",
    "print(\"(Expected) True   (Obtained)\", weakly_dominates(np.array([1, 1]), np.array([2, 2])))\n",
    "print(\"(Expected) True   (Obtained)\", weakly_dominates(np.array([2, 1]), np.array([2, 2])))\n",
    "print(\"(Expected) False  (Obtained)\", weakly_dominates(np.array([2, 2]), np.array([1, 1]))) \n",
    "print(\"(Expected) True   (Obtained)\", weakly_dominates(np.array([1, 2]), np.array([2, 2]))) \n",
    "print(\"(Expected) False  (Obtained)\", weakly_dominates(np.array([1, 3]), np.array([3, 1])))\n",
    "print(\"(Expected) False  (Obtained)\", weakly_dominates(np.array([3, 1]), np.array([1, 3]))) \n",
    "print(\"(Expected) False  (Obtained)\", weakly_dominates(np.array([1, 1]), np.array([1, 1])))  "
   ]
  },
  {
   "cell_type": "code",
   "execution_count": 9,
   "metadata": {},
   "outputs": [],
   "source": [
    "def get_non_dominated(V, dominance=weakly_dominates):\n",
    "    \"\"\"Computes the optimal and non-optimal solutions. \n",
    "    Optimal solutions are called non-dominated and non-optimal \n",
    "    solutions are called denominated.\"\"\"\n",
    "    nsols, nobjs = V.shape\n",
    "    \n",
    "    dominated = np.zeros((nsols, 1))\n",
    "    dominated_by = np.zeros((nsols, 1))\n",
    "    for i in range(nsols):\n",
    "        for j in range(nsols):\n",
    "            if i != j:\n",
    "                if dominance(V[j], V[i]):\n",
    "                    dominated[i] = 1\n",
    "                    dominated_by[i] = j \n",
    "                    break\n",
    "                    \n",
    "    return dominated, dominated_by"
   ]
  },
  {
   "cell_type": "code",
   "execution_count": 10,
   "metadata": {},
   "outputs": [],
   "source": [
    "def add_isdominated_cols(d, cols=objs_cols):\n",
    "    \"\"\"Adds to the provided dataframe columns for Pareto optimal solution.\"\"\"\n",
    "    df_copy = d.copy()\n",
    "    A = np.array(df_copy[cols])\n",
    "    B, C = get_non_dominated(A)\n",
    "    df_copy[\"isDominated\"] = pd.DataFrame(B, columns=[\"isDominated\"])\n",
    "    df_copy[\"dominatedBy\"] = pd.DataFrame(C, columns=[\"dominatedBy\"])\n",
    "    print(df_copy[\"isDominated\"].value_counts())\n",
    "    return df_copy"
   ]
  },
  {
   "cell_type": "code",
   "execution_count": 11,
   "metadata": {},
   "outputs": [],
   "source": [
    "def get_combined_PF(dfs, drop_cols=relevant_cols, objs_cols=objs_cols):\n",
    "    \"\"\"Computes the combined Pareto front based on a set of input dataframes\"\"\"\n",
    "    all_data = pd.concat(dfs)\n",
    "    if drop_cols:\n",
    "        all_data = all_data.drop_duplicates(drop_cols)\n",
    "    all_data = all_data.reset_index()\n",
    "    return add_isdominated_cols(all_data, cols=objs_cols)"
   ]
  },
  {
   "cell_type": "markdown",
   "metadata": {},
   "source": [
    "### General Methods\n",
    "\n",
    "This section contains general purpose methods that can be used in your scripts."
   ]
  },
  {
   "cell_type": "code",
   "execution_count": 12,
   "metadata": {},
   "outputs": [],
   "source": [
    "def broadcasting_multi(df, cols, value):\n",
    "    cols = cols if isinstance(cols, (list, tuple)) else [cols]\n",
    "    copy_df = df.copy()\n",
    "    for col in cols:\n",
    "        copy_df[col] = df[col] * value\n",
    "    return copy_df"
   ]
  },
  {
   "cell_type": "code",
   "execution_count": 13,
   "metadata": {},
   "outputs": [],
   "source": [
    "def broadcasting_div(df, cols, value):\n",
    "    cols = cols if isinstance(cols, (list, tuple)) else [cols]\n",
    "    copy_df = df.copy()\n",
    "    for col in cols:\n",
    "        copy_df[col] = df[col] / value\n",
    "    return copy_df"
   ]
  },
  {
   "cell_type": "code",
   "execution_count": 14,
   "metadata": {},
   "outputs": [],
   "source": [
    "def get_symmetric(df, cols):\n",
    "    \"\"\"Computes the symmetric value of the provided `cols` and returns a \n",
    "    copy of the original dataframe where the values of the specified `cols`\n",
    "    are symmetric.\"\"\"\n",
    "    return broadcasting_multi(df, cols, -1)"
   ]
  },
  {
   "cell_type": "code",
   "execution_count": 15,
   "metadata": {},
   "outputs": [],
   "source": [
    "def unscale(df, cols, minimum, step):\n",
    "    \"\"\"Computes the real value used for the variables during a discrete optimization process.\"\"\"\n",
    "    cols = cols if isinstance(cols, (list, tuple)) else [cols]\n",
    "    copy_df = df.copy()\n",
    "    for col in cols:\n",
    "        copy_df[col] = minimum + step * df[col]\n",
    "    return copy_df"
   ]
  },
  {
   "cell_type": "code",
   "execution_count": 16,
   "metadata": {},
   "outputs": [],
   "source": [
    "def drop_by_value(dfs, col, value):\n",
    "    \"\"\"Drops the solutions from the provided dataframes based on a column and a value, \n",
    "    changing them inplace.\"\"\"\n",
    "    for df in dfs:      \n",
    "        unfeasible_sols = df.loc[df[col]==value]\n",
    "        df.drop(unfeasible_sols.index, inplace=True)\n",
    "        df.index = range(len(df))\n",
    "    return dfs"
   ]
  },
  {
   "cell_type": "code",
   "execution_count": 17,
   "metadata": {},
   "outputs": [],
   "source": [
    "def drop_unfeasibles(dfs):\n",
    "    \"\"\"Drops the unfeasible solutions from the provided dataframes, \n",
    "    changing them inplace.\"\"\"\n",
    "    return drop_by_value(dfs, feasible_col, False)"
   ]
  },
  {
   "cell_type": "code",
   "execution_count": 18,
   "metadata": {},
   "outputs": [],
   "source": [
    "def unfeasible_ratio_iter(pop_size=pop_size):\n",
    "    \"\"\"Computes the unfeasible ratio per `pop_size`.\"\"\"\n",
    "    results = []\n",
    "    for i in range(0, len(df), pop_size):\n",
    "        results.append(df[df[i:i + pop_size] == 'false']['feasible'].count() / pop_size)\n",
    "    iteration = pd.Series(data = range(1, int(len(df) / pop_size) + 1))\n",
    "    ratio = pd.Series(data = results)\n",
    "    ratio_iter = {'Iteration': iteration, 'Ratio Unfeasible': ratio} \n",
    "    return pd.DataFrame(ratio_iter)"
   ]
  },
  {
   "cell_type": "code",
   "execution_count": 19,
   "metadata": {},
   "outputs": [],
   "source": [
    "def get_last_value_iter(df, col_name='hypervolume', iter_size=pop_size):\n",
    "    \"\"\"Iterates the values in the `df` in slices of `iter_size` and \n",
    "    gets the last value.\n",
    "    \"\"\"\n",
    "    return df[iter_size-1:len(df):iter_size][col_name]"
   ]
  },
  {
   "cell_type": "code",
   "execution_count": 20,
   "metadata": {},
   "outputs": [],
   "source": [
    "def indicators_results(results_runs):\n",
    "    \"\"\"Computes the statistics mean and standard deviation for the specified runs. \n",
    "    \n",
    "    It assumes the `results_run` are organized as follows: \n",
    "        results_runs = [indicators_run1, indicators_run2, indicators_run3], \n",
    "    where: \n",
    "        indicators_run{i} = [indicators_alg_1_run_{i}, ..., indicators_alg_m_run_{i}]\n",
    "    \"\"\"\n",
    "    average_res = [] \n",
    "    std_res = [] \n",
    "    \n",
    "    for algorithm_i in range(n_algorithms):\n",
    "        # Get the same algorithm from all runs (assuming they were collected in the same way)\n",
    "        algorithm_results = [r[algorithm_i] for r in results_runs] \n",
    "        average_res += [pd.concat(algorithm_results, axis=1).mean(axis=1)]\n",
    "        std_res += [pd.concat(algorithm_results, axis=1).std(axis=1)]\n",
    "        \n",
    "    return average_res, std_res"
   ]
  },
  {
   "cell_type": "markdown",
   "metadata": {},
   "source": [
    "### Data Visualization\n",
    "\n",
    "In this section, we visualize the data with visual means. "
   ]
  },
  {
   "cell_type": "code",
   "execution_count": 21,
   "metadata": {},
   "outputs": [
    {
     "data": {
      "text/html": [
       "        <script type=\"text/javascript\">\n",
       "        window.PlotlyConfig = {MathJaxConfig: 'local'};\n",
       "        if (window.MathJax) {MathJax.Hub.Config({SVG: {font: \"STIX-Web\"}});}\n",
       "        if (typeof require !== 'undefined') {\n",
       "        require.undef(\"plotly\");\n",
       "        requirejs.config({\n",
       "            paths: {\n",
       "                'plotly': ['https://cdn.plot.ly/plotly-2.2.0.min']\n",
       "            }\n",
       "        });\n",
       "        require(['plotly'], function(Plotly) {\n",
       "            window._Plotly = Plotly;\n",
       "        });\n",
       "        }\n",
       "        </script>\n",
       "        "
      ]
     },
     "metadata": {},
     "output_type": "display_data"
    },
    {
     "data": {
      "text/plain": [
       "'5.1.0'"
      ]
     },
     "execution_count": 21,
     "metadata": {},
     "output_type": "execute_result"
    }
   ],
   "source": [
    "# Visualization Framework\n",
    "import plotly\n",
    "import plotly.graph_objs as go\n",
    "import matplotlib.pyplot as plt\n",
    "from plotly import tools\n",
    "from plotly.offline import download_plotlyjs, init_notebook_mode, plot, iplot\n",
    "%matplotlib inline\n",
    "init_notebook_mode(connected=True)\n",
    "\n",
    "try:\n",
    "    import plotly.plotly as py\n",
    "    plotly.tools.set_credentials_file(username='username', api_key='api_key')\n",
    "except: \n",
    "    import chart_studio\n",
    "    import chart_studio.plotly as py\n",
    "    chart_studio.tools.set_credentials_file(username='username', api_key='api_key')\n",
    "    \n",
    "# Print plotly's version\n",
    "plotly.__version__"
   ]
  },
  {
   "cell_type": "markdown",
   "metadata": {},
   "source": [
    "Let us create the functions that create the graphs"
   ]
  },
  {
   "cell_type": "code",
   "execution_count": 22,
   "metadata": {},
   "outputs": [],
   "source": [
    "def get_colors(n, colorscale=\"viridis\"): \n",
    "    colors = plt.get_cmap(colorscale).colors\n",
    "    colors_idx = np.linspace(0, len(colors)-1, n, dtype=int)\n",
    "    \n",
    "    colors = [colors[idx] for idx in colors_idx]\n",
    "    colors_str = [f\"rgb({r}, {g}, {b})\" for (r, g, b) in colors]\n",
    "    return colors_str"
   ]
  },
  {
   "cell_type": "code",
   "execution_count": 23,
   "metadata": {},
   "outputs": [],
   "source": [
    "def scatter(data, x=None, y=None, names=all_algorithms, \n",
    "            colorscale=\"viridis\", colors=None, \n",
    "            mode=\"markers\", marker_size=5.5, ln_width=1.5, \n",
    "            layout=None):\n",
    "    \n",
    "    def get_x_y(d): \n",
    "        if isinstance(d, pd.Series):\n",
    "            return np.array(d.index) + 1, d.values\n",
    "        elif isinstance(d, pd.DataFrame):\n",
    "            return d[x], d[y]\n",
    "        else: \n",
    "            return np.arange(len(d)), d      \n",
    "        \n",
    "    # ----------------------------------------------\n",
    "    # Normalize input data\n",
    "    # ----------------------------------------------\n",
    "    data = data if isinstance(data, (list, tuple)) else [data]\n",
    "    colors = get_colors(len(data), colorscale) if colorscale else colors\n",
    "    \n",
    "    # ----------------------------------------------\n",
    "    # Determine the data types of provided inputs\n",
    "    # ----------------------------------------------\n",
    "    x_data = []\n",
    "    y_data = []\n",
    "    for d in data:\n",
    "        xx, yy = get_x_y(d)\n",
    "        x_data += [xx]\n",
    "        y_data += [yy]\n",
    "\n",
    "    \n",
    "    traces = []\n",
    "    for (i, (x,y)) in enumerate(zip(x_data, y_data)):\n",
    "        traces += [\n",
    "            go.Scatter(\n",
    "                x = x,\n",
    "                y = y,\n",
    "                mode = mode,\n",
    "                name = names[i],\n",
    "                marker = dict(\n",
    "                    # Markers size\n",
    "                    size = marker_size,\n",
    "                    color=colors[i],\n",
    "                ),\n",
    "                line=dict(\n",
    "                    width=ln_width,\n",
    "                    color=colors[i]\n",
    "            )\n",
    "            )]\n",
    "    \n",
    "    kwargs = {} if not layout else {\"layout\": layout}\n",
    "    fig = go.Figure(data=traces, **kwargs)\n",
    "    return py.iplot(fig, filename='simple_scatter')"
   ]
  },
  {
   "cell_type": "markdown",
   "metadata": {},
   "source": [
    "#### Default Layout"
   ]
  },
  {
   "cell_type": "code",
   "execution_count": 24,
   "metadata": {},
   "outputs": [],
   "source": [
    "# Default layout for the pareto fronts graphs\n",
    "layout = go.Layout(\n",
    "    template=\"plotly_white\",\n",
    "    autosize=True,\n",
    "    legend=dict(\n",
    "        orientation='h'\n",
    "    ),\n",
    "    # Define axis\n",
    "    xaxis=dict(\n",
    "        autorange=True,\n",
    "        showgrid=True,\n",
    "        zeroline=False,\n",
    "        showline=True,\n",
    "        ticks='',\n",
    "        showticklabels=True,\n",
    "        tickformat='.'\n",
    "    ),\n",
    "    yaxis=dict(\n",
    "        autorange=True,        \n",
    "        showgrid=True,\n",
    "        zeroline=False,\n",
    "        showline=True,\n",
    "        ticks='',\n",
    "        showticklabels=True,\n",
    "        tickformat='.'\n",
    "    )\n",
    ")"
   ]
  },
  {
   "cell_type": "markdown",
   "metadata": {},
   "source": [
    "#### Pareto Front\n",
    "\n",
    "This section contains different functions that explore dataframes having information about the non-dominated and the dominated solutions."
   ]
  },
  {
   "cell_type": "code",
   "execution_count": 25,
   "metadata": {},
   "outputs": [],
   "source": [
    "def create_pf(pf, name, x, y, nd_color='rgb(0,0,255)', ln_width=1.5, marker_size=5.5, d_color=None): \n",
    "    traces = []\n",
    "    \n",
    "    # Create the non dominated trace (in a different color, as specified in *nd_color*)\n",
    "    x_pf = pf[pf['isDominated'] == 0][x] \n",
    "    y_pf = pf[pf['isDominated'] == 0][y]\n",
    "    x_pf, y_pf = zip(*sorted(zip(x_pf, y_pf)))\n",
    "    \n",
    "    # Get information about the objectives and variables - relevant for an iteractive PF\n",
    "    info = []\n",
    "    info.extend(vars_cols)\n",
    "    info.extend(objs_cols)\n",
    "    info_pf = np.array(pf[pf['isDominated'] == 0][info])\n",
    "    info_npf = np.array(pf[pf['isDominated'] == 1][info])\n",
    "    \n",
    "    traces += [\n",
    "        go.Scatter(\n",
    "            x = x_pf,\n",
    "            y = y_pf,\n",
    "            mode = 'lines+markers',\n",
    "            name = name + \" NonDominated\",\n",
    "            customdata = info_pf,\n",
    "            opacity=1,\n",
    "\n",
    "            # Layout do marker\n",
    "            marker=dict(\n",
    "                color=nd_color,\n",
    "                size=marker_size\n",
    "            ),\n",
    "            line=dict(\n",
    "                color=nd_color,\n",
    "                width=ln_width\n",
    "            )\n",
    "        )]\n",
    "    \n",
    "    if d_color:\n",
    "        x_npf = pf[pf['isDominated'] == 1][x]\n",
    "        y_npf = pf[pf['isDominated'] == 1][y]\n",
    "        \n",
    "        # Create the dominated trace (in a different color, as specified in *d_color*)\n",
    "        traces +=[\n",
    "            go.Scatter(\n",
    "                x = x_npf,\n",
    "                y = y_npf,\n",
    "                mode = 'markers',\n",
    "                name = name + \" Dominated\",\n",
    "                customdata = info_npf,\n",
    "                opacity=0.7,\n",
    "\n",
    "                # Layout do Marker\n",
    "                marker=dict(\n",
    "                    #color = d_color,\n",
    "                    color = nd_color,\n",
    "                    size=marker_size,\n",
    "                )\n",
    "            )]\n",
    "\n",
    "    return traces"
   ]
  },
  {
   "cell_type": "code",
   "execution_count": 26,
   "metadata": {},
   "outputs": [],
   "source": [
    "def get_traces(pfs, x, y, draw_dominated=True,\n",
    "               names=all_algorithms, colorscale='viridis', colors=None,\n",
    "               tpf=None, tpf_name=\"Combined_PF\", tpf_color='rgb(0,0,0)', \n",
    "               layout=layout):\n",
    "    \n",
    "    pfs = pfs if isinstance(pfs, (list, tuple)) else [pfs]\n",
    "    names = names if isinstance(names, (list, tuple)) else [names]\n",
    "    n_pfs = len(pfs)\n",
    "    colors = get_colors(n_pfs, colorscale) if colorscale else colors\n",
    "    \n",
    "    traces = []\n",
    "    \n",
    "    if tpf is not None:\n",
    "        traces += create_pf(pf=tpf, name=tpf_name, x=x, y=y, ln_width=4, marker_size=10, nd_color=tpf_color)\n",
    "    \n",
    "    for (i, pf) in enumerate(pfs):\n",
    "        d_color = colors[i] if draw_dominated else None\n",
    "        traces += create_pf(pf=pf, name=names[i], x=x, y=y, nd_color=colors[i], d_color=d_color)\n",
    "\n",
    "    fig = go.Figure(data=traces, layout=layout)\n",
    "    return traces"
   ]
  },
  {
   "cell_type": "code",
   "execution_count": 27,
   "metadata": {},
   "outputs": [],
   "source": [
    "def create_pfs(pfs, x, y, draw_dominated=True,\n",
    "               names=all_algorithms, colorscale='viridis', colors=None,\n",
    "               tpf=None, tpf_name=\"Combined_PF\", tpf_color='rgb(0,0,0)', \n",
    "               layout=layout):\n",
    "    \n",
    "    traces = get_traces(pfs, x, y, draw_dominated, names, colorscale, colors, tpf, tpf_name, tpf_color, layout)\n",
    "    \n",
    "    fig = go.Figure(data=traces, layout=layout)\n",
    "    return py.iplot(fig, filename='algorithms_pfs_per_run')"
   ]
  },
  {
   "cell_type": "markdown",
   "metadata": {},
   "source": [
    "---\n",
    "\n",
    "## Analysis\n"
   ]
  },
  {
   "cell_type": "markdown",
   "metadata": {},
   "source": [
    "### Pareto Front Layout"
   ]
  },
  {
   "cell_type": "code",
   "execution_count": 28,
   "metadata": {},
   "outputs": [],
   "source": [
    "layout_BP = go.Layout(\n",
    "    template=\"plotly_white\",\n",
    "#     template='ggplot2',\n",
    "    autosize=False,\n",
    "    # Define plot size\n",
    "    width=900, \n",
    "    height=600,\n",
    "    # Legend Position\n",
    "    legend=dict(\n",
    "        orientation='h',\n",
    "        x=-0.01,\n",
    "        y=-0.2\n",
    "    ),\n",
    "    # Define axis\n",
    "    xaxis=dict(\n",
    "        title=\"Cost [€]\",\n",
    "        range=[10000, 19500],\n",
    "        showgrid=True,\n",
    "        zeroline=False,\n",
    "        showline=True,\n",
    "        ticks='',\n",
    "        showticklabels=True,\n",
    "        tickformat='.'\n",
    "    ),\n",
    "    yaxis=dict(\n",
    "        title=\"sUDI [%]\",\n",
    "        range=[0, 50],    \n",
    "        showgrid=True,\n",
    "        zeroline=False,\n",
    "        showline=True,\n",
    "        ticks='',\n",
    "        showticklabels=True,\n",
    "        tickformat='.',\n",
    "        dtick=10\n",
    "    )\n",
    ")"
   ]
  },
  {
   "cell_type": "markdown",
   "metadata": {},
   "source": [
    "### Read Algorithms"
   ]
  },
  {
   "cell_type": "code",
   "execution_count": 29,
   "metadata": {},
   "outputs": [],
   "source": [
    "# Read algorithms  \n",
    "dfs = load_results(filenames)"
   ]
  },
  {
   "cell_type": "code",
   "execution_count": 30,
   "metadata": {},
   "outputs": [],
   "source": [
    "dfs = drop_unfeasibles(dfs)"
   ]
  },
  {
   "cell_type": "code",
   "execution_count": 31,
   "metadata": {},
   "outputs": [
    {
     "data": {
      "text/html": [
       "<div>\n",
       "<style scoped>\n",
       "    .dataframe tbody tr th:only-of-type {\n",
       "        vertical-align: middle;\n",
       "    }\n",
       "\n",
       "    .dataframe tbody tr th {\n",
       "        vertical-align: top;\n",
       "    }\n",
       "\n",
       "    .dataframe thead th {\n",
       "        text-align: right;\n",
       "    }\n",
       "</style>\n",
       "<table border=\"1\" class=\"dataframe\">\n",
       "  <thead>\n",
       "    <tr style=\"text-align: right;\">\n",
       "      <th></th>\n",
       "      <th>7</th>\n",
       "      <th>8</th>\n",
       "      <th>9</th>\n",
       "      <th>10</th>\n",
       "      <th>11</th>\n",
       "      <th>12</th>\n",
       "      <th>13</th>\n",
       "      <th>19</th>\n",
       "      <th>20</th>\n",
       "      <th>21</th>\n",
       "    </tr>\n",
       "  </thead>\n",
       "  <tbody>\n",
       "    <tr>\n",
       "      <th>0</th>\n",
       "      <td>3</td>\n",
       "      <td>1404</td>\n",
       "      <td>204</td>\n",
       "      <td>2</td>\n",
       "      <td>14</td>\n",
       "      <td>2</td>\n",
       "      <td>3</td>\n",
       "      <td>True</td>\n",
       "      <td>13906.074007</td>\n",
       "      <td>-0.0</td>\n",
       "    </tr>\n",
       "    <tr>\n",
       "      <th>1</th>\n",
       "      <td>5</td>\n",
       "      <td>1657</td>\n",
       "      <td>136</td>\n",
       "      <td>5</td>\n",
       "      <td>7</td>\n",
       "      <td>2</td>\n",
       "      <td>1</td>\n",
       "      <td>True</td>\n",
       "      <td>14789.909373</td>\n",
       "      <td>-14.0</td>\n",
       "    </tr>\n",
       "    <tr>\n",
       "      <th>2</th>\n",
       "      <td>2</td>\n",
       "      <td>1282</td>\n",
       "      <td>146</td>\n",
       "      <td>2</td>\n",
       "      <td>4</td>\n",
       "      <td>1</td>\n",
       "      <td>0</td>\n",
       "      <td>True</td>\n",
       "      <td>11638.584709</td>\n",
       "      <td>-0.0</td>\n",
       "    </tr>\n",
       "    <tr>\n",
       "      <th>3</th>\n",
       "      <td>7</td>\n",
       "      <td>1867</td>\n",
       "      <td>197</td>\n",
       "      <td>5</td>\n",
       "      <td>6</td>\n",
       "      <td>1</td>\n",
       "      <td>1</td>\n",
       "      <td>True</td>\n",
       "      <td>16689.478473</td>\n",
       "      <td>-0.0</td>\n",
       "    </tr>\n",
       "    <tr>\n",
       "      <th>4</th>\n",
       "      <td>3</td>\n",
       "      <td>1835</td>\n",
       "      <td>96</td>\n",
       "      <td>0</td>\n",
       "      <td>1</td>\n",
       "      <td>1</td>\n",
       "      <td>4</td>\n",
       "      <td>True</td>\n",
       "      <td>9967.813004</td>\n",
       "      <td>-0.0</td>\n",
       "    </tr>\n",
       "  </tbody>\n",
       "</table>\n",
       "</div>"
      ],
      "text/plain": [
       "   7     8    9   10  11  12  13    19            20    21\n",
       "0   3  1404  204   2  14   2   3  True  13906.074007  -0.0\n",
       "1   5  1657  136   5   7   2   1  True  14789.909373 -14.0\n",
       "2   2  1282  146   2   4   1   0  True  11638.584709  -0.0\n",
       "3   7  1867  197   5   6   1   1  True  16689.478473  -0.0\n",
       "4   3  1835   96   0   1   1   4  True   9967.813004  -0.0"
      ]
     },
     "execution_count": 31,
     "metadata": {},
     "output_type": "execute_result"
    }
   ],
   "source": [
    "# Sanity check!!\n",
    "dfs[0].head()"
   ]
  },
  {
   "cell_type": "code",
   "execution_count": 32,
   "metadata": {},
   "outputs": [],
   "source": [
    "# Run only if you want to remove the cells with sUDI = 0\n",
    "dfs = drop_by_value(dfs, sUDI, 0)"
   ]
  },
  {
   "cell_type": "code",
   "execution_count": 33,
   "metadata": {},
   "outputs": [
    {
     "data": {
      "text/html": [
       "<div>\n",
       "<style scoped>\n",
       "    .dataframe tbody tr th:only-of-type {\n",
       "        vertical-align: middle;\n",
       "    }\n",
       "\n",
       "    .dataframe tbody tr th {\n",
       "        vertical-align: top;\n",
       "    }\n",
       "\n",
       "    .dataframe thead th {\n",
       "        text-align: right;\n",
       "    }\n",
       "</style>\n",
       "<table border=\"1\" class=\"dataframe\">\n",
       "  <thead>\n",
       "    <tr style=\"text-align: right;\">\n",
       "      <th></th>\n",
       "      <th>7</th>\n",
       "      <th>8</th>\n",
       "      <th>9</th>\n",
       "      <th>10</th>\n",
       "      <th>11</th>\n",
       "      <th>12</th>\n",
       "      <th>13</th>\n",
       "      <th>19</th>\n",
       "      <th>20</th>\n",
       "      <th>21</th>\n",
       "    </tr>\n",
       "  </thead>\n",
       "  <tbody>\n",
       "    <tr>\n",
       "      <th>0</th>\n",
       "      <td>5</td>\n",
       "      <td>1657</td>\n",
       "      <td>136</td>\n",
       "      <td>5</td>\n",
       "      <td>7</td>\n",
       "      <td>2</td>\n",
       "      <td>1</td>\n",
       "      <td>True</td>\n",
       "      <td>14789.909373</td>\n",
       "      <td>-14.0</td>\n",
       "    </tr>\n",
       "    <tr>\n",
       "      <th>1</th>\n",
       "      <td>5</td>\n",
       "      <td>1619</td>\n",
       "      <td>145</td>\n",
       "      <td>4</td>\n",
       "      <td>9</td>\n",
       "      <td>3</td>\n",
       "      <td>2</td>\n",
       "      <td>True</td>\n",
       "      <td>14756.316295</td>\n",
       "      <td>-23.0</td>\n",
       "    </tr>\n",
       "    <tr>\n",
       "      <th>2</th>\n",
       "      <td>5</td>\n",
       "      <td>1719</td>\n",
       "      <td>143</td>\n",
       "      <td>5</td>\n",
       "      <td>7</td>\n",
       "      <td>2</td>\n",
       "      <td>1</td>\n",
       "      <td>True</td>\n",
       "      <td>14789.909373</td>\n",
       "      <td>-14.0</td>\n",
       "    </tr>\n",
       "    <tr>\n",
       "      <th>3</th>\n",
       "      <td>5</td>\n",
       "      <td>1581</td>\n",
       "      <td>163</td>\n",
       "      <td>5</td>\n",
       "      <td>9</td>\n",
       "      <td>3</td>\n",
       "      <td>3</td>\n",
       "      <td>True</td>\n",
       "      <td>16375.010171</td>\n",
       "      <td>-26.0</td>\n",
       "    </tr>\n",
       "    <tr>\n",
       "      <th>4</th>\n",
       "      <td>5</td>\n",
       "      <td>1713</td>\n",
       "      <td>125</td>\n",
       "      <td>3</td>\n",
       "      <td>7</td>\n",
       "      <td>3</td>\n",
       "      <td>3</td>\n",
       "      <td>True</td>\n",
       "      <td>15269.361347</td>\n",
       "      <td>-1.0</td>\n",
       "    </tr>\n",
       "  </tbody>\n",
       "</table>\n",
       "</div>"
      ],
      "text/plain": [
       "   7     8    9   10  11  12  13    19            20    21\n",
       "0   5  1657  136   5   7   2   1  True  14789.909373 -14.0\n",
       "1   5  1619  145   4   9   3   2  True  14756.316295 -23.0\n",
       "2   5  1719  143   5   7   2   1  True  14789.909373 -14.0\n",
       "3   5  1581  163   5   9   3   3  True  16375.010171 -26.0\n",
       "4   5  1713  125   3   7   3   3  True  15269.361347  -1.0"
      ]
     },
     "execution_count": 33,
     "metadata": {},
     "output_type": "execute_result"
    }
   ],
   "source": [
    "# Sanity check!!\n",
    "dfs[0].head()"
   ]
  },
  {
   "cell_type": "code",
   "execution_count": 34,
   "metadata": {
    "scrolled": true
   },
   "outputs": [
    {
     "name": "stdout",
     "output_type": "stream",
     "text": [
      "1.0    106\n",
      "0.0     12\n",
      "Name: isDominated, dtype: int64\n",
      "1.0    162\n",
      "0.0     16\n",
      "Name: isDominated, dtype: int64\n",
      "1.0    81\n",
      "0.0     7\n",
      "Name: isDominated, dtype: int64\n",
      "1.0    169\n",
      "0.0      5\n",
      "Name: isDominated, dtype: int64\n",
      "1.0    380\n",
      "0.0      9\n",
      "Name: isDominated, dtype: int64\n",
      "1.0    158\n",
      "0.0      7\n",
      "Name: isDominated, dtype: int64\n",
      "1.0    156\n",
      "0.0     13\n",
      "Name: isDominated, dtype: int64\n",
      "1.0    219\n",
      "0.0     16\n",
      "Name: isDominated, dtype: int64\n",
      "1.0    10\n",
      "0.0     6\n",
      "Name: isDominated, dtype: int64\n",
      "1.0    206\n",
      "0.0     10\n",
      "Name: isDominated, dtype: int64\n",
      "1.0    426\n",
      "0.0     14\n",
      "Name: isDominated, dtype: int64\n",
      "1.0    155\n",
      "0.0      8\n",
      "Name: isDominated, dtype: int64\n",
      "1.0    92\n",
      "0.0     8\n",
      "Name: isDominated, dtype: int64\n",
      "1.0    237\n",
      "0.0     13\n",
      "Name: isDominated, dtype: int64\n",
      "1.0    113\n",
      "0.0     13\n",
      "Name: isDominated, dtype: int64\n",
      "1.0    157\n",
      "0.0     12\n",
      "Name: isDominated, dtype: int64\n",
      "1.0    280\n",
      "0.0     14\n",
      "Name: isDominated, dtype: int64\n",
      "1.0    149\n",
      "0.0      8\n",
      "Name: isDominated, dtype: int64\n"
     ]
    }
   ],
   "source": [
    "# Compute non_dominated_solutions (per run)\n",
    "pfs = [add_isdominated_cols(df) for df in dfs]"
   ]
  },
  {
   "cell_type": "code",
   "execution_count": 35,
   "metadata": {
    "scrolled": false
   },
   "outputs": [
    {
     "data": {
      "text/html": [
       "<div>\n",
       "<style scoped>\n",
       "    .dataframe tbody tr th:only-of-type {\n",
       "        vertical-align: middle;\n",
       "    }\n",
       "\n",
       "    .dataframe tbody tr th {\n",
       "        vertical-align: top;\n",
       "    }\n",
       "\n",
       "    .dataframe thead th {\n",
       "        text-align: right;\n",
       "    }\n",
       "</style>\n",
       "<table border=\"1\" class=\"dataframe\">\n",
       "  <thead>\n",
       "    <tr style=\"text-align: right;\">\n",
       "      <th></th>\n",
       "      <th>7</th>\n",
       "      <th>8</th>\n",
       "      <th>9</th>\n",
       "      <th>10</th>\n",
       "      <th>11</th>\n",
       "      <th>12</th>\n",
       "      <th>13</th>\n",
       "      <th>19</th>\n",
       "      <th>20</th>\n",
       "      <th>21</th>\n",
       "      <th>isDominated</th>\n",
       "      <th>dominatedBy</th>\n",
       "    </tr>\n",
       "  </thead>\n",
       "  <tbody>\n",
       "    <tr>\n",
       "      <th>0</th>\n",
       "      <td>5</td>\n",
       "      <td>1657</td>\n",
       "      <td>136</td>\n",
       "      <td>5</td>\n",
       "      <td>7</td>\n",
       "      <td>2</td>\n",
       "      <td>1</td>\n",
       "      <td>True</td>\n",
       "      <td>14789.909373</td>\n",
       "      <td>-14.0</td>\n",
       "      <td>1.0</td>\n",
       "      <td>1.0</td>\n",
       "    </tr>\n",
       "    <tr>\n",
       "      <th>1</th>\n",
       "      <td>5</td>\n",
       "      <td>1619</td>\n",
       "      <td>145</td>\n",
       "      <td>4</td>\n",
       "      <td>9</td>\n",
       "      <td>3</td>\n",
       "      <td>2</td>\n",
       "      <td>True</td>\n",
       "      <td>14756.316295</td>\n",
       "      <td>-23.0</td>\n",
       "      <td>1.0</td>\n",
       "      <td>19.0</td>\n",
       "    </tr>\n",
       "    <tr>\n",
       "      <th>2</th>\n",
       "      <td>5</td>\n",
       "      <td>1719</td>\n",
       "      <td>143</td>\n",
       "      <td>5</td>\n",
       "      <td>7</td>\n",
       "      <td>2</td>\n",
       "      <td>1</td>\n",
       "      <td>True</td>\n",
       "      <td>14789.909373</td>\n",
       "      <td>-14.0</td>\n",
       "      <td>1.0</td>\n",
       "      <td>1.0</td>\n",
       "    </tr>\n",
       "    <tr>\n",
       "      <th>3</th>\n",
       "      <td>5</td>\n",
       "      <td>1581</td>\n",
       "      <td>163</td>\n",
       "      <td>5</td>\n",
       "      <td>9</td>\n",
       "      <td>3</td>\n",
       "      <td>3</td>\n",
       "      <td>True</td>\n",
       "      <td>16375.010171</td>\n",
       "      <td>-26.0</td>\n",
       "      <td>1.0</td>\n",
       "      <td>5.0</td>\n",
       "    </tr>\n",
       "    <tr>\n",
       "      <th>4</th>\n",
       "      <td>5</td>\n",
       "      <td>1713</td>\n",
       "      <td>125</td>\n",
       "      <td>3</td>\n",
       "      <td>7</td>\n",
       "      <td>3</td>\n",
       "      <td>3</td>\n",
       "      <td>True</td>\n",
       "      <td>15269.361347</td>\n",
       "      <td>-1.0</td>\n",
       "      <td>1.0</td>\n",
       "      <td>0.0</td>\n",
       "    </tr>\n",
       "  </tbody>\n",
       "</table>\n",
       "</div>"
      ],
      "text/plain": [
       "   7     8    9  10  11  12  13    19            20    21  isDominated  \\\n",
       "0  5  1657  136   5   7   2   1  True  14789.909373 -14.0          1.0   \n",
       "1  5  1619  145   4   9   3   2  True  14756.316295 -23.0          1.0   \n",
       "2  5  1719  143   5   7   2   1  True  14789.909373 -14.0          1.0   \n",
       "3  5  1581  163   5   9   3   3  True  16375.010171 -26.0          1.0   \n",
       "4  5  1713  125   3   7   3   3  True  15269.361347  -1.0          1.0   \n",
       "\n",
       "   dominatedBy  \n",
       "0          1.0  \n",
       "1         19.0  \n",
       "2          1.0  \n",
       "3          5.0  \n",
       "4          0.0  "
      ]
     },
     "execution_count": 35,
     "metadata": {},
     "output_type": "execute_result"
    }
   ],
   "source": [
    "# Sanity check!!\n",
    "pfs[0].head()"
   ]
  },
  {
   "cell_type": "code",
   "execution_count": 36,
   "metadata": {},
   "outputs": [],
   "source": [
    "# Run this cell only once!!!\n",
    "pfs = [unscale(pf, max_dist, 0.14, 0.01) for pf in pfs]\n",
    "pfs = [unscale(pf, center_y, 0.44, 0.01) for pf in pfs]\n",
    "pfs = [unscale(pf, radius_m, 0.20, 0.10) for pf in pfs]\n",
    "pfs = [unscale(pf, radius_M, 0.30, 0.10) for pf in pfs]"
   ]
  },
  {
   "cell_type": "code",
   "execution_count": 37,
   "metadata": {},
   "outputs": [
    {
     "data": {
      "text/html": [
       "<div>\n",
       "<style scoped>\n",
       "    .dataframe tbody tr th:only-of-type {\n",
       "        vertical-align: middle;\n",
       "    }\n",
       "\n",
       "    .dataframe tbody tr th {\n",
       "        vertical-align: top;\n",
       "    }\n",
       "\n",
       "    .dataframe thead th {\n",
       "        text-align: right;\n",
       "    }\n",
       "</style>\n",
       "<table border=\"1\" class=\"dataframe\">\n",
       "  <thead>\n",
       "    <tr style=\"text-align: right;\">\n",
       "      <th></th>\n",
       "      <th>7</th>\n",
       "      <th>8</th>\n",
       "      <th>9</th>\n",
       "      <th>10</th>\n",
       "      <th>11</th>\n",
       "      <th>12</th>\n",
       "      <th>13</th>\n",
       "    </tr>\n",
       "  </thead>\n",
       "  <tbody>\n",
       "    <tr>\n",
       "      <th>0</th>\n",
       "      <td>5</td>\n",
       "      <td>16.71</td>\n",
       "      <td>1.80</td>\n",
       "      <td>0.7</td>\n",
       "      <td>1.0</td>\n",
       "      <td>2</td>\n",
       "      <td>1</td>\n",
       "    </tr>\n",
       "    <tr>\n",
       "      <th>1</th>\n",
       "      <td>5</td>\n",
       "      <td>16.33</td>\n",
       "      <td>1.89</td>\n",
       "      <td>0.6</td>\n",
       "      <td>1.2</td>\n",
       "      <td>3</td>\n",
       "      <td>2</td>\n",
       "    </tr>\n",
       "    <tr>\n",
       "      <th>2</th>\n",
       "      <td>5</td>\n",
       "      <td>17.33</td>\n",
       "      <td>1.87</td>\n",
       "      <td>0.7</td>\n",
       "      <td>1.0</td>\n",
       "      <td>2</td>\n",
       "      <td>1</td>\n",
       "    </tr>\n",
       "    <tr>\n",
       "      <th>3</th>\n",
       "      <td>5</td>\n",
       "      <td>15.95</td>\n",
       "      <td>2.07</td>\n",
       "      <td>0.7</td>\n",
       "      <td>1.2</td>\n",
       "      <td>3</td>\n",
       "      <td>3</td>\n",
       "    </tr>\n",
       "    <tr>\n",
       "      <th>4</th>\n",
       "      <td>5</td>\n",
       "      <td>17.27</td>\n",
       "      <td>1.69</td>\n",
       "      <td>0.5</td>\n",
       "      <td>1.0</td>\n",
       "      <td>3</td>\n",
       "      <td>3</td>\n",
       "    </tr>\n",
       "  </tbody>\n",
       "</table>\n",
       "</div>"
      ],
      "text/plain": [
       "   7      8     9   10   11  12  13\n",
       "0  5  16.71  1.80  0.7  1.0   2   1\n",
       "1  5  16.33  1.89  0.6  1.2   3   2\n",
       "2  5  17.33  1.87  0.7  1.0   2   1\n",
       "3  5  15.95  2.07  0.7  1.2   3   3\n",
       "4  5  17.27  1.69  0.5  1.0   3   3"
      ]
     },
     "execution_count": 37,
     "metadata": {},
     "output_type": "execute_result"
    }
   ],
   "source": [
    "# Sanity check!!\n",
    "pfs[0][vars_cols].head()"
   ]
  },
  {
   "cell_type": "code",
   "execution_count": 38,
   "metadata": {},
   "outputs": [
    {
     "data": {
      "text/html": [
       "<div>\n",
       "<style scoped>\n",
       "    .dataframe tbody tr th:only-of-type {\n",
       "        vertical-align: middle;\n",
       "    }\n",
       "\n",
       "    .dataframe tbody tr th {\n",
       "        vertical-align: top;\n",
       "    }\n",
       "\n",
       "    .dataframe thead th {\n",
       "        text-align: right;\n",
       "    }\n",
       "</style>\n",
       "<table border=\"1\" class=\"dataframe\">\n",
       "  <thead>\n",
       "    <tr style=\"text-align: right;\">\n",
       "      <th></th>\n",
       "      <th>7</th>\n",
       "      <th>8</th>\n",
       "      <th>9</th>\n",
       "      <th>10</th>\n",
       "      <th>11</th>\n",
       "      <th>12</th>\n",
       "      <th>13</th>\n",
       "      <th>19</th>\n",
       "      <th>20</th>\n",
       "      <th>21</th>\n",
       "      <th>isDominated</th>\n",
       "      <th>dominatedBy</th>\n",
       "    </tr>\n",
       "  </thead>\n",
       "  <tbody>\n",
       "  </tbody>\n",
       "</table>\n",
       "</div>"
      ],
      "text/plain": [
       "Empty DataFrame\n",
       "Columns: [7, 8, 9, 10, 11, 12, 13, 19, 20, 21, isDominated, dominatedBy]\n",
       "Index: []"
      ]
     },
     "execution_count": 38,
     "metadata": {},
     "output_type": "execute_result"
    }
   ],
   "source": [
    "pfs[0][pfs[0][sUDI] == 0]"
   ]
  },
  {
   "cell_type": "code",
   "execution_count": 39,
   "metadata": {
    "scrolled": true
   },
   "outputs": [
    {
     "name": "stdout",
     "output_type": "stream",
     "text": [
      "1.0    3400\n",
      "0.0      21\n",
      "Name: isDominated, dtype: int64\n"
     ]
    }
   ],
   "source": [
    "# Computes combined Pareto Front (optimal solutions found from all the algorithms, all the runs)\n",
    "combined_pf = get_combined_PF(dfs, drop_cols=relevant_cols)"
   ]
  },
  {
   "cell_type": "code",
   "execution_count": 40,
   "metadata": {},
   "outputs": [],
   "source": [
    "# Since sUDI is actually a maximization, let us use the symmetric operation \n",
    "pfs = [get_symmetric(pf, sUDI) for pf in pfs]\n",
    "combined_pf = get_symmetric(combined_pf, sUDI)"
   ]
  },
  {
   "cell_type": "markdown",
   "metadata": {},
   "source": [
    "### Plot for all obtained solution (1 single plot for all algorithms, all runs) \n"
   ]
  },
  {
   "cell_type": "code",
   "execution_count": 41,
   "metadata": {},
   "outputs": [
    {
     "data": {
      "text/html": [
       "\n",
       "        <iframe\n",
       "            width=\"900px\"\n",
       "            height=\"600px\"\n",
       "            src=\"https://plotly.com/~goncalo-araujo/1.embed\"\n",
       "            frameborder=\"0\"\n",
       "            allowfullscreen\n",
       "            \n",
       "        ></iframe>\n",
       "        "
      ],
      "text/plain": [
       "<IPython.lib.display.IFrame at 0x26731dbb3a0>"
      ]
     },
     "execution_count": 41,
     "metadata": {},
     "output_type": "execute_result"
    }
   ],
   "source": [
    "create_pfs(pfs, x=material_cost, y=sUDI, tpf=combined_pf, names=filenames, \n",
    "           colorscale='plasma', draw_dominated=False, layout=layout_BP)"
   ]
  },
  {
   "cell_type": "code",
   "execution_count": 42,
   "metadata": {},
   "outputs": [
    {
     "data": {
      "text/html": [
       "\n",
       "        <iframe\n",
       "            width=\"900px\"\n",
       "            height=\"600px\"\n",
       "            src=\"https://plotly.com/~goncalo-araujo/1.embed\"\n",
       "            frameborder=\"0\"\n",
       "            allowfullscreen\n",
       "            \n",
       "        ></iframe>\n",
       "        "
      ],
      "text/plain": [
       "<IPython.lib.display.IFrame at 0x26731db4070>"
      ]
     },
     "execution_count": 42,
     "metadata": {},
     "output_type": "execute_result"
    }
   ],
   "source": [
    "create_pfs(pfs, x=material_cost, y=sUDI, tpf=combined_pf, names=filenames,\n",
    "           colorscale='plasma', draw_dominated=True, layout=layout_BP)"
   ]
  },
  {
   "cell_type": "markdown",
   "metadata": {},
   "source": [
    "### Plot algorithms per run (3 plot one for each run) "
   ]
  },
  {
   "cell_type": "code",
   "execution_count": 43,
   "metadata": {},
   "outputs": [
    {
     "name": "stdout",
     "output_type": "stream",
     "text": [
      "1.0    106\n",
      "0.0     12\n",
      "Name: isDominated, dtype: int64\n",
      "1.0    162\n",
      "0.0     16\n",
      "Name: isDominated, dtype: int64\n",
      "1.0    81\n",
      "0.0     7\n",
      "Name: isDominated, dtype: int64\n",
      "1.0    169\n",
      "0.0      5\n",
      "Name: isDominated, dtype: int64\n",
      "1.0    380\n",
      "0.0      9\n",
      "Name: isDominated, dtype: int64\n",
      "1.0    158\n",
      "0.0      7\n",
      "Name: isDominated, dtype: int64\n",
      "1.0    1084\n",
      "0.0      20\n",
      "Name: isDominated, dtype: int64\n"
     ]
    }
   ],
   "source": [
    "# Get Run 1 \n",
    "dfs_run_1 = get_run_indices(dfs, 1)\n",
    "pfs_run_1 = [add_isdominated_cols(df) for df in dfs_run_1]\n",
    "combined_PF_run_1 = get_combined_PF(pfs_run_1)"
   ]
  },
  {
   "cell_type": "code",
   "execution_count": 44,
   "metadata": {
    "scrolled": false
   },
   "outputs": [
    {
     "name": "stdout",
     "output_type": "stream",
     "text": [
      "1.0    156\n",
      "0.0     13\n",
      "Name: isDominated, dtype: int64\n",
      "1.0    219\n",
      "0.0     16\n",
      "Name: isDominated, dtype: int64\n",
      "1.0    10\n",
      "0.0     6\n",
      "Name: isDominated, dtype: int64\n",
      "1.0    206\n",
      "0.0     10\n",
      "Name: isDominated, dtype: int64\n",
      "1.0    426\n",
      "0.0     14\n",
      "Name: isDominated, dtype: int64\n",
      "1.0    155\n",
      "0.0      8\n",
      "Name: isDominated, dtype: int64\n",
      "1.0    1209\n",
      "0.0      20\n",
      "Name: isDominated, dtype: int64\n"
     ]
    }
   ],
   "source": [
    "# Get Run 2 \n",
    "dfs_run_2 = get_run_indices(dfs, 2)\n",
    "pfs_run_2 = [add_isdominated_cols(df) for df in dfs_run_2]\n",
    "combined_PF_run_2 = get_combined_PF(pfs_run_2)"
   ]
  },
  {
   "cell_type": "code",
   "execution_count": 45,
   "metadata": {},
   "outputs": [
    {
     "name": "stdout",
     "output_type": "stream",
     "text": [
      "1.0    92\n",
      "0.0     8\n",
      "Name: isDominated, dtype: int64\n",
      "1.0    237\n",
      "0.0     13\n",
      "Name: isDominated, dtype: int64\n",
      "1.0    113\n",
      "0.0     13\n",
      "Name: isDominated, dtype: int64\n",
      "1.0    157\n",
      "0.0     12\n",
      "Name: isDominated, dtype: int64\n",
      "1.0    280\n",
      "0.0     14\n",
      "Name: isDominated, dtype: int64\n",
      "1.0    149\n",
      "0.0      8\n",
      "Name: isDominated, dtype: int64\n",
      "1.0    1077\n",
      "0.0      14\n",
      "Name: isDominated, dtype: int64\n"
     ]
    }
   ],
   "source": [
    "# Get Run 3 \n",
    "dfs_run_3 = get_run_indices(dfs, 3)\n",
    "pfs_run_3 = [add_isdominated_cols(df) for df in dfs_run_3]\n",
    "combined_PF_run_3 = get_combined_PF(pfs_run_3)"
   ]
  },
  {
   "cell_type": "code",
   "execution_count": 46,
   "metadata": {},
   "outputs": [],
   "source": [
    "# Compute combined Pareto Front for run 1\n",
    "pfs_run_1 = [get_symmetric(df, sUDI) for df in pfs_run_1]\n",
    "combined_PF_run_1 = get_symmetric(combined_PF_run_1, sUDI)"
   ]
  },
  {
   "cell_type": "code",
   "execution_count": 47,
   "metadata": {},
   "outputs": [],
   "source": [
    "# Compute combined Pareto Front for run 2\n",
    "pfs_run_2 = [get_symmetric(df, sUDI) for df in pfs_run_2]\n",
    "combined_PF_run_2 = get_symmetric(combined_PF_run_2, sUDI)"
   ]
  },
  {
   "cell_type": "code",
   "execution_count": 48,
   "metadata": {},
   "outputs": [],
   "source": [
    "# Compute combined Pareto Front for run 3\n",
    "pfs_run_3 = [get_symmetric(df, sUDI) for df in pfs_run_3]\n",
    "combined_PF_run_3 = get_symmetric(combined_PF_run_3, sUDI)"
   ]
  },
  {
   "cell_type": "code",
   "execution_count": 49,
   "metadata": {},
   "outputs": [
    {
     "name": "stdout",
     "output_type": "stream",
     "text": [
      "1.0    369\n",
      "0.0     12\n",
      "Name: isDominated, dtype: int64\n",
      "1.0    642\n",
      "0.0     18\n",
      "Name: isDominated, dtype: int64\n",
      "1.0    215\n",
      "0.0     12\n",
      "Name: isDominated, dtype: int64\n",
      "1.0    535\n",
      "0.0     15\n",
      "Name: isDominated, dtype: int64\n",
      "1.0    1103\n",
      "0.0      17\n",
      "Name: isDominated, dtype: int64\n",
      "1.0    476\n",
      "0.0      9\n",
      "Name: isDominated, dtype: int64\n"
     ]
    }
   ],
   "source": [
    "# Get All Runs\n",
    "# Before running this run the previous cells (the ones that define dfs_run_{i})\n",
    "pfs_all_runs = []\n",
    "for i in range(n_algorithms):\n",
    "    pf=get_combined_PF([dfs_run_1[i], dfs_run_2[i], dfs_run_3[i]])\n",
    "    pf=get_symmetric(pf, sUDI)\n",
    "    pfs_all_runs.append(pf)"
   ]
  },
  {
   "cell_type": "markdown",
   "metadata": {},
   "source": [
    "#### Run 1"
   ]
  },
  {
   "cell_type": "code",
   "execution_count": 50,
   "metadata": {},
   "outputs": [
    {
     "data": {
      "text/html": [
       "\n",
       "        <iframe\n",
       "            width=\"900px\"\n",
       "            height=\"600px\"\n",
       "            src=\"https://plotly.com/~goncalo-araujo/1.embed\"\n",
       "            frameborder=\"0\"\n",
       "            allowfullscreen\n",
       "            \n",
       "        ></iframe>\n",
       "        "
      ],
      "text/plain": [
       "<IPython.lib.display.IFrame at 0x26731e619a0>"
      ]
     },
     "execution_count": 50,
     "metadata": {},
     "output_type": "execute_result"
    }
   ],
   "source": [
    "# Create plot with combined pareto front retrieved only from all algorithms of run 1\n",
    "create_pfs(pfs_run_1, x=material_cost, y=sUDI, tpf=combined_PF_run_1,\n",
    "           names=all_algorithms, draw_dominated=True, layout=layout_BP)"
   ]
  },
  {
   "cell_type": "code",
   "execution_count": 51,
   "metadata": {},
   "outputs": [
    {
     "data": {
      "text/html": [
       "\n",
       "        <iframe\n",
       "            width=\"900px\"\n",
       "            height=\"600px\"\n",
       "            src=\"https://plotly.com/~goncalo-araujo/1.embed\"\n",
       "            frameborder=\"0\"\n",
       "            allowfullscreen\n",
       "            \n",
       "        ></iframe>\n",
       "        "
      ],
      "text/plain": [
       "<IPython.lib.display.IFrame at 0x26731e5a0a0>"
      ]
     },
     "execution_count": 51,
     "metadata": {},
     "output_type": "execute_result"
    }
   ],
   "source": [
    "# Create plot with combined pareto front retrieved from all runs\n",
    "create_pfs(pfs_run_1, x=material_cost, y=sUDI, tpf=combined_pf, \n",
    "           names=all_algorithms, draw_dominated=True, layout=layout_BP)"
   ]
  },
  {
   "cell_type": "markdown",
   "metadata": {},
   "source": [
    "#### Run 2"
   ]
  },
  {
   "cell_type": "code",
   "execution_count": 52,
   "metadata": {},
   "outputs": [
    {
     "data": {
      "text/html": [
       "\n",
       "        <iframe\n",
       "            width=\"900px\"\n",
       "            height=\"600px\"\n",
       "            src=\"https://plotly.com/~goncalo-araujo/1.embed\"\n",
       "            frameborder=\"0\"\n",
       "            allowfullscreen\n",
       "            \n",
       "        ></iframe>\n",
       "        "
      ],
      "text/plain": [
       "<IPython.lib.display.IFrame at 0x26731e34b80>"
      ]
     },
     "execution_count": 52,
     "metadata": {},
     "output_type": "execute_result"
    }
   ],
   "source": [
    "# Create plot with combined pareto front retrieved only from all algorithms of run 2\n",
    "create_pfs(pfs_run_2, x=material_cost, y=sUDI, tpf=combined_PF_run_2, \n",
    "           names=all_algorithms, draw_dominated=True, layout=layout_BP)"
   ]
  },
  {
   "cell_type": "code",
   "execution_count": 53,
   "metadata": {},
   "outputs": [
    {
     "data": {
      "text/html": [
       "\n",
       "        <iframe\n",
       "            width=\"900px\"\n",
       "            height=\"600px\"\n",
       "            src=\"https://plotly.com/~goncalo-araujo/1.embed\"\n",
       "            frameborder=\"0\"\n",
       "            allowfullscreen\n",
       "            \n",
       "        ></iframe>\n",
       "        "
      ],
      "text/plain": [
       "<IPython.lib.display.IFrame at 0x26731e4eac0>"
      ]
     },
     "execution_count": 53,
     "metadata": {},
     "output_type": "execute_result"
    }
   ],
   "source": [
    "# Create plot with combined pareto front retrieved from all runs\n",
    "create_pfs(pfs_run_2, x=material_cost, y=sUDI, tpf=combined_pf, \n",
    "           names=all_algorithms, draw_dominated=True, layout=layout_BP)"
   ]
  },
  {
   "cell_type": "markdown",
   "metadata": {},
   "source": [
    "#### Run 3"
   ]
  },
  {
   "cell_type": "code",
   "execution_count": 54,
   "metadata": {},
   "outputs": [
    {
     "data": {
      "text/html": [
       "\n",
       "        <iframe\n",
       "            width=\"900px\"\n",
       "            height=\"600px\"\n",
       "            src=\"https://plotly.com/~goncalo-araujo/1.embed\"\n",
       "            frameborder=\"0\"\n",
       "            allowfullscreen\n",
       "            \n",
       "        ></iframe>\n",
       "        "
      ],
      "text/plain": [
       "<IPython.lib.display.IFrame at 0x26731e1e580>"
      ]
     },
     "execution_count": 54,
     "metadata": {},
     "output_type": "execute_result"
    }
   ],
   "source": [
    "# Create plot with combined pareto front retrieved only from all algorithms of run 3\n",
    "create_pfs(pfs_run_3, x=material_cost, y=sUDI, tpf=combined_PF_run_3, \n",
    "           names=all_algorithms, draw_dominated=True, layout=layout_BP)"
   ]
  },
  {
   "cell_type": "code",
   "execution_count": 55,
   "metadata": {},
   "outputs": [
    {
     "data": {
      "text/html": [
       "\n",
       "        <iframe\n",
       "            width=\"900px\"\n",
       "            height=\"600px\"\n",
       "            src=\"https://plotly.com/~goncalo-araujo/1.embed\"\n",
       "            frameborder=\"0\"\n",
       "            allowfullscreen\n",
       "            \n",
       "        ></iframe>\n",
       "        "
      ],
      "text/plain": [
       "<IPython.lib.display.IFrame at 0x26731e8dd00>"
      ]
     },
     "execution_count": 55,
     "metadata": {},
     "output_type": "execute_result"
    }
   ],
   "source": [
    "# Create plot with combined pareto front retrieved from all runs\n",
    "create_pfs(pfs_run_3, x=material_cost, y=sUDI, tpf=combined_pf, \n",
    "           names=all_algorithms, draw_dominated=True, layout=layout_BP)"
   ]
  },
  {
   "cell_type": "markdown",
   "metadata": {},
   "source": [
    "#### All Runs"
   ]
  },
  {
   "cell_type": "code",
   "execution_count": 56,
   "metadata": {},
   "outputs": [
    {
     "data": {
      "text/html": [
       "\n",
       "        <iframe\n",
       "            width=\"900px\"\n",
       "            height=\"600px\"\n",
       "            src=\"https://plotly.com/~goncalo-araujo/1.embed\"\n",
       "            frameborder=\"0\"\n",
       "            allowfullscreen\n",
       "            \n",
       "        ></iframe>\n",
       "        "
      ],
      "text/plain": [
       "<IPython.lib.display.IFrame at 0x26731ecfca0>"
      ]
     },
     "execution_count": 56,
     "metadata": {},
     "output_type": "execute_result"
    }
   ],
   "source": [
    "# Create plot with one PF per algorthim, using the information of the 3 runs\n",
    "create_pfs(pfs_all_runs, x=material_cost, y=sUDI, tpf=None, names=all_algorithms, \n",
    "           colorscale=None,\n",
    "           colors=['#93e0ed', '#307382', '#2fcce0', '#042780', \n",
    "                   '#fcb447', '#ff8000', '#db3f30', \n",
    "                   '#de7ec9', '#8a39db', '#db30b9'],\n",
    "           draw_dominated=False, layout=layout_BP)"
   ]
  },
  {
   "cell_type": "code",
   "execution_count": 57,
   "metadata": {},
   "outputs": [
    {
     "data": {
      "text/html": [
       "\n",
       "        <iframe\n",
       "            width=\"900px\"\n",
       "            height=\"600px\"\n",
       "            src=\"https://plotly.com/~goncalo-araujo/1.embed\"\n",
       "            frameborder=\"0\"\n",
       "            allowfullscreen\n",
       "            \n",
       "        ></iframe>\n",
       "        "
      ],
      "text/plain": [
       "<IPython.lib.display.IFrame at 0x26731e78190>"
      ]
     },
     "execution_count": 57,
     "metadata": {},
     "output_type": "execute_result"
    }
   ],
   "source": [
    "# Create plot with one PF per algorthim, using the information of the 3 runs and with the combined PF\n",
    "create_pfs(pfs_all_runs, x=material_cost, y=sUDI, tpf=combined_pf, tpf_color='#3b3b3b',\n",
    "           names=all_algorithms,\n",
    "           colorscale=None,\n",
    "           colors=['#E6739F', \n",
    "                   '#CC0E74', \n",
    "                   '#790C5A',\n",
    "                   '#a7d49f',\n",
    "                   '#75daad',\n",
    "                   '#216353'],\n",
    "           draw_dominated=False, layout=layout_BP)"
   ]
  }
 ],
 "metadata": {
  "@webio": {
   "lastCommId": null,
   "lastKernelId": null
  },
  "kernelspec": {
   "display_name": "Python 3 (ipykernel)",
   "language": "python",
   "name": "python3"
  },
  "language_info": {
   "codemirror_mode": {
    "name": "ipython",
    "version": 3
   },
   "file_extension": ".py",
   "mimetype": "text/x-python",
   "name": "python",
   "nbconvert_exporter": "python",
   "pygments_lexer": "ipython3",
   "version": "3.8.11"
  },
  "toc": {
   "base_numbering": 1,
   "nav_menu": {},
   "number_sections": true,
   "sideBar": true,
   "skip_h1_title": true,
   "title_cell": "Table of Contents",
   "title_sidebar": "Contents",
   "toc_cell": false,
   "toc_position": {},
   "toc_section_display": true,
   "toc_window_display": true
  }
 },
 "nbformat": 4,
 "nbformat_minor": 2
}
